{
 "cells": [
  {
   "cell_type": "markdown",
   "id": "9703bb6c",
   "metadata": {},
   "source": [
    "So, we are using ISCE2 for generating IFGs and we will process the geographic extents of a specified frame. The frames that are generated previously are grouped by *time* - that is we ensure a frame contains all the bursts that were imaged at the same time. However, when processing with ISCE2, we are only able to group bursts *geographically*, specifically, ISCE2 accepts a region of interest. The range direction of the image is constrained by the track. However, the azimuth direction of our frames need to be further constrained by latitude if there is going to be good agreement between our frame definition and what we see in our GUNW.\n",
    "\n",
    "This notebook will generate two additional datasets.\n",
    "\n",
    "1. Latitude aligned frames - these are frames whose North/South boundaries are aligned with a latitude line. This ensures that the GUNW processing will be better aligned with our frame definition.\n",
    "2. Expected GUNW extents for a given frame - the true extent of the GUNW if we have our region of interest dictated by a latitude aligned frame. This will generally be slightly larger than the frame definition.\n",
    "\n",
    "Note the Latitude-aligned frame will be a parallelogram with it's north/south edges aligned with a latitude line. When submitting the bounding box of this frame to ISCE2, we will get all the bursts that overlap this frame, so the expected GUNW will be *larger* than the frame definition. Even though our frames have a specified number of burst overlaps, there will likely be more overlap for this reason. Note the latitude aligned frames north/south edge overlaps its neighboring frame by only $\\approx$1 GUNW pixel ($\\approx$110 meters at the equator). Furthermore, we will want to keep track of both these datasets because the latter will necessary to specify the DEM extents (because we want DEM over all bursts that will be processed). Also, it will be helpful to see how the GUNWs submitted with these frames actually look."
   ]
  },
  {
   "cell_type": "code",
   "execution_count": 1,
   "id": "30777f00",
   "metadata": {
    "ExecuteTime": {
     "end_time": "2023-03-20T23:01:29.292460Z",
     "start_time": "2023-03-20T23:01:28.042748Z"
    }
   },
   "outputs": [
    {
     "name": "stderr",
     "output_type": "stream",
     "text": [
      "/var/folders/s6/fbsc26cd0ddffbp3_knts_9c0wcxj1/T/ipykernel_29753/2999978722.py:2: UserWarning: Shapely 2.0 is installed, but because PyGEOS is also installed, GeoPandas will still use PyGEOS by default for now. To force to use and test Shapely 2.0, you have to set the environment variable USE_PYGEOS=0. You can do this before starting the Python process, or in your code before importing geopandas:\n",
      "\n",
      "import os\n",
      "os.environ['USE_PYGEOS'] = '0'\n",
      "import geopandas\n",
      "\n",
      "In a future release, GeoPandas will switch to using Shapely by default. If you are using PyGEOS directly (calling PyGEOS functions on geometries from GeoPandas), this will then stop working and you are encouraged to migrate from PyGEOS to Shapely 2.0 (https://shapely.readthedocs.io/en/latest/migration_pygeos.html).\n",
      "  import geopandas as gpd\n"
     ]
    }
   ],
   "source": [
    "import sqlite3\n",
    "import geopandas as gpd\n",
    "import matplotlib.pyplot as plt\n",
    "import numpy as np\n",
    "from tqdm import tqdm\n",
    "import pandas as pd\n",
    "from rasterio.crs import CRS\n",
    "import warnings\n",
    "from shapely import Polygon\n",
    "from zip_io import to_geojson_zip\n",
    "from dateline import dateline_frame_fix"
   ]
  },
  {
   "cell_type": "markdown",
   "id": "2b11f597",
   "metadata": {},
   "source": [
    "# Parameters\n",
    "\n",
    "How the frames will overlap in latitude."
   ]
  },
  {
   "cell_type": "code",
   "execution_count": 2,
   "id": "aaaabd2f",
   "metadata": {
    "ExecuteTime": {
     "end_time": "2023-03-20T23:01:29.296943Z",
     "start_time": "2023-03-20T23:01:29.294699Z"
    }
   },
   "outputs": [],
   "source": [
    "OVERLAP_DEGREES_LATITUDE = .001\n",
    "SIMPLIFY_TOLERANCE = .001"
   ]
  },
  {
   "cell_type": "markdown",
   "id": "b61e8577",
   "metadata": {},
   "source": [
    "# Read Burst Data\n",
    "\n",
    "The data needs to be unzipped first in this directory."
   ]
  },
  {
   "cell_type": "code",
   "execution_count": 3,
   "id": "9deaecbe",
   "metadata": {
    "ExecuteTime": {
     "end_time": "2023-03-20T23:01:39.604221Z",
     "start_time": "2023-03-20T23:01:29.298659Z"
    }
   },
   "outputs": [
    {
     "name": "stdout",
     "output_type": "stream",
     "text": [
      "CPU times: user 9.29 s, sys: 934 ms, total: 10.2 s\n",
      "Wall time: 10.3 s\n"
     ]
    }
   ],
   "source": [
    "%%time\n",
    "\n",
    "# SQL must wrap the geometry in hex(st_asbinary(...))\n",
    "sql = \"SELECT * FROM burst_id_map;\"\n",
    "con = sqlite3.connect(\"S1_burstid_20220530/IW/sqlite/burst_map_IW_000001_375887.sqlite3\")\n",
    "\n",
    "df_burst = gpd.GeoDataFrame.from_postgis(sql, con, geom_col=\"GEOMETRY\")"
   ]
  },
  {
   "cell_type": "code",
   "execution_count": 4,
   "id": "915654bc",
   "metadata": {
    "ExecuteTime": {
     "end_time": "2023-03-20T23:01:39.612625Z",
     "start_time": "2023-03-20T23:01:39.606471Z"
    }
   },
   "outputs": [],
   "source": [
    "df_burst['relative_orbit_number_min'] = df_burst['relative_orbit_number']\n",
    "df_burst['relative_orbit_number_max'] = df_burst['relative_orbit_number']"
   ]
  },
  {
   "cell_type": "code",
   "execution_count": 5,
   "id": "1cd81dce",
   "metadata": {
    "ExecuteTime": {
     "end_time": "2023-03-20T23:01:39.628482Z",
     "start_time": "2023-03-20T23:01:39.614454Z"
    }
   },
   "outputs": [
    {
     "data": {
      "text/html": [
       "<div>\n",
       "<style scoped>\n",
       "    .dataframe tbody tr th:only-of-type {\n",
       "        vertical-align: middle;\n",
       "    }\n",
       "\n",
       "    .dataframe tbody tr th {\n",
       "        vertical-align: top;\n",
       "    }\n",
       "\n",
       "    .dataframe thead th {\n",
       "        text-align: right;\n",
       "    }\n",
       "</style>\n",
       "<table border=\"1\" class=\"dataframe\">\n",
       "  <thead>\n",
       "    <tr style=\"text-align: right;\">\n",
       "      <th></th>\n",
       "      <th>OGC_FID</th>\n",
       "      <th>GEOMETRY</th>\n",
       "      <th>burst_id</th>\n",
       "      <th>subswath_name</th>\n",
       "      <th>relative_orbit_number</th>\n",
       "      <th>time_from_anx_sec</th>\n",
       "      <th>orbit_pass</th>\n",
       "      <th>relative_orbit_number_min</th>\n",
       "      <th>relative_orbit_number_max</th>\n",
       "    </tr>\n",
       "  </thead>\n",
       "  <tbody>\n",
       "    <tr>\n",
       "      <th>0</th>\n",
       "      <td>1</td>\n",
       "      <td>MULTIPOLYGON Z (((3.36758 0.75322 0.00000, 3.7...</td>\n",
       "      <td>1</td>\n",
       "      <td>IW1</td>\n",
       "      <td>1</td>\n",
       "      <td>2.301015</td>\n",
       "      <td>ASCENDING</td>\n",
       "      <td>1</td>\n",
       "      <td>1</td>\n",
       "    </tr>\n",
       "    <tr>\n",
       "      <th>1</th>\n",
       "      <td>2</td>\n",
       "      <td>MULTIPOLYGON Z (((4.09178 0.97402 0.00000, 4.5...</td>\n",
       "      <td>1</td>\n",
       "      <td>IW2</td>\n",
       "      <td>1</td>\n",
       "      <td>3.133218</td>\n",
       "      <td>ASCENDING</td>\n",
       "      <td>1</td>\n",
       "      <td>1</td>\n",
       "    </tr>\n",
       "    <tr>\n",
       "      <th>2</th>\n",
       "      <td>3</td>\n",
       "      <td>MULTIPOLYGON Z (((4.85545 1.19200 0.00000, 5.2...</td>\n",
       "      <td>1</td>\n",
       "      <td>IW3</td>\n",
       "      <td>1</td>\n",
       "      <td>4.211255</td>\n",
       "      <td>ASCENDING</td>\n",
       "      <td>1</td>\n",
       "      <td>1</td>\n",
       "    </tr>\n",
       "    <tr>\n",
       "      <th>3</th>\n",
       "      <td>4</td>\n",
       "      <td>MULTIPOLYGON Z (((3.33269 0.92005 0.00000, 3.7...</td>\n",
       "      <td>2</td>\n",
       "      <td>IW1</td>\n",
       "      <td>1</td>\n",
       "      <td>5.059288</td>\n",
       "      <td>ASCENDING</td>\n",
       "      <td>1</td>\n",
       "      <td>1</td>\n",
       "    </tr>\n",
       "    <tr>\n",
       "      <th>4</th>\n",
       "      <td>5</td>\n",
       "      <td>MULTIPOLYGON Z (((4.05690 1.14071 0.00000, 4.4...</td>\n",
       "      <td>2</td>\n",
       "      <td>IW2</td>\n",
       "      <td>1</td>\n",
       "      <td>5.891491</td>\n",
       "      <td>ASCENDING</td>\n",
       "      <td>1</td>\n",
       "      <td>1</td>\n",
       "    </tr>\n",
       "  </tbody>\n",
       "</table>\n",
       "</div>"
      ],
      "text/plain": [
       "   OGC_FID                                           GEOMETRY  burst_id  \\\n",
       "0        1  MULTIPOLYGON Z (((3.36758 0.75322 0.00000, 3.7...         1   \n",
       "1        2  MULTIPOLYGON Z (((4.09178 0.97402 0.00000, 4.5...         1   \n",
       "2        3  MULTIPOLYGON Z (((4.85545 1.19200 0.00000, 5.2...         1   \n",
       "3        4  MULTIPOLYGON Z (((3.33269 0.92005 0.00000, 3.7...         2   \n",
       "4        5  MULTIPOLYGON Z (((4.05690 1.14071 0.00000, 4.4...         2   \n",
       "\n",
       "  subswath_name  relative_orbit_number  time_from_anx_sec orbit_pass  \\\n",
       "0           IW1                      1           2.301015  ASCENDING   \n",
       "1           IW2                      1           3.133218  ASCENDING   \n",
       "2           IW3                      1           4.211255  ASCENDING   \n",
       "3           IW1                      1           5.059288  ASCENDING   \n",
       "4           IW2                      1           5.891491  ASCENDING   \n",
       "\n",
       "   relative_orbit_number_min  relative_orbit_number_max  \n",
       "0                          1                          1  \n",
       "1                          1                          1  \n",
       "2                          1                          1  \n",
       "3                          1                          1  \n",
       "4                          1                          1  "
      ]
     },
     "execution_count": 5,
     "metadata": {},
     "output_type": "execute_result"
    }
   ],
   "source": [
    "df_burst.head()"
   ]
  },
  {
   "cell_type": "markdown",
   "id": "1164e895",
   "metadata": {},
   "source": [
    "So there is an important caveat in our approach. We want to carry out our geometric manipulations and still have the dateline corrections we had previously applied for our burst aligned frames (it's too hard to re-apply the same corrections without additional accounting/work). Since we perform the intersection using the bursts, we will just copy the bursts to the right and left of the -180/180 marks respectively, creating a slightly expanded dataframe, and use this for intersection."
   ]
  },
  {
   "cell_type": "code",
   "execution_count": 6,
   "id": "f06a23da",
   "metadata": {
    "ExecuteTime": {
     "end_time": "2023-03-20T23:02:08.185568Z",
     "start_time": "2023-03-20T23:01:39.630328Z"
    }
   },
   "outputs": [
    {
     "name": "stderr",
     "output_type": "stream",
     "text": [
      "/var/folders/s6/fbsc26cd0ddffbp3_knts_9c0wcxj1/T/ipykernel_29753/3552873204.py:12: FutureWarning: Currently, index_parts defaults to True, but in the future, it will default to False to be consistent with Pandas. Use `index_parts=True` to keep the current behavior and True/False to silence the warning.\n",
      "  df_burst_large = df_burst_large.explode()\n"
     ]
    },
    {
     "data": {
      "text/html": [
       "<div>\n",
       "<style scoped>\n",
       "    .dataframe tbody tr th:only-of-type {\n",
       "        vertical-align: middle;\n",
       "    }\n",
       "\n",
       "    .dataframe tbody tr th {\n",
       "        vertical-align: top;\n",
       "    }\n",
       "\n",
       "    .dataframe thead th {\n",
       "        text-align: right;\n",
       "    }\n",
       "</style>\n",
       "<table border=\"1\" class=\"dataframe\">\n",
       "  <thead>\n",
       "    <tr style=\"text-align: right;\">\n",
       "      <th></th>\n",
       "      <th></th>\n",
       "      <th>OGC_FID</th>\n",
       "      <th>burst_id</th>\n",
       "      <th>subswath_name</th>\n",
       "      <th>relative_orbit_number</th>\n",
       "      <th>time_from_anx_sec</th>\n",
       "      <th>orbit_pass</th>\n",
       "      <th>relative_orbit_number_min</th>\n",
       "      <th>relative_orbit_number_max</th>\n",
       "      <th>GEOMETRY</th>\n",
       "    </tr>\n",
       "  </thead>\n",
       "  <tbody>\n",
       "    <tr>\n",
       "      <th>0</th>\n",
       "      <th>0</th>\n",
       "      <td>1</td>\n",
       "      <td>1</td>\n",
       "      <td>IW1</td>\n",
       "      <td>1</td>\n",
       "      <td>2.301015</td>\n",
       "      <td>ASCENDING</td>\n",
       "      <td>1</td>\n",
       "      <td>1</td>\n",
       "      <td>POLYGON ((3.36731 0.75316, 3.32658 0.94794, 3....</td>\n",
       "    </tr>\n",
       "    <tr>\n",
       "      <th>1</th>\n",
       "      <th>0</th>\n",
       "      <td>2</td>\n",
       "      <td>1</td>\n",
       "      <td>IW2</td>\n",
       "      <td>1</td>\n",
       "      <td>3.133218</td>\n",
       "      <td>ASCENDING</td>\n",
       "      <td>1</td>\n",
       "      <td>1</td>\n",
       "      <td>POLYGON ((4.09151 0.97397, 4.05300 1.15801, 4....</td>\n",
       "    </tr>\n",
       "    <tr>\n",
       "      <th>2</th>\n",
       "      <th>0</th>\n",
       "      <td>3</td>\n",
       "      <td>1</td>\n",
       "      <td>IW3</td>\n",
       "      <td>1</td>\n",
       "      <td>4.211255</td>\n",
       "      <td>ASCENDING</td>\n",
       "      <td>1</td>\n",
       "      <td>1</td>\n",
       "      <td>POLYGON ((4.85518 1.19195, 4.81435 1.38714, 4....</td>\n",
       "    </tr>\n",
       "    <tr>\n",
       "      <th>3</th>\n",
       "      <th>0</th>\n",
       "      <td>4</td>\n",
       "      <td>2</td>\n",
       "      <td>IW1</td>\n",
       "      <td>1</td>\n",
       "      <td>5.059288</td>\n",
       "      <td>ASCENDING</td>\n",
       "      <td>1</td>\n",
       "      <td>1</td>\n",
       "      <td>POLYGON ((3.33242 0.92000, 3.29172 1.11478, 3....</td>\n",
       "    </tr>\n",
       "    <tr>\n",
       "      <th>4</th>\n",
       "      <th>0</th>\n",
       "      <td>5</td>\n",
       "      <td>2</td>\n",
       "      <td>IW2</td>\n",
       "      <td>1</td>\n",
       "      <td>5.891491</td>\n",
       "      <td>ASCENDING</td>\n",
       "      <td>1</td>\n",
       "      <td>1</td>\n",
       "      <td>POLYGON ((4.05663 1.14065, 4.01815 1.32471, 4....</td>\n",
       "    </tr>\n",
       "  </tbody>\n",
       "</table>\n",
       "</div>"
      ],
      "text/plain": [
       "     OGC_FID  burst_id subswath_name  relative_orbit_number  \\\n",
       "0 0        1         1           IW1                      1   \n",
       "1 0        2         1           IW2                      1   \n",
       "2 0        3         1           IW3                      1   \n",
       "3 0        4         2           IW1                      1   \n",
       "4 0        5         2           IW2                      1   \n",
       "\n",
       "     time_from_anx_sec orbit_pass  relative_orbit_number_min  \\\n",
       "0 0           2.301015  ASCENDING                          1   \n",
       "1 0           3.133218  ASCENDING                          1   \n",
       "2 0           4.211255  ASCENDING                          1   \n",
       "3 0           5.059288  ASCENDING                          1   \n",
       "4 0           5.891491  ASCENDING                          1   \n",
       "\n",
       "     relative_orbit_number_max  \\\n",
       "0 0                          1   \n",
       "1 0                          1   \n",
       "2 0                          1   \n",
       "3 0                          1   \n",
       "4 0                          1   \n",
       "\n",
       "                                              GEOMETRY  \n",
       "0 0  POLYGON ((3.36731 0.75316, 3.32658 0.94794, 3....  \n",
       "1 0  POLYGON ((4.09151 0.97397, 4.05300 1.15801, 4....  \n",
       "2 0  POLYGON ((4.85518 1.19195, 4.81435 1.38714, 4....  \n",
       "3 0  POLYGON ((3.33242 0.92000, 3.29172 1.11478, 3....  \n",
       "4 0  POLYGON ((4.05663 1.14065, 4.01815 1.32471, 4....  "
      ]
     },
     "execution_count": 6,
     "metadata": {},
     "output_type": "execute_result"
    }
   ],
   "source": [
    "df_burst_l = df_burst.cx[170:,:].copy()\n",
    "df_burst_l.geometry = df_burst_l.geometry.translate(xoff=-360, yoff=0)\n",
    "\n",
    "df_burst_r = df_burst.cx[:-170,:].copy()\n",
    "df_burst_r.geometry = df_burst_r.geometry.translate(xoff=360, yoff=0)\n",
    "\n",
    "df_burst_large = pd.concat([df_burst,\n",
    "                            df_burst_l,\n",
    "                            df_burst_r], axis=0).reset_index(drop=True)\n",
    "\n",
    "# Ensures we separate multipolygons across dateline\n",
    "df_burst_large = df_burst_large.explode()\n",
    "# 30 meter buffer so near the dateline, things are slightly smoother when taking their union\n",
    "df_burst_large.GEOMETRY = df_burst_large.GEOMETRY.buffer(0.0002777777777777777775)\n",
    "df_burst_large.head()"
   ]
  },
  {
   "cell_type": "markdown",
   "id": "1e1b58eb",
   "metadata": {},
   "source": [
    "# Reading our Burst-aligned Frames\n",
    "\n",
    "From the previous notebook."
   ]
  },
  {
   "cell_type": "code",
   "execution_count": 7,
   "id": "e46b69ab",
   "metadata": {
    "ExecuteTime": {
     "end_time": "2023-03-20T23:02:16.765510Z",
     "start_time": "2023-03-20T23:02:08.187034Z"
    }
   },
   "outputs": [],
   "source": [
    "df_burst_frame = gpd.read_file('s1_frames.geojson.zip')"
   ]
  },
  {
   "cell_type": "code",
   "execution_count": 8,
   "id": "872afca4",
   "metadata": {
    "ExecuteTime": {
     "end_time": "2023-03-20T23:02:16.776355Z",
     "start_time": "2023-03-20T23:02:16.767118Z"
    }
   },
   "outputs": [
    {
     "data": {
      "text/html": [
       "<div>\n",
       "<style scoped>\n",
       "    .dataframe tbody tr th:only-of-type {\n",
       "        vertical-align: middle;\n",
       "    }\n",
       "\n",
       "    .dataframe tbody tr th {\n",
       "        vertical-align: top;\n",
       "    }\n",
       "\n",
       "    .dataframe thead th {\n",
       "        text-align: right;\n",
       "    }\n",
       "</style>\n",
       "<table border=\"1\" class=\"dataframe\">\n",
       "  <thead>\n",
       "    <tr style=\"text-align: right;\">\n",
       "      <th></th>\n",
       "      <th>frame_id</th>\n",
       "      <th>OGC_FID_min</th>\n",
       "      <th>OGC_FID_max</th>\n",
       "      <th>burst_id_min</th>\n",
       "      <th>burst_id_max</th>\n",
       "      <th>relative_orbit_number_min</th>\n",
       "      <th>relative_orbit_number_max</th>\n",
       "      <th>orbit_direction</th>\n",
       "      <th>geometry</th>\n",
       "    </tr>\n",
       "  </thead>\n",
       "  <tbody>\n",
       "    <tr>\n",
       "      <th>0</th>\n",
       "      <td>0</td>\n",
       "      <td>22</td>\n",
       "      <td>45</td>\n",
       "      <td>8</td>\n",
       "      <td>15</td>\n",
       "      <td>1</td>\n",
       "      <td>1</td>\n",
       "      <td>ASCENDING</td>\n",
       "      <td>POLYGON Z ((3.08906 2.08797 0.00000, 3.08720 2...</td>\n",
       "    </tr>\n",
       "    <tr>\n",
       "      <th>1</th>\n",
       "      <td>1</td>\n",
       "      <td>43</td>\n",
       "      <td>66</td>\n",
       "      <td>15</td>\n",
       "      <td>22</td>\n",
       "      <td>1</td>\n",
       "      <td>1</td>\n",
       "      <td>ASCENDING</td>\n",
       "      <td>POLYGON Z ((2.84448 3.25558 0.00000, 2.84448 3...</td>\n",
       "    </tr>\n",
       "    <tr>\n",
       "      <th>2</th>\n",
       "      <td>2</td>\n",
       "      <td>64</td>\n",
       "      <td>87</td>\n",
       "      <td>22</td>\n",
       "      <td>29</td>\n",
       "      <td>1</td>\n",
       "      <td>1</td>\n",
       "      <td>ASCENDING</td>\n",
       "      <td>POLYGON Z ((2.60090 4.42328 0.00000, 2.60090 4...</td>\n",
       "    </tr>\n",
       "    <tr>\n",
       "      <th>3</th>\n",
       "      <td>3</td>\n",
       "      <td>85</td>\n",
       "      <td>108</td>\n",
       "      <td>29</td>\n",
       "      <td>36</td>\n",
       "      <td>1</td>\n",
       "      <td>1</td>\n",
       "      <td>ASCENDING</td>\n",
       "      <td>POLYGON Z ((2.35832 5.59108 0.00000, 2.35832 5...</td>\n",
       "    </tr>\n",
       "    <tr>\n",
       "      <th>4</th>\n",
       "      <td>4</td>\n",
       "      <td>106</td>\n",
       "      <td>129</td>\n",
       "      <td>36</td>\n",
       "      <td>43</td>\n",
       "      <td>1</td>\n",
       "      <td>1</td>\n",
       "      <td>ASCENDING</td>\n",
       "      <td>POLYGON Z ((2.11654 6.75894 0.00000, 2.11653 6...</td>\n",
       "    </tr>\n",
       "  </tbody>\n",
       "</table>\n",
       "</div>"
      ],
      "text/plain": [
       "   frame_id  OGC_FID_min  OGC_FID_max  burst_id_min  burst_id_max  \\\n",
       "0         0           22           45             8            15   \n",
       "1         1           43           66            15            22   \n",
       "2         2           64           87            22            29   \n",
       "3         3           85          108            29            36   \n",
       "4         4          106          129            36            43   \n",
       "\n",
       "   relative_orbit_number_min  relative_orbit_number_max orbit_direction  \\\n",
       "0                          1                          1       ASCENDING   \n",
       "1                          1                          1       ASCENDING   \n",
       "2                          1                          1       ASCENDING   \n",
       "3                          1                          1       ASCENDING   \n",
       "4                          1                          1       ASCENDING   \n",
       "\n",
       "                                            geometry  \n",
       "0  POLYGON Z ((3.08906 2.08797 0.00000, 3.08720 2...  \n",
       "1  POLYGON Z ((2.84448 3.25558 0.00000, 2.84448 3...  \n",
       "2  POLYGON Z ((2.60090 4.42328 0.00000, 2.60090 4...  \n",
       "3  POLYGON Z ((2.35832 5.59108 0.00000, 2.35832 5...  \n",
       "4  POLYGON Z ((2.11654 6.75894 0.00000, 2.11653 6...  "
      ]
     },
     "execution_count": 8,
     "metadata": {},
     "output_type": "execute_result"
    }
   ],
   "source": [
    "df_burst_frame.head()"
   ]
  },
  {
   "cell_type": "markdown",
   "id": "65a18055",
   "metadata": {},
   "source": [
    "# Generating Latitude-aligned Frames\n",
    "\n",
    "The bursts (within an image and our fixed frames) are grouped according to `OGC_FID // 3` (same integer quotient after division by 3). Further, the middle `OGC_FID` of `3n`, `3n+1`, `3n+2` is in the center of the 3 swaths. So, we will take the centroid of this middle burst (`3n+1`) and use that to draw a latitude line at the bottom and top of the frames we previously defined. Our final frame will be an envelope (i.e. axis-aligned rectangle in `shapely` speak) around the frame with latitude top/bottom line. From there, we interesect this box with the frame. We importantly note the burst frames are multipolygons at the dateline. However, we only want the *y* value, which is valued even if the geometries are \"wrapped\" around the dateline. That is the y-value of the centroid will be the same for a burst even it is a multipolygon around the dateline. Therefore, we can use the original bursts directly to look up the centroid. This is still very fast and no extra accounting needed."
   ]
  },
  {
   "cell_type": "code",
   "execution_count": 9,
   "id": "dafe023c",
   "metadata": {
    "ExecuteTime": {
     "end_time": "2023-03-20T23:02:16.822640Z",
     "start_time": "2023-03-20T23:02:16.777834Z"
    }
   },
   "outputs": [],
   "source": [
    "# We only want to lookup from the original burst dataset since we are interested in the y-coord of the centroid\n",
    "# Even if they are multipolygons, \n",
    "df_burst_ogc = df_burst.set_index('OGC_FID')"
   ]
  },
  {
   "cell_type": "code",
   "execution_count": 10,
   "id": "b7662760",
   "metadata": {
    "ExecuteTime": {
     "end_time": "2023-03-20T23:02:22.095127Z",
     "start_time": "2023-03-20T23:02:16.826999Z"
    }
   },
   "outputs": [],
   "source": [
    "centroid_min = df_burst_frame.OGC_FID_min.map(lambda ogc_fid: df_burst_ogc.loc[ogc_fid + 1].GEOMETRY.centroid)\n",
    "centroid_max = df_burst_frame.OGC_FID_max.map(lambda ogc_fid: df_burst_ogc.loc[ogc_fid - 1].GEOMETRY.centroid)"
   ]
  },
  {
   "cell_type": "code",
   "execution_count": 11,
   "id": "46e26be2",
   "metadata": {
    "ExecuteTime": {
     "end_time": "2023-03-20T23:02:22.546973Z",
     "start_time": "2023-03-20T23:02:22.096832Z"
    }
   },
   "outputs": [],
   "source": [
    "centroid_min_y = centroid_min.map(lambda geo: geo.coords[0][1])\n",
    "centroid_max_y = centroid_max.map(lambda geo: geo.coords[0][1])"
   ]
  },
  {
   "cell_type": "code",
   "execution_count": 12,
   "id": "bdb40149",
   "metadata": {
    "ExecuteTime": {
     "end_time": "2023-03-20T23:02:22.551808Z",
     "start_time": "2023-03-20T23:02:22.548650Z"
    }
   },
   "outputs": [],
   "source": [
    "df_burst_frame['centroid_min_y'] = centroid_min_y\n",
    "df_burst_frame['centroid_max_y'] = centroid_max_y"
   ]
  },
  {
   "cell_type": "code",
   "execution_count": 13,
   "id": "38ad3708",
   "metadata": {
    "ExecuteTime": {
     "end_time": "2023-03-20T23:02:22.575261Z",
     "start_time": "2023-03-20T23:02:22.553279Z"
    }
   },
   "outputs": [],
   "source": [
    "df_burst_centroid = df_burst_frame.copy()\n",
    "df_burst_centroid.geometry = centroid_min"
   ]
  },
  {
   "cell_type": "code",
   "execution_count": 14,
   "id": "5cbdeb39",
   "metadata": {
    "ExecuteTime": {
     "end_time": "2023-03-20T23:02:24.125668Z",
     "start_time": "2023-03-20T23:02:22.576901Z"
    }
   },
   "outputs": [],
   "source": [
    "def comp_top(row):\n",
    "    min_y = row['centroid_min_y']\n",
    "    max_y = row['centroid_max_y']\n",
    "    return min_y if min_y >= max_y else max_y\n",
    "\n",
    "def comp_bot(row):\n",
    "    min_y = row['centroid_min_y']\n",
    "    max_y = row['centroid_max_y']\n",
    "    return min_y if min_y <= max_y else max_y\n",
    "\n",
    "df_burst_frame['top_y'] = df_burst_frame.apply(comp_top, axis=1)\n",
    "df_burst_frame['bot_y'] = df_burst_frame.apply(comp_bot, axis=1)\n",
    "df_bounds = df_burst_frame.bounds\n",
    "df_burst_frame['xmin'] = df_bounds.minx - 2\n",
    "df_burst_frame['xmax'] = df_bounds.maxx + 2"
   ]
  },
  {
   "cell_type": "code",
   "execution_count": 15,
   "id": "895c666f",
   "metadata": {
    "ExecuteTime": {
     "end_time": "2023-03-20T23:02:29.653309Z",
     "start_time": "2023-03-20T23:02:24.127296Z"
    }
   },
   "outputs": [],
   "source": [
    "def get_yaxis_envelope(row, longitude_buffer=3):\n",
    "    geo = row['geometry']\n",
    "    top_y = row['top_y']\n",
    "    bot_y = row['bot_y']\n",
    "    \n",
    "    xmin = row['xmin']\n",
    "    xmax = row['xmax']\n",
    "    \n",
    "    geo = geo.minimum_rotated_rectangle\n",
    "    center_rect_x = geo.centroid.coords[0][0]\n",
    "    coords = geo.exterior.coords[:]\n",
    "    coords_clipped = [(c[0] - longitude_buffer if c[0] <= center_rect_x else c[0] + longitude_buffer, \n",
    "                       np.clip(c[1], \n",
    "                               bot_y - OVERLAP_DEGREES_LATITUDE, \n",
    "                               top_y + OVERLAP_DEGREES_LATITUDE))\n",
    "                      for c in coords]\n",
    "    return Polygon(coords_clipped).envelope\n",
    "\n",
    "df_burst_frame_envelope = df_burst_frame.copy()\n",
    "df_burst_frame_envelope.geometry = df_burst_frame_envelope.apply(get_yaxis_envelope, axis=1)"
   ]
  },
  {
   "cell_type": "code",
   "execution_count": 16,
   "id": "591791c8",
   "metadata": {
    "ExecuteTime": {
     "end_time": "2023-03-20T23:02:29.864345Z",
     "start_time": "2023-03-20T23:02:29.654930Z"
    }
   },
   "outputs": [
    {
     "data": {
      "text/plain": [
       "<Axes: >"
      ]
     },
     "execution_count": 16,
     "metadata": {},
     "output_type": "execute_result"
    },
    {
     "data": {
      "image/png": "[encoded data removed]",
      "text/plain": [
       "<Figure size 640x480 with 1 Axes>"
      ]
     },
     "metadata": {},
     "output_type": "display_data"
    }
   ],
   "source": [
    "fig, ax = plt.subplots()\n",
    "df_burst_frame_envelope.iloc[:10].plot(alpha=.25, ax=ax)\n",
    "df_burst_frame.iloc[:10].plot(alpha=.1, ax=ax)"
   ]
  },
  {
   "cell_type": "code",
   "execution_count": 17,
   "id": "862b2513",
   "metadata": {
    "ExecuteTime": {
     "end_time": "2023-03-20T23:02:59.552963Z",
     "start_time": "2023-03-20T23:02:29.866503Z"
    }
   },
   "outputs": [
    {
     "name": "stdout",
     "output_type": "stream",
     "text": [
      "CPU times: user 29 s, sys: 1.39 s, total: 30.4 s\n",
      "Wall time: 29.7 s\n"
     ]
    }
   ],
   "source": [
    "%%time\n",
    "\n",
    "from shapely import STRtree\n",
    "\n",
    "tree_frames = STRtree(df_burst_frame.geometry)\n",
    "tree_bursts = STRtree(df_burst_large.geometry)"
   ]
  },
  {
   "cell_type": "code",
   "execution_count": 18,
   "id": "7993e1a5",
   "metadata": {
    "ExecuteTime": {
     "end_time": "2023-03-20T23:05:00.351074Z",
     "start_time": "2023-03-20T23:02:59.554580Z"
    }
   },
   "outputs": [
    {
     "name": "stdout",
     "output_type": "stream",
     "text": [
      "CPU times: user 2min, sys: 346 ms, total: 2min\n",
      "Wall time: 2min\n"
     ]
    }
   ],
   "source": [
    "%%time\n",
    "\n",
    "def intersection_with_bursts(row):\n",
    "    geo = row['geometry']\n",
    "    idxs = tree_bursts.query(geo, predicate=\"intersects\")\n",
    "    df_temp = df_burst_large.iloc[idxs].reset_index(drop=True)\n",
    "    \n",
    "    track_min = row['relative_orbit_number_min']\n",
    "    track_max = row['relative_orbit_number_max']\n",
    "    \n",
    "    ind_min = df_temp.relative_orbit_number >= track_min\n",
    "    ind_max = df_temp.relative_orbit_number <= track_max\n",
    "    df_temp = df_temp[ind_min & ind_max].reset_index(drop=True)\n",
    "    \n",
    "    overlapping_bursts = df_temp.geometry.unary_union\n",
    "    return overlapping_bursts.intersection(geo)\n",
    "\n",
    "df_burst_frame_latitude_aligned = df_burst_frame_envelope.copy()\n",
    "df_burst_frame_latitude_aligned.geometry = df_burst_frame_envelope.apply(intersection_with_bursts, axis=1)"
   ]
  },
  {
   "cell_type": "code",
   "execution_count": 19,
   "id": "c7350bef",
   "metadata": {
    "ExecuteTime": {
     "end_time": "2023-03-20T23:05:00.582985Z",
     "start_time": "2023-03-20T23:05:00.352673Z"
    }
   },
   "outputs": [
    {
     "data": {
      "text/plain": [
       "<Axes: >"
      ]
     },
     "execution_count": 19,
     "metadata": {},
     "output_type": "execute_result"
    },
    {
     "data": {
      "image/png": "[encoded data removed]",
      "text/plain": [
       "<Figure size 640x480 with 1 Axes>"
      ]
     },
     "metadata": {},
     "output_type": "display_data"
    }
   ],
   "source": [
    "df_burst_frame_latitude_aligned.boundary.iloc[:3].plot(alpha=.5)"
   ]
  },
  {
   "cell_type": "code",
   "execution_count": 20,
   "id": "bdca3403",
   "metadata": {
    "ExecuteTime": {
     "end_time": "2023-03-20T23:05:03.806514Z",
     "start_time": "2023-03-20T23:05:00.585064Z"
    }
   },
   "outputs": [
    {
     "data": {
      "text/html": [
       "<div>\n",
       "<style scoped>\n",
       "    .dataframe tbody tr th:only-of-type {\n",
       "        vertical-align: middle;\n",
       "    }\n",
       "\n",
       "    .dataframe tbody tr th {\n",
       "        vertical-align: top;\n",
       "    }\n",
       "\n",
       "    .dataframe thead th {\n",
       "        text-align: right;\n",
       "    }\n",
       "</style>\n",
       "<table border=\"1\" class=\"dataframe\">\n",
       "  <thead>\n",
       "    <tr style=\"text-align: right;\">\n",
       "      <th></th>\n",
       "      <th>frame_id</th>\n",
       "      <th>relative_orbit_number_min</th>\n",
       "      <th>relative_orbit_number_max</th>\n",
       "      <th>orbit_direction</th>\n",
       "      <th>geometry</th>\n",
       "    </tr>\n",
       "  </thead>\n",
       "  <tbody>\n",
       "    <tr>\n",
       "      <th>0</th>\n",
       "      <td>0</td>\n",
       "      <td>1</td>\n",
       "      <td>1</td>\n",
       "      <td>ASCENDING</td>\n",
       "      <td>POLYGON ((3.01750 2.42121, 2.79603 3.48516, 5....</td>\n",
       "    </tr>\n",
       "    <tr>\n",
       "      <th>1</th>\n",
       "      <td>1</td>\n",
       "      <td>1</td>\n",
       "      <td>1</td>\n",
       "      <td>ASCENDING</td>\n",
       "      <td>POLYGON ((2.77361 3.58868, 2.55345 4.65139, 4....</td>\n",
       "    </tr>\n",
       "    <tr>\n",
       "      <th>2</th>\n",
       "      <td>2</td>\n",
       "      <td>1</td>\n",
       "      <td>1</td>\n",
       "      <td>ASCENDING</td>\n",
       "      <td>POLYGON ((2.53163 4.75694, 2.49721 4.92355, 2....</td>\n",
       "    </tr>\n",
       "    <tr>\n",
       "      <th>3</th>\n",
       "      <td>3</td>\n",
       "      <td>1</td>\n",
       "      <td>1</td>\n",
       "      <td>ASCENDING</td>\n",
       "      <td>POLYGON ((2.28921 5.92475, 2.06990 6.98409, 4....</td>\n",
       "    </tr>\n",
       "    <tr>\n",
       "      <th>4</th>\n",
       "      <td>4</td>\n",
       "      <td>1</td>\n",
       "      <td>1</td>\n",
       "      <td>ASCENDING</td>\n",
       "      <td>POLYGON ((2.04756 7.09261, 1.82913 8.15065, 4....</td>\n",
       "    </tr>\n",
       "  </tbody>\n",
       "</table>\n",
       "</div>"
      ],
      "text/plain": [
       "   frame_id  relative_orbit_number_min  relative_orbit_number_max  \\\n",
       "0         0                          1                          1   \n",
       "1         1                          1                          1   \n",
       "2         2                          1                          1   \n",
       "3         3                          1                          1   \n",
       "4         4                          1                          1   \n",
       "\n",
       "  orbit_direction                                           geometry  \n",
       "0       ASCENDING  POLYGON ((3.01750 2.42121, 2.79603 3.48516, 5....  \n",
       "1       ASCENDING  POLYGON ((2.77361 3.58868, 2.55345 4.65139, 4....  \n",
       "2       ASCENDING  POLYGON ((2.53163 4.75694, 2.49721 4.92355, 2....  \n",
       "3       ASCENDING  POLYGON ((2.28921 5.92475, 2.06990 6.98409, 4....  \n",
       "4       ASCENDING  POLYGON ((2.04756 7.09261, 1.82913 8.15065, 4....  "
      ]
     },
     "execution_count": 20,
     "metadata": {},
     "output_type": "execute_result"
    }
   ],
   "source": [
    "columns = ['frame_id', \n",
    "           'relative_orbit_number_min',\n",
    "           'relative_orbit_number_max',\n",
    "           'orbit_direction',\n",
    "           'geometry']\n",
    "df_burst_frame_latitude_aligned_final = df_burst_frame_latitude_aligned[columns].copy()\n",
    "# This vastly reduces the filesize of the file - parallelogram geometries are simple as well\n",
    "df_burst_frame_latitude_aligned_final.geometry = df_burst_frame_latitude_aligned_final.geometry.simplify(SIMPLIFY_TOLERANCE)\n",
    "df_burst_frame_latitude_aligned_final = df_burst_frame_latitude_aligned_final.sort_values(by='frame_id')\n",
    "df_burst_frame_latitude_aligned_final = df_burst_frame_latitude_aligned_final.reset_index(drop=True)\n",
    "df_burst_frame_latitude_aligned_final.head()"
   ]
  },
  {
   "cell_type": "markdown",
   "id": "fb03ba2b",
   "metadata": {
    "ExecuteTime": {
     "end_time": "2023-02-21T23:51:10.738492Z",
     "start_time": "2023-02-21T23:51:10.704806Z"
    }
   },
   "source": [
    "# Serialize"
   ]
  },
  {
   "cell_type": "code",
   "execution_count": 21,
   "id": "3644493d",
   "metadata": {
    "ExecuteTime": {
     "end_time": "2023-03-20T23:05:03.809986Z",
     "start_time": "2023-03-20T23:05:03.808207Z"
    }
   },
   "outputs": [],
   "source": [
    "# df_burst_frame_latitude_aligned_final.to_file('s1_frames_latitude_aligned.geojson', driver='GeoJSON')"
   ]
  },
  {
   "cell_type": "markdown",
   "id": "6f7e7f14",
   "metadata": {},
   "source": [
    "The file above is less than 20 MB as a geojson. So compression not really needed - it's nice to keep things small for version control. Gzip (i.e. `ZIP_DEFLATED`) works as a good compression method. I haven't done any research into comparing compression methods nor am I familiar with the various python standard library compression methods/tools. Got it to work and significantly reduced size to <4 MB. Sticking with this. Moreover, `geopandas` and QGIS can read zip files directly!"
   ]
  },
  {
   "cell_type": "code",
   "execution_count": 22,
   "id": "6526efb4",
   "metadata": {
    "ExecuteTime": {
     "end_time": "2023-03-20T23:05:06.767042Z",
     "start_time": "2023-03-20T23:05:03.811556Z"
    }
   },
   "outputs": [
    {
     "data": {
      "text/plain": [
       "'s1_frames_latitude_aligned.geojson.zip'"
      ]
     },
     "execution_count": 22,
     "metadata": {},
     "output_type": "execute_result"
    }
   ],
   "source": [
    "to_geojson_zip(df_burst_frame_latitude_aligned_final, 's1_frames_latitude_aligned.geojson.zip')\n",
    "\n",
    "# Illustrating that the above compressed file can be read through geopandas\n",
    "# df_test = gpd.read_file('s1_frames_latitude_aligned.geojson.zip')"
   ]
  },
  {
   "cell_type": "markdown",
   "id": "c3a935d9",
   "metadata": {},
   "source": [
    "# What do our GUNWs look Like?\n",
    "\n",
    "So, during ISCE2 processing, the extent of the GUNW will be determined by taking all bursts that *intersect* the region of interest, which is based on the bounding box around a frame (only option is to specify a bounding box). The top and bottom of the frame will intersect numerous bursts that are not entirely contained in the frame itself and therefore the GUNW extent will go beyond the frame. Further, we should know the expected GUNW extent during the processing because we will want the extent of the DEM to request.\n",
    "\n",
    "## Samples"
   ]
  },
  {
   "cell_type": "code",
   "execution_count": 23,
   "id": "05bc7a0c",
   "metadata": {
    "ExecuteTime": {
     "end_time": "2023-03-20T23:05:06.797743Z",
     "start_time": "2023-03-20T23:05:06.768689Z"
    }
   },
   "outputs": [],
   "source": [
    "K = 1000 #19910 #1000 \n",
    "T = 3\n",
    "\n",
    "gunws = []\n",
    "for t in range(T):\n",
    "\n",
    "    sample_frame = df_burst_frame_latitude_aligned.iloc[K + t]\n",
    "    geo_frame = sample_frame.geometry.envelope\n",
    "    # Near the equator, we can have frames with multiple tracks/relative orbit numbers\n",
    "    track_min = sample_frame['relative_orbit_number_min']\n",
    "    track_max = sample_frame['relative_orbit_number_max']\n",
    "    tracks = [track_min, track_max]\n",
    "    \n",
    "    sample_idxs = tree_bursts.query(geo_frame, predicate=\"intersects\")\n",
    "    df_gunw = df_burst_large.iloc[sample_idxs].reset_index(drop=True)\n",
    "    df_gunw = df_gunw[df_gunw.relative_orbit_number.isin(tracks)].copy()\n",
    "    df_gunw = df_gunw.dissolve()\n",
    "    gunws.append(df_gunw)\n",
    "    \n",
    "df_gunw_neighbor = pd.concat(gunws, axis=0).reset_index(drop=True)"
   ]
  },
  {
   "cell_type": "code",
   "execution_count": 24,
   "id": "7f12bd61",
   "metadata": {
    "ExecuteTime": {
     "end_time": "2023-03-20T23:05:07.179632Z",
     "start_time": "2023-03-20T23:05:06.799356Z"
    }
   },
   "outputs": [
    {
     "data": {
      "text/plain": [
       "(16.605954233322343, 23.906344754079818)"
      ]
     },
     "execution_count": 24,
     "metadata": {},
     "output_type": "execute_result"
    },
    {
     "data": {
      "image/png": "[encoded data removed]",
      "text/plain": [
       "<Figure size 640x480 with 1 Axes>"
      ]
     },
     "metadata": {},
     "output_type": "display_data"
    }
   ],
   "source": [
    "fig, ax= plt.subplots()\n",
    "df_gunw_neighbor.plot(alpha=.2, ax=ax)\n",
    "df_burst_centroid.iloc[K: K+T].plot(ax =ax)\n",
    "\n",
    "df_world = gpd.read_file(gpd.datasets.get_path('naturalearth_lowres'))\n",
    "xmin, ymin, xmax, ymax = df_gunw_neighbor.total_bounds\n",
    "df_world.plot(ax=ax, color='green',alpha=.25)\n",
    "\n",
    "\n",
    "df_burst_p = df_burst.cx[xmin: xmax, ymin: ymax]\n",
    "df_burst_p = df_burst_p[df_burst_p.relative_orbit_number_min == track_min]\n",
    "df_burst_p.boundary.plot(ax=ax, alpha=.1)\n",
    "\n",
    "ax.set_ylim(ymin-2, ymax+2)\n",
    "ax.set_xlim(xmin-2, xmax+2)"
   ]
  },
  {
   "cell_type": "markdown",
   "id": "71d2d051",
   "metadata": {
    "ExecuteTime": {
     "end_time": "2023-02-21T19:59:53.921355Z",
     "start_time": "2023-02-21T19:59:53.918903Z"
    }
   },
   "source": [
    "## Automate "
   ]
  },
  {
   "cell_type": "code",
   "execution_count": 25,
   "id": "bfb812d3",
   "metadata": {
    "ExecuteTime": {
     "end_time": "2023-03-20T23:05:07.185359Z",
     "start_time": "2023-03-20T23:05:07.181940Z"
    }
   },
   "outputs": [],
   "source": [
    "def get_slice(k, row):\n",
    "    geo_frame = row['geometry'].envelope\n",
    "    \n",
    "    # Near the equator, we can have frames with multiple tracks/relative orbit numbers\n",
    "    track_min = row['relative_orbit_number_min']\n",
    "    track_max = row['relative_orbit_number_max']\n",
    "    tracks = [track_min, track_max]\n",
    "    frame_id = row['frame_id']\n",
    "    \n",
    "    idxs = tree_bursts.query(geo_frame, predicate=\"intersects\")\n",
    "    df_slice = df_burst_large.iloc[idxs].copy()\n",
    "    \n",
    "    df_slice = df_slice[df_slice.relative_orbit_number.isin(tracks)].reset_index(drop=True)\n",
    "    df_slice['slice_index'] = k\n",
    "    df_slice['frame_id'] = frame_id\n",
    "    return df_slice"
   ]
  },
  {
   "cell_type": "code",
   "execution_count": 26,
   "id": "dfa7af9a",
   "metadata": {
    "ExecuteTime": {
     "end_time": "2023-03-20T23:06:12.145447Z",
     "start_time": "2023-03-20T23:05:07.187204Z"
    }
   },
   "outputs": [
    {
     "name": "stderr",
     "output_type": "stream",
     "text": [
      "100%|███| 27563/27563 [01:04<00:00, 425.20it/s]\n"
     ]
    }
   ],
   "source": [
    "df_slices = [get_slice(k, row) for k, row in tqdm(df_burst_frame_latitude_aligned.iterrows(),\n",
    "                                                  total=df_burst_frame_latitude_aligned.shape[0])]"
   ]
  },
  {
   "cell_type": "code",
   "execution_count": 27,
   "id": "2109a395",
   "metadata": {
    "ExecuteTime": {
     "end_time": "2023-03-20T23:06:19.157887Z",
     "start_time": "2023-03-20T23:06:12.147461Z"
    }
   },
   "outputs": [
    {
     "data": {
      "text/html": [
       "<div>\n",
       "<style scoped>\n",
       "    .dataframe tbody tr th:only-of-type {\n",
       "        vertical-align: middle;\n",
       "    }\n",
       "\n",
       "    .dataframe tbody tr th {\n",
       "        vertical-align: top;\n",
       "    }\n",
       "\n",
       "    .dataframe thead th {\n",
       "        text-align: right;\n",
       "    }\n",
       "</style>\n",
       "<table border=\"1\" class=\"dataframe\">\n",
       "  <thead>\n",
       "    <tr style=\"text-align: right;\">\n",
       "      <th></th>\n",
       "      <th>OGC_FID</th>\n",
       "      <th>burst_id</th>\n",
       "      <th>subswath_name</th>\n",
       "      <th>relative_orbit_number</th>\n",
       "      <th>time_from_anx_sec</th>\n",
       "      <th>orbit_pass</th>\n",
       "      <th>relative_orbit_number_min</th>\n",
       "      <th>relative_orbit_number_max</th>\n",
       "      <th>GEOMETRY</th>\n",
       "      <th>slice_index</th>\n",
       "      <th>frame_id</th>\n",
       "    </tr>\n",
       "  </thead>\n",
       "  <tbody>\n",
       "    <tr>\n",
       "      <th>0</th>\n",
       "      <td>20</td>\n",
       "      <td>7</td>\n",
       "      <td>IW2</td>\n",
       "      <td>1</td>\n",
       "      <td>19.682856</td>\n",
       "      <td>ASCENDING</td>\n",
       "      <td>1</td>\n",
       "      <td>1</td>\n",
       "      <td>POLYGON ((3.88264 1.97414, 3.84431 2.15822, 3....</td>\n",
       "      <td>0</td>\n",
       "      <td>0</td>\n",
       "    </tr>\n",
       "    <tr>\n",
       "      <th>1</th>\n",
       "      <td>23</td>\n",
       "      <td>8</td>\n",
       "      <td>IW2</td>\n",
       "      <td>1</td>\n",
       "      <td>22.441128</td>\n",
       "      <td>ASCENDING</td>\n",
       "      <td>1</td>\n",
       "      <td>1</td>\n",
       "      <td>POLYGON ((3.84792 2.14084, 3.80826 2.32463, 3....</td>\n",
       "      <td>0</td>\n",
       "      <td>0</td>\n",
       "    </tr>\n",
       "    <tr>\n",
       "      <th>2</th>\n",
       "      <td>25</td>\n",
       "      <td>9</td>\n",
       "      <td>IW1</td>\n",
       "      <td>1</td>\n",
       "      <td>24.367199</td>\n",
       "      <td>ASCENDING</td>\n",
       "      <td>1</td>\n",
       "      <td>1</td>\n",
       "      <td>POLYGON ((3.08693 2.08753, 3.04639 2.28233, 3....</td>\n",
       "      <td>0</td>\n",
       "      <td>0</td>\n",
       "    </tr>\n",
       "    <tr>\n",
       "      <th>3</th>\n",
       "      <td>21</td>\n",
       "      <td>7</td>\n",
       "      <td>IW3</td>\n",
       "      <td>1</td>\n",
       "      <td>20.760893</td>\n",
       "      <td>ASCENDING</td>\n",
       "      <td>1</td>\n",
       "      <td>1</td>\n",
       "      <td>POLYGON ((4.64669 2.19104, 4.60609 2.38627, 4....</td>\n",
       "      <td>0</td>\n",
       "      <td>0</td>\n",
       "    </tr>\n",
       "    <tr>\n",
       "      <th>4</th>\n",
       "      <td>26</td>\n",
       "      <td>9</td>\n",
       "      <td>IW2</td>\n",
       "      <td>1</td>\n",
       "      <td>25.199402</td>\n",
       "      <td>ASCENDING</td>\n",
       "      <td>1</td>\n",
       "      <td>1</td>\n",
       "      <td>POLYGON ((3.81187 2.30727, 3.77359 2.49134, 3....</td>\n",
       "      <td>0</td>\n",
       "      <td>0</td>\n",
       "    </tr>\n",
       "  </tbody>\n",
       "</table>\n",
       "</div>"
      ],
      "text/plain": [
       "   OGC_FID  burst_id subswath_name  relative_orbit_number  time_from_anx_sec  \\\n",
       "0       20         7           IW2                      1          19.682856   \n",
       "1       23         8           IW2                      1          22.441128   \n",
       "2       25         9           IW1                      1          24.367199   \n",
       "3       21         7           IW3                      1          20.760893   \n",
       "4       26         9           IW2                      1          25.199402   \n",
       "\n",
       "  orbit_pass  relative_orbit_number_min  relative_orbit_number_max  \\\n",
       "0  ASCENDING                          1                          1   \n",
       "1  ASCENDING                          1                          1   \n",
       "2  ASCENDING                          1                          1   \n",
       "3  ASCENDING                          1                          1   \n",
       "4  ASCENDING                          1                          1   \n",
       "\n",
       "                                            GEOMETRY  slice_index  frame_id  \n",
       "0  POLYGON ((3.88264 1.97414, 3.84431 2.15822, 3....            0         0  \n",
       "1  POLYGON ((3.84792 2.14084, 3.80826 2.32463, 3....            0         0  \n",
       "2  POLYGON ((3.08693 2.08753, 3.04639 2.28233, 3....            0         0  \n",
       "3  POLYGON ((4.64669 2.19104, 4.60609 2.38627, 4....            0         0  \n",
       "4  POLYGON ((3.81187 2.30727, 3.77359 2.49134, 3....            0         0  "
      ]
     },
     "execution_count": 27,
     "metadata": {},
     "output_type": "execute_result"
    }
   ],
   "source": [
    "df_slice = pd.concat(df_slices, axis=0)\n",
    "df_slice.head()"
   ]
  },
  {
   "cell_type": "code",
   "execution_count": 28,
   "id": "516fd36e",
   "metadata": {
    "ExecuteTime": {
     "end_time": "2023-03-20T23:06:19.395537Z",
     "start_time": "2023-03-20T23:06:19.164560Z"
    }
   },
   "outputs": [
    {
     "data": {
      "text/html": [
       "<div>\n",
       "<style scoped>\n",
       "    .dataframe tbody tr th:only-of-type {\n",
       "        vertical-align: middle;\n",
       "    }\n",
       "\n",
       "    .dataframe tbody tr th {\n",
       "        vertical-align: top;\n",
       "    }\n",
       "\n",
       "    .dataframe thead th {\n",
       "        text-align: right;\n",
       "    }\n",
       "</style>\n",
       "<table border=\"1\" class=\"dataframe\">\n",
       "  <thead>\n",
       "    <tr style=\"text-align: right;\">\n",
       "      <th></th>\n",
       "      <th>slice_index</th>\n",
       "      <th>geometry</th>\n",
       "      <th>frame_id</th>\n",
       "    </tr>\n",
       "  </thead>\n",
       "  <tbody>\n",
       "    <tr>\n",
       "      <th>0</th>\n",
       "      <td>0</td>\n",
       "      <td>POLYGON ((3.88264 1.97414, 3.84431 2.15822, 3....</td>\n",
       "      <td>0</td>\n",
       "    </tr>\n",
       "    <tr>\n",
       "      <th>1</th>\n",
       "      <td>0</td>\n",
       "      <td>POLYGON ((3.84792 2.14084, 3.80826 2.32463, 3....</td>\n",
       "      <td>0</td>\n",
       "    </tr>\n",
       "    <tr>\n",
       "      <th>2</th>\n",
       "      <td>0</td>\n",
       "      <td>POLYGON ((3.08693 2.08753, 3.04639 2.28233, 3....</td>\n",
       "      <td>0</td>\n",
       "    </tr>\n",
       "    <tr>\n",
       "      <th>3</th>\n",
       "      <td>0</td>\n",
       "      <td>POLYGON ((4.64669 2.19104, 4.60609 2.38627, 4....</td>\n",
       "      <td>0</td>\n",
       "    </tr>\n",
       "    <tr>\n",
       "      <th>4</th>\n",
       "      <td>0</td>\n",
       "      <td>POLYGON ((3.81187 2.30727, 3.77359 2.49134, 3....</td>\n",
       "      <td>0</td>\n",
       "    </tr>\n",
       "  </tbody>\n",
       "</table>\n",
       "</div>"
      ],
      "text/plain": [
       "   slice_index                                           geometry  frame_id\n",
       "0            0  POLYGON ((3.88264 1.97414, 3.84431 2.15822, 3....         0\n",
       "1            0  POLYGON ((3.84792 2.14084, 3.80826 2.32463, 3....         0\n",
       "2            0  POLYGON ((3.08693 2.08753, 3.04639 2.28233, 3....         0\n",
       "3            0  POLYGON ((4.64669 2.19104, 4.60609 2.38627, 4....         0\n",
       "4            0  POLYGON ((3.81187 2.30727, 3.77359 2.49134, 3....         0"
      ]
     },
     "execution_count": 28,
     "metadata": {},
     "output_type": "execute_result"
    }
   ],
   "source": [
    "df_slice = df_slice[['slice_index', 'GEOMETRY', 'frame_id']]\n",
    "df_slice = df_slice.rename(columns={'GEOMETRY':'geometry'})\n",
    "df_slice = df_slice.set_geometry(\"geometry\")\n",
    "df_slice = df_slice.set_crs(CRS.from_epsg(4326))\n",
    "df_slice.head()"
   ]
  },
  {
   "cell_type": "code",
   "execution_count": 29,
   "id": "e2d13504",
   "metadata": {
    "ExecuteTime": {
     "end_time": "2023-03-20T23:06:19.399148Z",
     "start_time": "2023-03-20T23:06:19.397232Z"
    }
   },
   "outputs": [],
   "source": [
    "# %%time\n",
    "# df_frame_gunw_extent = df_slice.dissolve(by='slice_index')"
   ]
  },
  {
   "cell_type": "code",
   "execution_count": 30,
   "id": "02dc0009",
   "metadata": {
    "ExecuteTime": {
     "end_time": "2023-03-20T23:06:20.204094Z",
     "start_time": "2023-03-20T23:06:19.404317Z"
    }
   },
   "outputs": [
    {
     "data": {
      "text/html": [
       "<div>\n",
       "<style scoped>\n",
       "    .dataframe tbody tr th:only-of-type {\n",
       "        vertical-align: middle;\n",
       "    }\n",
       "\n",
       "    .dataframe tbody tr th {\n",
       "        vertical-align: top;\n",
       "    }\n",
       "\n",
       "    .dataframe thead th {\n",
       "        text-align: right;\n",
       "    }\n",
       "</style>\n",
       "<table border=\"1\" class=\"dataframe\">\n",
       "  <thead>\n",
       "    <tr style=\"text-align: right;\">\n",
       "      <th></th>\n",
       "      <th>slice_index</th>\n",
       "      <th>geometry</th>\n",
       "      <th>frame_id</th>\n",
       "    </tr>\n",
       "  </thead>\n",
       "  <tbody>\n",
       "    <tr>\n",
       "      <th>0</th>\n",
       "      <td>0</td>\n",
       "      <td>POLYGON ((3.88264 1.97414, 3.84431 2.15822, 3....</td>\n",
       "      <td>0</td>\n",
       "    </tr>\n",
       "    <tr>\n",
       "      <th>0</th>\n",
       "      <td>17677</td>\n",
       "      <td>POLYGON ((111.90052 -70.47113, 111.50286 -70.3...</td>\n",
       "      <td>17785</td>\n",
       "    </tr>\n",
       "    <tr>\n",
       "      <th>0</th>\n",
       "      <td>8813</td>\n",
       "      <td>POLYGON ((35.29068 13.36278, 35.25170 13.55831...</td>\n",
       "      <td>8860</td>\n",
       "    </tr>\n",
       "    <tr>\n",
       "      <th>0</th>\n",
       "      <td>17678</td>\n",
       "      <td>POLYGON ((103.16416 -69.11784, 102.85279 -68.9...</td>\n",
       "      <td>17786</td>\n",
       "    </tr>\n",
       "    <tr>\n",
       "      <th>0</th>\n",
       "      <td>1664</td>\n",
       "      <td>POLYGON ((128.14960 -70.27721, 127.80291 -70.1...</td>\n",
       "      <td>1682</td>\n",
       "    </tr>\n",
       "  </tbody>\n",
       "</table>\n",
       "</div>"
      ],
      "text/plain": [
       "   slice_index                                           geometry  frame_id\n",
       "0            0  POLYGON ((3.88264 1.97414, 3.84431 2.15822, 3....         0\n",
       "0        17677  POLYGON ((111.90052 -70.47113, 111.50286 -70.3...     17785\n",
       "0         8813  POLYGON ((35.29068 13.36278, 35.25170 13.55831...      8860\n",
       "0        17678  POLYGON ((103.16416 -69.11784, 102.85279 -68.9...     17786\n",
       "0         1664  POLYGON ((128.14960 -70.27721, 127.80291 -70.1...      1682"
      ]
     },
     "execution_count": 30,
     "metadata": {},
     "output_type": "execute_result"
    }
   ],
   "source": [
    "import dask_geopandas\n",
    "\n",
    "df_slice_dask = dask_geopandas.from_geopandas(df_slice, npartitions=10)\n",
    "df_slice_dask.head()"
   ]
  },
  {
   "cell_type": "code",
   "execution_count": 31,
   "id": "2801014f",
   "metadata": {
    "ExecuteTime": {
     "end_time": "2023-03-20T23:06:20.232153Z",
     "start_time": "2023-03-20T23:06:20.206056Z"
    }
   },
   "outputs": [
    {
     "data": {
      "text/html": [
       "<div><strong>Dask-GeoPandas GeoDataFrame Structure:</strong></div>\n",
       "<div>\n",
       "<style scoped>\n",
       "    .dataframe tbody tr th:only-of-type {\n",
       "        vertical-align: middle;\n",
       "    }\n",
       "\n",
       "    .dataframe tbody tr th {\n",
       "        vertical-align: top;\n",
       "    }\n",
       "\n",
       "    .dataframe thead th {\n",
       "        text-align: right;\n",
       "    }\n",
       "</style>\n",
       "<table border=\"1\" class=\"dataframe\">\n",
       "  <thead>\n",
       "    <tr style=\"text-align: right;\">\n",
       "      <th></th>\n",
       "      <th>frame_id</th>\n",
       "      <th>geometry</th>\n",
       "    </tr>\n",
       "    <tr>\n",
       "      <th>npartitions=1</th>\n",
       "      <th></th>\n",
       "      <th></th>\n",
       "    </tr>\n",
       "  </thead>\n",
       "  <tbody>\n",
       "    <tr>\n",
       "      <th></th>\n",
       "      <td>int64</td>\n",
       "      <td>geometry</td>\n",
       "    </tr>\n",
       "    <tr>\n",
       "      <th></th>\n",
       "      <td>...</td>\n",
       "      <td>...</td>\n",
       "    </tr>\n",
       "  </tbody>\n",
       "</table>\n",
       "</div>\n",
       "<div>Dask Name: set_crs, 5 graph layers</div>"
      ],
      "text/plain": [
       "Dask GeoDataFrame Structure:\n",
       "              frame_id  geometry\n",
       "npartitions=1                   \n",
       "                 int64  geometry\n",
       "                   ...       ...\n",
       "Dask Name: set_crs, 5 graph layers"
      ]
     },
     "execution_count": 31,
     "metadata": {},
     "output_type": "execute_result"
    }
   ],
   "source": [
    "df_frames_0 = df_slice_dask.dissolve(by='slice_index')\n",
    "df_frames_0"
   ]
  },
  {
   "cell_type": "code",
   "execution_count": 32,
   "id": "c2765468",
   "metadata": {
    "ExecuteTime": {
     "end_time": "2023-03-20T23:07:47.005005Z",
     "start_time": "2023-03-20T23:06:20.233965Z"
    }
   },
   "outputs": [
    {
     "name": "stdout",
     "output_type": "stream",
     "text": [
      "CPU times: user 2min 12s, sys: 7.53 s, total: 2min 20s\n",
      "Wall time: 1min 26s\n"
     ]
    },
    {
     "data": {
      "text/html": [
       "<div>\n",
       "<style scoped>\n",
       "    .dataframe tbody tr th:only-of-type {\n",
       "        vertical-align: middle;\n",
       "    }\n",
       "\n",
       "    .dataframe tbody tr th {\n",
       "        vertical-align: top;\n",
       "    }\n",
       "\n",
       "    .dataframe thead th {\n",
       "        text-align: right;\n",
       "    }\n",
       "</style>\n",
       "<table border=\"1\" class=\"dataframe\">\n",
       "  <thead>\n",
       "    <tr style=\"text-align: right;\">\n",
       "      <th></th>\n",
       "      <th>frame_id</th>\n",
       "      <th>geometry</th>\n",
       "    </tr>\n",
       "  </thead>\n",
       "  <tbody>\n",
       "    <tr>\n",
       "      <th>0</th>\n",
       "      <td>0</td>\n",
       "      <td>POLYGON ((5.38733 2.16933, 5.38734 2.16930, 5....</td>\n",
       "    </tr>\n",
       "    <tr>\n",
       "      <th>1</th>\n",
       "      <td>1</td>\n",
       "      <td>POLYGON ((3.60064 3.32495, 3.58372 3.40669, 3....</td>\n",
       "    </tr>\n",
       "    <tr>\n",
       "      <th>2</th>\n",
       "      <td>2</td>\n",
       "      <td>POLYGON ((2.60095 4.42301, 2.60093 4.42300, 2....</td>\n",
       "    </tr>\n",
       "    <tr>\n",
       "      <th>3</th>\n",
       "      <td>3</td>\n",
       "      <td>POLYGON ((2.28811 5.93010, 2.28344 5.95273, 2....</td>\n",
       "    </tr>\n",
       "    <tr>\n",
       "      <th>4</th>\n",
       "      <td>4</td>\n",
       "      <td>POLYGON ((2.07614 6.95375, 2.04756 7.09261, 2....</td>\n",
       "    </tr>\n",
       "  </tbody>\n",
       "</table>\n",
       "</div>"
      ],
      "text/plain": [
       "   frame_id                                           geometry\n",
       "0         0  POLYGON ((5.38733 2.16933, 5.38734 2.16930, 5....\n",
       "1         1  POLYGON ((3.60064 3.32495, 3.58372 3.40669, 3....\n",
       "2         2  POLYGON ((2.60095 4.42301, 2.60093 4.42300, 2....\n",
       "3         3  POLYGON ((2.28811 5.93010, 2.28344 5.95273, 2....\n",
       "4         4  POLYGON ((2.07614 6.95375, 2.04756 7.09261, 2...."
      ]
     },
     "execution_count": 32,
     "metadata": {},
     "output_type": "execute_result"
    }
   ],
   "source": [
    "%%time\n",
    "\n",
    "df_frame_gunw_extent = df_frames_0.compute()\n",
    "df_frame_gunw_extent = df_frame_gunw_extent.sort_values(by='frame_id').reset_index(drop=True)\n",
    "df_frame_gunw_extent.head()"
   ]
  },
  {
   "cell_type": "markdown",
   "id": "f0543f24",
   "metadata": {},
   "source": [
    "# Visualization"
   ]
  },
  {
   "cell_type": "code",
   "execution_count": 33,
   "id": "d3f5b7c3",
   "metadata": {
    "ExecuteTime": {
     "end_time": "2023-03-20T23:07:47.008871Z",
     "start_time": "2023-03-20T23:07:47.006665Z"
    }
   },
   "outputs": [],
   "source": [
    "K = 20_000"
   ]
  },
  {
   "cell_type": "code",
   "execution_count": 34,
   "id": "502a9410",
   "metadata": {
    "ExecuteTime": {
     "end_time": "2023-03-20T23:07:47.019633Z",
     "start_time": "2023-03-20T23:07:47.010543Z"
    }
   },
   "outputs": [
    {
     "data": {
      "text/html": [
       "<div>\n",
       "<style scoped>\n",
       "    .dataframe tbody tr th:only-of-type {\n",
       "        vertical-align: middle;\n",
       "    }\n",
       "\n",
       "    .dataframe tbody tr th {\n",
       "        vertical-align: top;\n",
       "    }\n",
       "\n",
       "    .dataframe thead th {\n",
       "        text-align: right;\n",
       "    }\n",
       "</style>\n",
       "<table border=\"1\" class=\"dataframe\">\n",
       "  <thead>\n",
       "    <tr style=\"text-align: right;\">\n",
       "      <th></th>\n",
       "      <th>frame_id</th>\n",
       "      <th>geometry</th>\n",
       "    </tr>\n",
       "  </thead>\n",
       "  <tbody>\n",
       "    <tr>\n",
       "      <th>0</th>\n",
       "      <td>0</td>\n",
       "      <td>POLYGON ((5.38733 2.16933, 5.38734 2.16930, 5....</td>\n",
       "    </tr>\n",
       "    <tr>\n",
       "      <th>1</th>\n",
       "      <td>1</td>\n",
       "      <td>POLYGON ((3.60064 3.32495, 3.58372 3.40669, 3....</td>\n",
       "    </tr>\n",
       "    <tr>\n",
       "      <th>2</th>\n",
       "      <td>2</td>\n",
       "      <td>POLYGON ((2.60095 4.42301, 2.60093 4.42300, 2....</td>\n",
       "    </tr>\n",
       "    <tr>\n",
       "      <th>3</th>\n",
       "      <td>3</td>\n",
       "      <td>POLYGON ((2.28811 5.93010, 2.28344 5.95273, 2....</td>\n",
       "    </tr>\n",
       "    <tr>\n",
       "      <th>4</th>\n",
       "      <td>4</td>\n",
       "      <td>POLYGON ((2.07614 6.95375, 2.04756 7.09261, 2....</td>\n",
       "    </tr>\n",
       "  </tbody>\n",
       "</table>\n",
       "</div>"
      ],
      "text/plain": [
       "   frame_id                                           geometry\n",
       "0         0  POLYGON ((5.38733 2.16933, 5.38734 2.16930, 5....\n",
       "1         1  POLYGON ((3.60064 3.32495, 3.58372 3.40669, 3....\n",
       "2         2  POLYGON ((2.60095 4.42301, 2.60093 4.42300, 2....\n",
       "3         3  POLYGON ((2.28811 5.93010, 2.28344 5.95273, 2....\n",
       "4         4  POLYGON ((2.07614 6.95375, 2.04756 7.09261, 2...."
      ]
     },
     "execution_count": 34,
     "metadata": {},
     "output_type": "execute_result"
    }
   ],
   "source": [
    "df_frame_gunw_extent.head()"
   ]
  },
  {
   "cell_type": "code",
   "execution_count": 35,
   "id": "4b423df4",
   "metadata": {
    "ExecuteTime": {
     "end_time": "2023-03-20T23:07:47.195638Z",
     "start_time": "2023-03-20T23:07:47.021401Z"
    }
   },
   "outputs": [
    {
     "data": {
      "text/plain": [
       "<Axes: >"
      ]
     },
     "execution_count": 35,
     "metadata": {},
     "output_type": "execute_result"
    },
    {
     "data": {
      "image/png": "[encoded data removed]",
      "text/plain": [
       "<Figure size 640x480 with 1 Axes>"
      ]
     },
     "metadata": {},
     "output_type": "display_data"
    }
   ],
   "source": [
    "fig, ax = plt.subplots()\n",
    "s = np.s_[K: K+10]\n",
    "df_frame_gunw_extent.set_index('frame_id').loc[s].plot(alpha=.14, ax=ax)\n",
    "df_burst_frame_latitude_aligned.set_index('frame_id').loc[s].boundary.plot(color='black', ax=ax)"
   ]
  },
  {
   "cell_type": "code",
   "execution_count": 36,
   "id": "23609589",
   "metadata": {
    "ExecuteTime": {
     "end_time": "2023-03-20T23:07:47.209110Z",
     "start_time": "2023-03-20T23:07:47.198530Z"
    }
   },
   "outputs": [
    {
     "data": {
      "text/plain": [
       "Int64Index([20000, 20001, 20002, 20003, 20004, 20005, 20006, 20007, 20008,\n",
       "            20009, 20010],\n",
       "           dtype='int64', name='frame_id')"
      ]
     },
     "execution_count": 36,
     "metadata": {},
     "output_type": "execute_result"
    }
   ],
   "source": [
    "df_frame_gunw_extent.set_index('frame_id').loc[s].index"
   ]
  },
  {
   "cell_type": "code",
   "execution_count": 37,
   "id": "a16692e1",
   "metadata": {
    "ExecuteTime": {
     "end_time": "2023-03-20T23:07:47.224521Z",
     "start_time": "2023-03-20T23:07:47.211973Z"
    }
   },
   "outputs": [
    {
     "data": {
      "text/plain": [
       "Int64Index([20000, 20001, 20002, 20003, 20004, 20005, 20006, 20007, 20008,\n",
       "            20009, 20010],\n",
       "           dtype='int64', name='frame_id')"
      ]
     },
     "execution_count": 37,
     "metadata": {},
     "output_type": "execute_result"
    }
   ],
   "source": [
    "df_burst_frame_latitude_aligned.set_index('frame_id').loc[s].index"
   ]
  },
  {
   "cell_type": "markdown",
   "id": "78c7ca1f",
   "metadata": {},
   "source": [
    "# Serialization"
   ]
  },
  {
   "cell_type": "markdown",
   "id": "f6ce0728",
   "metadata": {},
   "source": [
    "For the GUNW plugin:"
   ]
  },
  {
   "cell_type": "code",
   "execution_count": 38,
   "id": "e735cc1c",
   "metadata": {
    "ExecuteTime": {
     "end_time": "2023-03-20T23:08:24.909344Z",
     "start_time": "2023-03-20T23:07:47.227762Z"
    }
   },
   "outputs": [
    {
     "data": {
      "text/plain": [
       "'s1_gunw_frame_footprints.geojson.zip'"
      ]
     },
     "execution_count": 38,
     "metadata": {},
     "output_type": "execute_result"
    }
   ],
   "source": [
    "# df_frame_gunw_extent.to_file('s1_frames_latitude_aligned_gunw_footprint.geojson')\n",
    "to_geojson_zip(df_frame_gunw_extent, 's1_gunw_frame_footprints.geojson.zip')"
   ]
  },
  {
   "cell_type": "code",
   "execution_count": null,
   "id": "9b7386d2",
   "metadata": {},
   "outputs": [],
   "source": []
  }
 ],
 "metadata": {
  "kernelspec": {
   "display_name": "s1-frame-generation",
   "language": "python",
   "name": "s1-frame-generation"
  },
  "language_info": {
   "codemirror_mode": {
    "name": "ipython",
    "version": 3
   },
   "file_extension": ".py",
   "mimetype": "text/x-python",
   "name": "python",
   "nbconvert_exporter": "python",
   "pygments_lexer": "ipython3",
   "version": "3.11.0"
  }
 },
 "nbformat": 4,
 "nbformat_minor": 5
}

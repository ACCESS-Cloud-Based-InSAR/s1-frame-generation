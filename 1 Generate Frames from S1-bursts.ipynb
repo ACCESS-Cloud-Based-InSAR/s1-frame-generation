{
 "cells": [
  {
   "cell_type": "markdown",
   "id": "1e54200e",
   "metadata": {},
   "source": [
    "A well known issue with Sentinel-1 frames as they are distributed is that they are not consistent in time. A fixed-size frame can move along track North or South. This makes time-series enumeration of SLCs for interferograms more complciated.\n",
    "\n",
    "This notebook takes us through  making the Sentinel-1 \"fixed-frames\" (or here just \"frames\") derived from the burst footprints. Bursts are fixed footprints that represent imaging area of the Sentinel-1 IW-mode SAR. The burst map data has generated huge excitement because they represent fixed gegraphic areas through time. The frames that we are defining are a self-imposed organization scheme to allow us to perform large regional scale time-series analysis at roughly the scale of the originally distributed ESA frames.\n",
    "\n",
    "The burst maps are downloaded from ESA [page](https://sar-mpc.eu/test-data-sets/). We downloaded `S1_burstid_20220530`.\n",
    "\n",
    "There is some discussion about the metadata found in this table the next notebook. Here, we jumping right to do it to take each burst (across all three swaths) and collect them into a group of 10 within a \"frame\" so that each frame has a 2 burst overlap. Of course, the number of bursts within a frame and of overlapping neighboring frames could easily be re-configured here. These are based on the approximate size of frames as they are currently distributed via ESA."
   ]
  },
  {
   "cell_type": "code",
   "execution_count": 1,
   "id": "d80f9514",
   "metadata": {
    "ExecuteTime": {
     "end_time": "2022-12-20T19:24:16.174292Z",
     "start_time": "2022-12-20T19:24:14.014053Z"
    }
   },
   "outputs": [],
   "source": [
    "import sqlite3\n",
    "import geopandas as gpd\n",
    "import matplotlib.pyplot as plt\n",
    "import numpy as np\n",
    "from tqdm import tqdm\n",
    "import pandas as pd\n",
    "from dem_stitcher.datasets import get_dem_tile_extents\n",
    "from rasterio.crs import CRS\n",
    "import warnings"
   ]
  },
  {
   "cell_type": "markdown",
   "id": "da3c6f42",
   "metadata": {},
   "source": [
    "# Read Burst Data\n",
    "\n",
    "The data needs to be unzipped first in this directory."
   ]
  },
  {
   "cell_type": "code",
   "execution_count": 2,
   "id": "63398c32",
   "metadata": {
    "ExecuteTime": {
     "end_time": "2022-12-20T19:24:39.098549Z",
     "start_time": "2022-12-20T19:24:16.176293Z"
    }
   },
   "outputs": [
    {
     "name": "stdout",
     "output_type": "stream",
     "text": [
      "CPU times: user 2 µs, sys: 1e+03 ns, total: 3 µs\n",
      "Wall time: 5.25 µs\n"
     ]
    }
   ],
   "source": [
    "%time\n",
    "\n",
    "# SQL must wrap the geometry in hex(st_asbinary(...))\n",
    "sql = \"SELECT * FROM burst_id_map;\"\n",
    "con = sqlite3.connect(\"S1_burstid_20220530/IW/sqlite/burst_map_IW_000001_375887.sqlite3\")\n",
    "\n",
    "df_burst = gpd.GeoDataFrame.from_postgis(sql, con, geom_col=\"GEOMETRY\")"
   ]
  },
  {
   "cell_type": "code",
   "execution_count": 3,
   "id": "54860551",
   "metadata": {
    "ExecuteTime": {
     "end_time": "2022-12-20T19:24:39.114512Z",
     "start_time": "2022-12-20T19:24:39.100025Z"
    }
   },
   "outputs": [
    {
     "data": {
      "text/html": [
       "<div>\n",
       "<style scoped>\n",
       "    .dataframe tbody tr th:only-of-type {\n",
       "        vertical-align: middle;\n",
       "    }\n",
       "\n",
       "    .dataframe tbody tr th {\n",
       "        vertical-align: top;\n",
       "    }\n",
       "\n",
       "    .dataframe thead th {\n",
       "        text-align: right;\n",
       "    }\n",
       "</style>\n",
       "<table border=\"1\" class=\"dataframe\">\n",
       "  <thead>\n",
       "    <tr style=\"text-align: right;\">\n",
       "      <th></th>\n",
       "      <th>OGC_FID</th>\n",
       "      <th>GEOMETRY</th>\n",
       "      <th>burst_id</th>\n",
       "      <th>subswath_name</th>\n",
       "      <th>relative_orbit_number</th>\n",
       "      <th>time_from_anx_sec</th>\n",
       "      <th>orbit_pass</th>\n",
       "    </tr>\n",
       "  </thead>\n",
       "  <tbody>\n",
       "    <tr>\n",
       "      <th>0</th>\n",
       "      <td>1</td>\n",
       "      <td>MULTIPOLYGON Z (((3.36758 0.75322 0.00000, 3.7...</td>\n",
       "      <td>1</td>\n",
       "      <td>IW1</td>\n",
       "      <td>1</td>\n",
       "      <td>2.301015</td>\n",
       "      <td>ASCENDING</td>\n",
       "    </tr>\n",
       "    <tr>\n",
       "      <th>1</th>\n",
       "      <td>2</td>\n",
       "      <td>MULTIPOLYGON Z (((4.09178 0.97402 0.00000, 4.5...</td>\n",
       "      <td>1</td>\n",
       "      <td>IW2</td>\n",
       "      <td>1</td>\n",
       "      <td>3.133218</td>\n",
       "      <td>ASCENDING</td>\n",
       "    </tr>\n",
       "    <tr>\n",
       "      <th>2</th>\n",
       "      <td>3</td>\n",
       "      <td>MULTIPOLYGON Z (((4.85545 1.19200 0.00000, 5.2...</td>\n",
       "      <td>1</td>\n",
       "      <td>IW3</td>\n",
       "      <td>1</td>\n",
       "      <td>4.211255</td>\n",
       "      <td>ASCENDING</td>\n",
       "    </tr>\n",
       "    <tr>\n",
       "      <th>3</th>\n",
       "      <td>4</td>\n",
       "      <td>MULTIPOLYGON Z (((3.33269 0.92005 0.00000, 3.7...</td>\n",
       "      <td>2</td>\n",
       "      <td>IW1</td>\n",
       "      <td>1</td>\n",
       "      <td>5.059288</td>\n",
       "      <td>ASCENDING</td>\n",
       "    </tr>\n",
       "    <tr>\n",
       "      <th>4</th>\n",
       "      <td>5</td>\n",
       "      <td>MULTIPOLYGON Z (((4.05690 1.14071 0.00000, 4.4...</td>\n",
       "      <td>2</td>\n",
       "      <td>IW2</td>\n",
       "      <td>1</td>\n",
       "      <td>5.891491</td>\n",
       "      <td>ASCENDING</td>\n",
       "    </tr>\n",
       "  </tbody>\n",
       "</table>\n",
       "</div>"
      ],
      "text/plain": [
       "   OGC_FID                                           GEOMETRY  burst_id  \\\n",
       "0        1  MULTIPOLYGON Z (((3.36758 0.75322 0.00000, 3.7...         1   \n",
       "1        2  MULTIPOLYGON Z (((4.09178 0.97402 0.00000, 4.5...         1   \n",
       "2        3  MULTIPOLYGON Z (((4.85545 1.19200 0.00000, 5.2...         1   \n",
       "3        4  MULTIPOLYGON Z (((3.33269 0.92005 0.00000, 3.7...         2   \n",
       "4        5  MULTIPOLYGON Z (((4.05690 1.14071 0.00000, 4.4...         2   \n",
       "\n",
       "  subswath_name  relative_orbit_number  time_from_anx_sec orbit_pass  \n",
       "0           IW1                      1           2.301015  ASCENDING  \n",
       "1           IW2                      1           3.133218  ASCENDING  \n",
       "2           IW3                      1           4.211255  ASCENDING  \n",
       "3           IW1                      1           5.059288  ASCENDING  \n",
       "4           IW2                      1           5.891491  ASCENDING  "
      ]
     },
     "execution_count": 3,
     "metadata": {},
     "output_type": "execute_result"
    }
   ],
   "source": [
    "df_burst.head()"
   ]
  },
  {
   "cell_type": "markdown",
   "id": "f338a155",
   "metadata": {},
   "source": [
    "# Burst Aggregation\n",
    "\n",
    "Each burst covers three swaths. So we want to merge these bursts together as a single geometric object."
   ]
  },
  {
   "cell_type": "code",
   "execution_count": 4,
   "id": "0c70aa23",
   "metadata": {
    "ExecuteTime": {
     "end_time": "2022-12-20T19:24:39.245303Z",
     "start_time": "2022-12-20T19:24:39.116745Z"
    }
   },
   "outputs": [
    {
     "data": {
      "text/plain": [
       "<AxesSubplot:>"
      ]
     },
     "execution_count": 4,
     "metadata": {},
     "output_type": "execute_result"
    },
    {
     "data": {
      "image/png": "[encoded data removed]",
      "text/plain": [
       "<Figure size 432x288 with 1 Axes>"
      ]
     },
     "metadata": {
      "needs_background": "light"
     },
     "output_type": "display_data"
    }
   ],
   "source": [
    "df_burst.head(30).plot(column='burst_id', categorical=True)"
   ]
  },
  {
   "cell_type": "code",
   "execution_count": 5,
   "id": "5a9c12ce",
   "metadata": {
    "ExecuteTime": {
     "end_time": "2022-12-20T19:27:10.472825Z",
     "start_time": "2022-12-20T19:24:39.246850Z"
    }
   },
   "outputs": [
    {
     "name": "stdout",
     "output_type": "stream",
     "text": [
      "CPU times: user 2min 30s, sys: 619 ms, total: 2min 31s\n",
      "Wall time: 2min 31s\n"
     ]
    },
    {
     "name": "stderr",
     "output_type": "stream",
     "text": [
      "/Users/cmarshak/opt/anaconda3/envs/s1-enumerator/lib/python3.9/site-packages/pandas/core/frame.py:9130: FutureWarning: merging between different levels is deprecated and will be removed in a future version. (1 levels on the left,2 on the right)\n",
      "  return merge(\n"
     ]
    }
   ],
   "source": [
    "%%time\n",
    "\n",
    "def join_track_numbers(orbits: list) -> str:\n",
    "    orbits = list(set(orbits))\n",
    "    orbits_str = list(map(str, orbits))\n",
    "    return ','.join(orbits_str)\n",
    "\n",
    "\n",
    "df_burst_triplet_temp = df_burst.dissolve(by='burst_id', \n",
    "                                          aggfunc={'OGC_FID': ['min', 'max'],\n",
    "                                                   'relative_orbit_number': join_track_numbers,\n",
    "                                                   'orbit_pass': 'first'}, \n",
    "                                          as_index=False)"
   ]
  },
  {
   "cell_type": "markdown",
   "id": "e84b0207",
   "metadata": {
    "ExecuteTime": {
     "end_time": "2022-11-12T00:22:29.300265Z",
     "start_time": "2022-11-12T00:22:29.297270Z"
    }
   },
   "source": [
    "We keep store this as an alternative dataframe because we want to rename columns."
   ]
  },
  {
   "cell_type": "code",
   "execution_count": 6,
   "id": "b4bf8479",
   "metadata": {
    "ExecuteTime": {
     "end_time": "2022-12-20T19:27:10.485271Z",
     "start_time": "2022-12-20T19:27:10.474248Z"
    }
   },
   "outputs": [
    {
     "data": {
      "text/html": [
       "<div>\n",
       "<style scoped>\n",
       "    .dataframe tbody tr th:only-of-type {\n",
       "        vertical-align: middle;\n",
       "    }\n",
       "\n",
       "    .dataframe tbody tr th {\n",
       "        vertical-align: top;\n",
       "    }\n",
       "\n",
       "    .dataframe thead th {\n",
       "        text-align: right;\n",
       "    }\n",
       "</style>\n",
       "<table border=\"1\" class=\"dataframe\">\n",
       "  <thead>\n",
       "    <tr style=\"text-align: right;\">\n",
       "      <th></th>\n",
       "      <th>burst_id</th>\n",
       "      <th>GEOMETRY</th>\n",
       "      <th>(OGC_FID, min)</th>\n",
       "      <th>(OGC_FID, max)</th>\n",
       "      <th>(relative_orbit_number, join_track_numbers)</th>\n",
       "      <th>(orbit_pass, first)</th>\n",
       "    </tr>\n",
       "  </thead>\n",
       "  <tbody>\n",
       "    <tr>\n",
       "      <th>0</th>\n",
       "      <td>1</td>\n",
       "      <td>POLYGON Z ((4.12960 0.91167 0.00000, 3.76300 0...</td>\n",
       "      <td>1</td>\n",
       "      <td>3</td>\n",
       "      <td>1</td>\n",
       "      <td>ASCENDING</td>\n",
       "    </tr>\n",
       "    <tr>\n",
       "      <th>1</th>\n",
       "      <td>2</td>\n",
       "      <td>POLYGON Z ((4.09471 1.07835 0.00000, 3.72810 1...</td>\n",
       "      <td>4</td>\n",
       "      <td>6</td>\n",
       "      <td>1</td>\n",
       "      <td>ASCENDING</td>\n",
       "    </tr>\n",
       "    <tr>\n",
       "      <th>2</th>\n",
       "      <td>3</td>\n",
       "      <td>POLYGON Z ((4.05984 1.24503 0.00000, 3.69323 1...</td>\n",
       "      <td>7</td>\n",
       "      <td>9</td>\n",
       "      <td>1</td>\n",
       "      <td>ASCENDING</td>\n",
       "    </tr>\n",
       "    <tr>\n",
       "      <th>3</th>\n",
       "      <td>4</td>\n",
       "      <td>POLYGON Z ((4.02501 1.41172 0.00000, 3.65839 1...</td>\n",
       "      <td>10</td>\n",
       "      <td>12</td>\n",
       "      <td>1</td>\n",
       "      <td>ASCENDING</td>\n",
       "    </tr>\n",
       "    <tr>\n",
       "      <th>4</th>\n",
       "      <td>5</td>\n",
       "      <td>POLYGON Z ((3.99020 1.57841 0.00000, 3.62357 1...</td>\n",
       "      <td>13</td>\n",
       "      <td>15</td>\n",
       "      <td>1</td>\n",
       "      <td>ASCENDING</td>\n",
       "    </tr>\n",
       "  </tbody>\n",
       "</table>\n",
       "</div>"
      ],
      "text/plain": [
       "   burst_id                                           GEOMETRY  \\\n",
       "0         1  POLYGON Z ((4.12960 0.91167 0.00000, 3.76300 0...   \n",
       "1         2  POLYGON Z ((4.09471 1.07835 0.00000, 3.72810 1...   \n",
       "2         3  POLYGON Z ((4.05984 1.24503 0.00000, 3.69323 1...   \n",
       "3         4  POLYGON Z ((4.02501 1.41172 0.00000, 3.65839 1...   \n",
       "4         5  POLYGON Z ((3.99020 1.57841 0.00000, 3.62357 1...   \n",
       "\n",
       "   (OGC_FID, min)  (OGC_FID, max) (relative_orbit_number, join_track_numbers)  \\\n",
       "0               1               3                                           1   \n",
       "1               4               6                                           1   \n",
       "2               7               9                                           1   \n",
       "3              10              12                                           1   \n",
       "4              13              15                                           1   \n",
       "\n",
       "  (orbit_pass, first)  \n",
       "0           ASCENDING  \n",
       "1           ASCENDING  \n",
       "2           ASCENDING  \n",
       "3           ASCENDING  \n",
       "4           ASCENDING  "
      ]
     },
     "execution_count": 6,
     "metadata": {},
     "output_type": "execute_result"
    }
   ],
   "source": [
    "df_burst_triplet_temp.head()"
   ]
  },
  {
   "cell_type": "code",
   "execution_count": 7,
   "id": "08d09613",
   "metadata": {
    "ExecuteTime": {
     "end_time": "2022-12-20T19:27:10.520973Z",
     "start_time": "2022-12-20T19:27:10.486641Z"
    }
   },
   "outputs": [
    {
     "data": {
      "text/html": [
       "<div>\n",
       "<style scoped>\n",
       "    .dataframe tbody tr th:only-of-type {\n",
       "        vertical-align: middle;\n",
       "    }\n",
       "\n",
       "    .dataframe tbody tr th {\n",
       "        vertical-align: top;\n",
       "    }\n",
       "\n",
       "    .dataframe thead th {\n",
       "        text-align: right;\n",
       "    }\n",
       "</style>\n",
       "<table border=\"1\" class=\"dataframe\">\n",
       "  <thead>\n",
       "    <tr style=\"text-align: right;\">\n",
       "      <th></th>\n",
       "      <th>burst_id</th>\n",
       "      <th>geometry</th>\n",
       "      <th>OGC_FID_min</th>\n",
       "      <th>OGC_FID_max</th>\n",
       "      <th>relative_orbit_numbers</th>\n",
       "      <th>look_direction</th>\n",
       "    </tr>\n",
       "  </thead>\n",
       "  <tbody>\n",
       "    <tr>\n",
       "      <th>0</th>\n",
       "      <td>1</td>\n",
       "      <td>POLYGON Z ((4.12960 0.91167 0.00000, 3.76300 0...</td>\n",
       "      <td>1</td>\n",
       "      <td>3</td>\n",
       "      <td>1</td>\n",
       "      <td>ASCENDING</td>\n",
       "    </tr>\n",
       "    <tr>\n",
       "      <th>1</th>\n",
       "      <td>2</td>\n",
       "      <td>POLYGON Z ((4.09471 1.07835 0.00000, 3.72810 1...</td>\n",
       "      <td>4</td>\n",
       "      <td>6</td>\n",
       "      <td>1</td>\n",
       "      <td>ASCENDING</td>\n",
       "    </tr>\n",
       "    <tr>\n",
       "      <th>2</th>\n",
       "      <td>3</td>\n",
       "      <td>POLYGON Z ((4.05984 1.24503 0.00000, 3.69323 1...</td>\n",
       "      <td>7</td>\n",
       "      <td>9</td>\n",
       "      <td>1</td>\n",
       "      <td>ASCENDING</td>\n",
       "    </tr>\n",
       "    <tr>\n",
       "      <th>3</th>\n",
       "      <td>4</td>\n",
       "      <td>POLYGON Z ((4.02501 1.41172 0.00000, 3.65839 1...</td>\n",
       "      <td>10</td>\n",
       "      <td>12</td>\n",
       "      <td>1</td>\n",
       "      <td>ASCENDING</td>\n",
       "    </tr>\n",
       "    <tr>\n",
       "      <th>4</th>\n",
       "      <td>5</td>\n",
       "      <td>POLYGON Z ((3.99020 1.57841 0.00000, 3.62357 1...</td>\n",
       "      <td>13</td>\n",
       "      <td>15</td>\n",
       "      <td>1</td>\n",
       "      <td>ASCENDING</td>\n",
       "    </tr>\n",
       "  </tbody>\n",
       "</table>\n",
       "</div>"
      ],
      "text/plain": [
       "   burst_id                                           geometry  OGC_FID_min  \\\n",
       "0         1  POLYGON Z ((4.12960 0.91167 0.00000, 3.76300 0...            1   \n",
       "1         2  POLYGON Z ((4.09471 1.07835 0.00000, 3.72810 1...            4   \n",
       "2         3  POLYGON Z ((4.05984 1.24503 0.00000, 3.69323 1...            7   \n",
       "3         4  POLYGON Z ((4.02501 1.41172 0.00000, 3.65839 1...           10   \n",
       "4         5  POLYGON Z ((3.99020 1.57841 0.00000, 3.62357 1...           13   \n",
       "\n",
       "   OGC_FID_max relative_orbit_numbers look_direction  \n",
       "0            3                      1      ASCENDING  \n",
       "1            6                      1      ASCENDING  \n",
       "2            9                      1      ASCENDING  \n",
       "3           12                      1      ASCENDING  \n",
       "4           15                      1      ASCENDING  "
      ]
     },
     "execution_count": 7,
     "metadata": {},
     "output_type": "execute_result"
    }
   ],
   "source": [
    "df_burst_triplet = df_burst_triplet_temp.reset_index(drop=True)\n",
    "df_burst_triplet.columns = ['burst_id', \n",
    "                            'geometry', \n",
    "                            'OGC_FID_min', \n",
    "                            'OGC_FID_max', \n",
    "                            'relative_orbit_numbers', \n",
    "                            'look_direction']\n",
    "df_burst_triplet.head()"
   ]
  },
  {
   "cell_type": "markdown",
   "id": "9768d3cb",
   "metadata": {},
   "source": [
    "We are going to assign the dataframe a CRS. Seems to get lost in our initial read of the data."
   ]
  },
  {
   "cell_type": "code",
   "execution_count": 8,
   "id": "b0e81df5",
   "metadata": {
    "ExecuteTime": {
     "end_time": "2022-12-20T19:27:10.554450Z",
     "start_time": "2022-12-20T19:27:10.522155Z"
    }
   },
   "outputs": [
    {
     "data": {
      "text/html": [
       "<div>\n",
       "<style scoped>\n",
       "    .dataframe tbody tr th:only-of-type {\n",
       "        vertical-align: middle;\n",
       "    }\n",
       "\n",
       "    .dataframe tbody tr th {\n",
       "        vertical-align: top;\n",
       "    }\n",
       "\n",
       "    .dataframe thead th {\n",
       "        text-align: right;\n",
       "    }\n",
       "</style>\n",
       "<table border=\"1\" class=\"dataframe\">\n",
       "  <thead>\n",
       "    <tr style=\"text-align: right;\">\n",
       "      <th></th>\n",
       "      <th>burst_id</th>\n",
       "      <th>geometry</th>\n",
       "      <th>OGC_FID_min</th>\n",
       "      <th>OGC_FID_max</th>\n",
       "      <th>relative_orbit_numbers</th>\n",
       "      <th>look_direction</th>\n",
       "    </tr>\n",
       "  </thead>\n",
       "  <tbody>\n",
       "    <tr>\n",
       "      <th>0</th>\n",
       "      <td>1</td>\n",
       "      <td>POLYGON Z ((4.12960 0.91167 0.00000, 3.76300 0...</td>\n",
       "      <td>1</td>\n",
       "      <td>3</td>\n",
       "      <td>1</td>\n",
       "      <td>ASCENDING</td>\n",
       "    </tr>\n",
       "    <tr>\n",
       "      <th>1</th>\n",
       "      <td>2</td>\n",
       "      <td>POLYGON Z ((4.09471 1.07835 0.00000, 3.72810 1...</td>\n",
       "      <td>4</td>\n",
       "      <td>6</td>\n",
       "      <td>1</td>\n",
       "      <td>ASCENDING</td>\n",
       "    </tr>\n",
       "    <tr>\n",
       "      <th>2</th>\n",
       "      <td>3</td>\n",
       "      <td>POLYGON Z ((4.05984 1.24503 0.00000, 3.69323 1...</td>\n",
       "      <td>7</td>\n",
       "      <td>9</td>\n",
       "      <td>1</td>\n",
       "      <td>ASCENDING</td>\n",
       "    </tr>\n",
       "    <tr>\n",
       "      <th>3</th>\n",
       "      <td>4</td>\n",
       "      <td>POLYGON Z ((4.02501 1.41172 0.00000, 3.65839 1...</td>\n",
       "      <td>10</td>\n",
       "      <td>12</td>\n",
       "      <td>1</td>\n",
       "      <td>ASCENDING</td>\n",
       "    </tr>\n",
       "    <tr>\n",
       "      <th>4</th>\n",
       "      <td>5</td>\n",
       "      <td>POLYGON Z ((3.99020 1.57841 0.00000, 3.62357 1...</td>\n",
       "      <td>13</td>\n",
       "      <td>15</td>\n",
       "      <td>1</td>\n",
       "      <td>ASCENDING</td>\n",
       "    </tr>\n",
       "  </tbody>\n",
       "</table>\n",
       "</div>"
      ],
      "text/plain": [
       "   burst_id                                           geometry  OGC_FID_min  \\\n",
       "0         1  POLYGON Z ((4.12960 0.91167 0.00000, 3.76300 0...            1   \n",
       "1         2  POLYGON Z ((4.09471 1.07835 0.00000, 3.72810 1...            4   \n",
       "2         3  POLYGON Z ((4.05984 1.24503 0.00000, 3.69323 1...            7   \n",
       "3         4  POLYGON Z ((4.02501 1.41172 0.00000, 3.65839 1...           10   \n",
       "4         5  POLYGON Z ((3.99020 1.57841 0.00000, 3.62357 1...           13   \n",
       "\n",
       "   OGC_FID_max relative_orbit_numbers look_direction  \n",
       "0            3                      1      ASCENDING  \n",
       "1            6                      1      ASCENDING  \n",
       "2            9                      1      ASCENDING  \n",
       "3           12                      1      ASCENDING  \n",
       "4           15                      1      ASCENDING  "
      ]
     },
     "execution_count": 8,
     "metadata": {},
     "output_type": "execute_result"
    }
   ],
   "source": [
    "df_burst_triplet = gpd.GeoDataFrame(df_burst_triplet,\n",
    "                                    geometry=df_burst_triplet.geometry,\n",
    "                                    crs=CRS.from_epsg(4326))\n",
    "df_burst_triplet.head()"
   ]
  },
  {
   "cell_type": "code",
   "execution_count": 9,
   "id": "8d8654de",
   "metadata": {
    "ExecuteTime": {
     "end_time": "2022-12-20T19:27:10.562639Z",
     "start_time": "2022-12-20T19:27:10.555573Z"
    }
   },
   "outputs": [],
   "source": [
    "n_bursts = 10\n",
    "o_bursts = 2\n",
    "M = df_burst_triplet.burst_id.max()\n",
    "N = int(np.ceil(M / (n_bursts - o_bursts)))\n",
    "\n",
    "starts = [k * (n_bursts - o_bursts) for k in range(N)]"
   ]
  },
  {
   "cell_type": "code",
   "execution_count": 10,
   "id": "34cb111c",
   "metadata": {
    "ExecuteTime": {
     "end_time": "2022-12-20T19:27:30.054854Z",
     "start_time": "2022-12-20T19:27:10.565860Z"
    }
   },
   "outputs": [
    {
     "name": "stderr",
     "output_type": "stream",
     "text": [
      "100%|████████████████████████████████████████████████████████████████████████████████████████████████| 46986/46986 [00:19<00:00, 2418.42it/s]\n"
     ]
    }
   ],
   "source": [
    "slices = [df_burst_triplet.iloc[start: start+ n_bursts] for start in tqdm(starts)]"
   ]
  },
  {
   "cell_type": "code",
   "execution_count": 11,
   "id": "d2c75aea",
   "metadata": {
    "ExecuteTime": {
     "end_time": "2022-12-20T19:27:30.060197Z",
     "start_time": "2022-12-20T19:27:30.056605Z"
    }
   },
   "outputs": [],
   "source": [
    "def join_track_numbers(orbits: list) -> str:\n",
    "    orbits = list(set(orbits))\n",
    "    orbits_str = list(map(str, orbits))\n",
    "    return ','.join(orbits_str)\n",
    "\n",
    "def join_look_direction(look_direction_l: list) -> str:\n",
    "    return ','.join(list(set(look_direction_l)))"
   ]
  },
  {
   "cell_type": "markdown",
   "id": "91a851f2",
   "metadata": {},
   "source": [
    "The `aggfunc` does make this slower geometry dissolve slower. We filter out future warnings as well as this needs to be resolved in the `geopandas` library."
   ]
  },
  {
   "cell_type": "code",
   "execution_count": 13,
   "id": "ecd66c59",
   "metadata": {
    "ExecuteTime": {
     "end_time": "2022-12-20T19:33:43.995123Z",
     "start_time": "2022-12-20T19:27:30.078348Z"
    }
   },
   "outputs": [
    {
     "name": "stderr",
     "output_type": "stream",
     "text": [
      "100%|█████████████████████████████████████████████████████████████████████████████████████████████████| 46986/46986 [06:13<00:00, 125.66it/s]\n"
     ]
    }
   ],
   "source": [
    "agg_dict = {'OGC_FID_min': 'min',\n",
    "            'OGC_FID_max': 'max',\n",
    "            'burst_id': ['min', 'max'],\n",
    "            'relative_orbit_numbers': join_track_numbers,\n",
    "            'look_direction': join_look_direction}\n",
    "\n",
    "with warnings.catch_warnings():\n",
    "    warnings.simplefilter(\"ignore\", category=FutureWarning)\n",
    "    frames_l = [df_s.dissolve(aggfunc=agg_dict) for df_s in tqdm(slices)]"
   ]
  },
  {
   "cell_type": "code",
   "execution_count": 14,
   "id": "e96df60d",
   "metadata": {
    "ExecuteTime": {
     "end_time": "2022-12-20T19:33:51.793475Z",
     "start_time": "2022-12-20T19:33:43.996656Z"
    }
   },
   "outputs": [
    {
     "data": {
      "text/html": [
       "<div>\n",
       "<style scoped>\n",
       "    .dataframe tbody tr th:only-of-type {\n",
       "        vertical-align: middle;\n",
       "    }\n",
       "\n",
       "    .dataframe tbody tr th {\n",
       "        vertical-align: top;\n",
       "    }\n",
       "\n",
       "    .dataframe thead th {\n",
       "        text-align: right;\n",
       "    }\n",
       "</style>\n",
       "<table border=\"1\" class=\"dataframe\">\n",
       "  <thead>\n",
       "    <tr style=\"text-align: right;\">\n",
       "      <th></th>\n",
       "      <th>geometry</th>\n",
       "      <th>(OGC_FID_min, min)</th>\n",
       "      <th>(OGC_FID_max, max)</th>\n",
       "      <th>(burst_id, min)</th>\n",
       "      <th>(burst_id, max)</th>\n",
       "      <th>(relative_orbit_numbers, join_track_numbers)</th>\n",
       "      <th>(look_direction, join_look_direction)</th>\n",
       "    </tr>\n",
       "  </thead>\n",
       "  <tbody>\n",
       "    <tr>\n",
       "      <th>0</th>\n",
       "      <td>POLYGON Z ((3.33269 0.92005 0.00000, 3.33269 0...</td>\n",
       "      <td>1</td>\n",
       "      <td>30</td>\n",
       "      <td>1</td>\n",
       "      <td>10</td>\n",
       "      <td>1</td>\n",
       "      <td>ASCENDING</td>\n",
       "    </tr>\n",
       "    <tr>\n",
       "      <th>0</th>\n",
       "      <td>POLYGON Z ((3.05247 2.25444 0.00000, 3.05247 2...</td>\n",
       "      <td>25</td>\n",
       "      <td>54</td>\n",
       "      <td>9</td>\n",
       "      <td>18</td>\n",
       "      <td>1</td>\n",
       "      <td>ASCENDING</td>\n",
       "    </tr>\n",
       "    <tr>\n",
       "      <th>0</th>\n",
       "      <td>POLYGON Z ((2.77387 3.58901 0.00000, 2.77363 3...</td>\n",
       "      <td>49</td>\n",
       "      <td>78</td>\n",
       "      <td>17</td>\n",
       "      <td>26</td>\n",
       "      <td>1</td>\n",
       "      <td>ASCENDING</td>\n",
       "    </tr>\n",
       "    <tr>\n",
       "      <th>0</th>\n",
       "      <td>POLYGON Z ((2.49742 4.92387 0.00000, 2.49611 4...</td>\n",
       "      <td>73</td>\n",
       "      <td>102</td>\n",
       "      <td>25</td>\n",
       "      <td>34</td>\n",
       "      <td>1</td>\n",
       "      <td>ASCENDING</td>\n",
       "    </tr>\n",
       "    <tr>\n",
       "      <th>0</th>\n",
       "      <td>POLYGON Z ((2.22069 6.25855 0.00000, 2.22069 6...</td>\n",
       "      <td>97</td>\n",
       "      <td>126</td>\n",
       "      <td>33</td>\n",
       "      <td>42</td>\n",
       "      <td>1</td>\n",
       "      <td>ASCENDING</td>\n",
       "    </tr>\n",
       "  </tbody>\n",
       "</table>\n",
       "</div>"
      ],
      "text/plain": [
       "                                            geometry  (OGC_FID_min, min)  \\\n",
       "0  POLYGON Z ((3.33269 0.92005 0.00000, 3.33269 0...                   1   \n",
       "0  POLYGON Z ((3.05247 2.25444 0.00000, 3.05247 2...                  25   \n",
       "0  POLYGON Z ((2.77387 3.58901 0.00000, 2.77363 3...                  49   \n",
       "0  POLYGON Z ((2.49742 4.92387 0.00000, 2.49611 4...                  73   \n",
       "0  POLYGON Z ((2.22069 6.25855 0.00000, 2.22069 6...                  97   \n",
       "\n",
       "   (OGC_FID_max, max)  (burst_id, min)  (burst_id, max)  \\\n",
       "0                  30                1               10   \n",
       "0                  54                9               18   \n",
       "0                  78               17               26   \n",
       "0                 102               25               34   \n",
       "0                 126               33               42   \n",
       "\n",
       "  (relative_orbit_numbers, join_track_numbers)  \\\n",
       "0                                            1   \n",
       "0                                            1   \n",
       "0                                            1   \n",
       "0                                            1   \n",
       "0                                            1   \n",
       "\n",
       "  (look_direction, join_look_direction)  \n",
       "0                             ASCENDING  \n",
       "0                             ASCENDING  \n",
       "0                             ASCENDING  \n",
       "0                             ASCENDING  \n",
       "0                             ASCENDING  "
      ]
     },
     "execution_count": 14,
     "metadata": {},
     "output_type": "execute_result"
    }
   ],
   "source": [
    "df_frames_temp = pd.concat(frames_l, axis=0)\n",
    "df_frames_temp.head()"
   ]
  },
  {
   "cell_type": "markdown",
   "id": "de3f4991",
   "metadata": {},
   "source": [
    "Format the frames."
   ]
  },
  {
   "cell_type": "code",
   "execution_count": 15,
   "id": "2c452810",
   "metadata": {
    "ExecuteTime": {
     "end_time": "2022-12-20T19:33:51.828246Z",
     "start_time": "2022-12-20T19:33:51.794844Z"
    }
   },
   "outputs": [
    {
     "data": {
      "text/html": [
       "<div>\n",
       "<style scoped>\n",
       "    .dataframe tbody tr th:only-of-type {\n",
       "        vertical-align: middle;\n",
       "    }\n",
       "\n",
       "    .dataframe tbody tr th {\n",
       "        vertical-align: top;\n",
       "    }\n",
       "\n",
       "    .dataframe thead th {\n",
       "        text-align: right;\n",
       "    }\n",
       "</style>\n",
       "<table border=\"1\" class=\"dataframe\">\n",
       "  <thead>\n",
       "    <tr style=\"text-align: right;\">\n",
       "      <th></th>\n",
       "      <th>OGC_FID_min</th>\n",
       "      <th>OGC_FID_max</th>\n",
       "      <th>burst_id_min</th>\n",
       "      <th>burst_id_max</th>\n",
       "      <th>relative_orbit_numbers</th>\n",
       "      <th>look_direction</th>\n",
       "      <th>geometry</th>\n",
       "    </tr>\n",
       "  </thead>\n",
       "  <tbody>\n",
       "    <tr>\n",
       "      <th>0</th>\n",
       "      <td>1</td>\n",
       "      <td>30</td>\n",
       "      <td>1</td>\n",
       "      <td>10</td>\n",
       "      <td>1</td>\n",
       "      <td>ASCENDING</td>\n",
       "      <td>POLYGON Z ((3.33269 0.92005 0.00000, 3.33269 0...</td>\n",
       "    </tr>\n",
       "    <tr>\n",
       "      <th>1</th>\n",
       "      <td>25</td>\n",
       "      <td>54</td>\n",
       "      <td>9</td>\n",
       "      <td>18</td>\n",
       "      <td>1</td>\n",
       "      <td>ASCENDING</td>\n",
       "      <td>POLYGON Z ((3.05247 2.25444 0.00000, 3.05247 2...</td>\n",
       "    </tr>\n",
       "    <tr>\n",
       "      <th>2</th>\n",
       "      <td>49</td>\n",
       "      <td>78</td>\n",
       "      <td>17</td>\n",
       "      <td>26</td>\n",
       "      <td>1</td>\n",
       "      <td>ASCENDING</td>\n",
       "      <td>POLYGON Z ((2.77387 3.58901 0.00000, 2.77363 3...</td>\n",
       "    </tr>\n",
       "    <tr>\n",
       "      <th>3</th>\n",
       "      <td>73</td>\n",
       "      <td>102</td>\n",
       "      <td>25</td>\n",
       "      <td>34</td>\n",
       "      <td>1</td>\n",
       "      <td>ASCENDING</td>\n",
       "      <td>POLYGON Z ((2.49742 4.92387 0.00000, 2.49611 4...</td>\n",
       "    </tr>\n",
       "    <tr>\n",
       "      <th>4</th>\n",
       "      <td>97</td>\n",
       "      <td>126</td>\n",
       "      <td>33</td>\n",
       "      <td>42</td>\n",
       "      <td>1</td>\n",
       "      <td>ASCENDING</td>\n",
       "      <td>POLYGON Z ((2.22069 6.25855 0.00000, 2.22069 6...</td>\n",
       "    </tr>\n",
       "  </tbody>\n",
       "</table>\n",
       "</div>"
      ],
      "text/plain": [
       "   OGC_FID_min  OGC_FID_max  burst_id_min  burst_id_max  \\\n",
       "0            1           30             1            10   \n",
       "1           25           54             9            18   \n",
       "2           49           78            17            26   \n",
       "3           73          102            25            34   \n",
       "4           97          126            33            42   \n",
       "\n",
       "  relative_orbit_numbers look_direction  \\\n",
       "0                      1      ASCENDING   \n",
       "1                      1      ASCENDING   \n",
       "2                      1      ASCENDING   \n",
       "3                      1      ASCENDING   \n",
       "4                      1      ASCENDING   \n",
       "\n",
       "                                            geometry  \n",
       "0  POLYGON Z ((3.33269 0.92005 0.00000, 3.33269 0...  \n",
       "1  POLYGON Z ((3.05247 2.25444 0.00000, 3.05247 2...  \n",
       "2  POLYGON Z ((2.77387 3.58901 0.00000, 2.77363 3...  \n",
       "3  POLYGON Z ((2.49742 4.92387 0.00000, 2.49611 4...  \n",
       "4  POLYGON Z ((2.22069 6.25855 0.00000, 2.22069 6...  "
      ]
     },
     "execution_count": 15,
     "metadata": {},
     "output_type": "execute_result"
    }
   ],
   "source": [
    "df_frames = df_frames_temp.reset_index(drop=True)\n",
    "df_frames.columns = ['geometry', \n",
    "                     'OGC_FID_min', \n",
    "                     'OGC_FID_max', \n",
    "                     'burst_id_min', \n",
    "                     'burst_id_max', \n",
    "                     'relative_orbit_numbers',\n",
    "                     'look_direction']\n",
    "# reorder columns\n",
    "df_frames = df_frames[[col for col in df_frames.columns if col != 'geometry'] + ['geometry']]\n",
    "df_frames.head()"
   ]
  },
  {
   "cell_type": "code",
   "execution_count": 16,
   "id": "64ec8365",
   "metadata": {
    "ExecuteTime": {
     "end_time": "2022-12-20T19:33:51.924958Z",
     "start_time": "2022-12-20T19:33:51.829697Z"
    }
   },
   "outputs": [
    {
     "data": {
      "text/plain": [
       "<AxesSubplot:>"
      ]
     },
     "execution_count": 16,
     "metadata": {},
     "output_type": "execute_result"
    },
    {
     "data": {
      "image/png": "[encoded data removed]",
      "text/plain": [
       "<Figure size 432x288 with 1 Axes>"
      ]
     },
     "metadata": {
      "needs_background": "light"
     },
     "output_type": "display_data"
    }
   ],
   "source": [
    "df_frames.iloc[:5].boundary.plot()"
   ]
  },
  {
   "cell_type": "markdown",
   "id": "9bd88bcb",
   "metadata": {
    "ExecuteTime": {
     "end_time": "2022-12-20T18:23:48.934805Z",
     "start_time": "2022-12-20T18:23:48.934792Z"
    }
   },
   "source": [
    "# Land Intersection\n",
    "\n",
    "We are going to read a 1 degree buffered land area. This should encompass all land areas relevant for the product. We use this same mask (at full resolution) for the browse imagery."
   ]
  },
  {
   "cell_type": "code",
   "execution_count": 18,
   "id": "a626c2a3",
   "metadata": {
    "ExecuteTime": {
     "end_time": "2022-12-20T19:52:13.567966Z",
     "start_time": "2022-12-20T19:52:13.127132Z"
    }
   },
   "outputs": [],
   "source": [
    "df_land = gpd.read_file('usgs_land_1deg_buffered.geojson')    \n",
    "land_geo = df_land.geometry.unary_union"
   ]
  },
  {
   "cell_type": "code",
   "execution_count": 19,
   "id": "f2bc7d5d",
   "metadata": {
    "ExecuteTime": {
     "end_time": "2022-12-20T19:57:18.643810Z",
     "start_time": "2022-12-20T19:52:13.569658Z"
    }
   },
   "outputs": [
    {
     "name": "stdout",
     "output_type": "stream",
     "text": [
      "CPU times: user 4min 56s, sys: 8.03 s, total: 5min 4s\n",
      "Wall time: 5min 5s\n"
     ]
    }
   ],
   "source": [
    "%%time\n",
    "\n",
    "ind_land = df_frames.geometry.intersects(land_geo)"
   ]
  },
  {
   "cell_type": "code",
   "execution_count": 20,
   "id": "c6826f0c",
   "metadata": {
    "ExecuteTime": {
     "end_time": "2022-12-20T19:57:18.666491Z",
     "start_time": "2022-12-20T19:57:18.645646Z"
    }
   },
   "outputs": [
    {
     "data": {
      "text/html": [
       "<div>\n",
       "<style scoped>\n",
       "    .dataframe tbody tr th:only-of-type {\n",
       "        vertical-align: middle;\n",
       "    }\n",
       "\n",
       "    .dataframe tbody tr th {\n",
       "        vertical-align: top;\n",
       "    }\n",
       "\n",
       "    .dataframe thead th {\n",
       "        text-align: right;\n",
       "    }\n",
       "</style>\n",
       "<table border=\"1\" class=\"dataframe\">\n",
       "  <thead>\n",
       "    <tr style=\"text-align: right;\">\n",
       "      <th></th>\n",
       "      <th>OGC_FID_min</th>\n",
       "      <th>OGC_FID_max</th>\n",
       "      <th>burst_id_min</th>\n",
       "      <th>burst_id_max</th>\n",
       "      <th>relative_orbit_numbers</th>\n",
       "      <th>look_direction</th>\n",
       "      <th>geometry</th>\n",
       "    </tr>\n",
       "  </thead>\n",
       "  <tbody>\n",
       "    <tr>\n",
       "      <th>0</th>\n",
       "      <td>25</td>\n",
       "      <td>54</td>\n",
       "      <td>9</td>\n",
       "      <td>18</td>\n",
       "      <td>1</td>\n",
       "      <td>ASCENDING</td>\n",
       "      <td>POLYGON Z ((3.05247 2.25444 0.00000, 3.05247 2...</td>\n",
       "    </tr>\n",
       "    <tr>\n",
       "      <th>1</th>\n",
       "      <td>49</td>\n",
       "      <td>78</td>\n",
       "      <td>17</td>\n",
       "      <td>26</td>\n",
       "      <td>1</td>\n",
       "      <td>ASCENDING</td>\n",
       "      <td>POLYGON Z ((2.77387 3.58901 0.00000, 2.77363 3...</td>\n",
       "    </tr>\n",
       "    <tr>\n",
       "      <th>2</th>\n",
       "      <td>73</td>\n",
       "      <td>102</td>\n",
       "      <td>25</td>\n",
       "      <td>34</td>\n",
       "      <td>1</td>\n",
       "      <td>ASCENDING</td>\n",
       "      <td>POLYGON Z ((2.49742 4.92387 0.00000, 2.49611 4...</td>\n",
       "    </tr>\n",
       "    <tr>\n",
       "      <th>3</th>\n",
       "      <td>97</td>\n",
       "      <td>126</td>\n",
       "      <td>33</td>\n",
       "      <td>42</td>\n",
       "      <td>1</td>\n",
       "      <td>ASCENDING</td>\n",
       "      <td>POLYGON Z ((2.22069 6.25855 0.00000, 2.22069 6...</td>\n",
       "    </tr>\n",
       "    <tr>\n",
       "      <th>4</th>\n",
       "      <td>121</td>\n",
       "      <td>150</td>\n",
       "      <td>41</td>\n",
       "      <td>50</td>\n",
       "      <td>1</td>\n",
       "      <td>ASCENDING</td>\n",
       "      <td>POLYGON Z ((1.94483 7.59326 0.00000, 1.94483 7...</td>\n",
       "    </tr>\n",
       "  </tbody>\n",
       "</table>\n",
       "</div>"
      ],
      "text/plain": [
       "   OGC_FID_min  OGC_FID_max  burst_id_min  burst_id_max  \\\n",
       "0           25           54             9            18   \n",
       "1           49           78            17            26   \n",
       "2           73          102            25            34   \n",
       "3           97          126            33            42   \n",
       "4          121          150            41            50   \n",
       "\n",
       "  relative_orbit_numbers look_direction  \\\n",
       "0                      1      ASCENDING   \n",
       "1                      1      ASCENDING   \n",
       "2                      1      ASCENDING   \n",
       "3                      1      ASCENDING   \n",
       "4                      1      ASCENDING   \n",
       "\n",
       "                                            geometry  \n",
       "0  POLYGON Z ((3.05247 2.25444 0.00000, 3.05247 2...  \n",
       "1  POLYGON Z ((2.77387 3.58901 0.00000, 2.77363 3...  \n",
       "2  POLYGON Z ((2.49742 4.92387 0.00000, 2.49611 4...  \n",
       "3  POLYGON Z ((2.22069 6.25855 0.00000, 2.22069 6...  \n",
       "4  POLYGON Z ((1.94483 7.59326 0.00000, 1.94483 7...  "
      ]
     },
     "execution_count": 20,
     "metadata": {},
     "output_type": "execute_result"
    }
   ],
   "source": [
    "df_frames_land = df_frames[ind_land].reset_index(drop=True)\n",
    "df_frames_land.head()"
   ]
  },
  {
   "cell_type": "markdown",
   "id": "1eabe035",
   "metadata": {},
   "source": [
    "Now that we have the total frames - we are going to assign frame ids."
   ]
  },
  {
   "cell_type": "code",
   "execution_count": 21,
   "id": "fa3ef397",
   "metadata": {
    "ExecuteTime": {
     "end_time": "2022-12-20T19:57:18.674970Z",
     "start_time": "2022-12-20T19:57:18.668137Z"
    }
   },
   "outputs": [],
   "source": [
    "df_frames_land = df_frames_land.reset_index(drop=False)\n",
    "df_frames_land.rename(columns={'index': 'frame_id'}, inplace=True)"
   ]
  },
  {
   "cell_type": "markdown",
   "id": "c3ee33c4",
   "metadata": {},
   "source": [
    "# Dateline Fix\n",
    "\n",
    "We take the multipolygons at the dateline and make sure we have geometries at the left and right hemispheres. This will mean we don't have to take care of this during enumeration of IFGs."
   ]
  },
  {
   "cell_type": "code",
   "execution_count": 22,
   "id": "8b400390",
   "metadata": {
    "ExecuteTime": {
     "end_time": "2022-12-20T19:57:18.679199Z",
     "start_time": "2022-12-20T19:57:18.676954Z"
    }
   },
   "outputs": [],
   "source": [
    "buffer = 5"
   ]
  },
  {
   "cell_type": "code",
   "execution_count": 23,
   "id": "d3d49f60",
   "metadata": {
    "ExecuteTime": {
     "end_time": "2022-12-20T19:57:19.539244Z",
     "start_time": "2022-12-20T19:57:18.680891Z"
    }
   },
   "outputs": [
    {
     "data": {
      "text/html": [
       "<div>\n",
       "<style scoped>\n",
       "    .dataframe tbody tr th:only-of-type {\n",
       "        vertical-align: middle;\n",
       "    }\n",
       "\n",
       "    .dataframe tbody tr th {\n",
       "        vertical-align: top;\n",
       "    }\n",
       "\n",
       "    .dataframe thead th {\n",
       "        text-align: right;\n",
       "    }\n",
       "</style>\n",
       "<table border=\"1\" class=\"dataframe\">\n",
       "  <thead>\n",
       "    <tr style=\"text-align: right;\">\n",
       "      <th></th>\n",
       "      <th>frame_id</th>\n",
       "      <th>OGC_FID_min</th>\n",
       "      <th>OGC_FID_max</th>\n",
       "      <th>burst_id_min</th>\n",
       "      <th>burst_id_max</th>\n",
       "      <th>relative_orbit_numbers</th>\n",
       "      <th>look_direction</th>\n",
       "      <th>geometry</th>\n",
       "    </tr>\n",
       "  </thead>\n",
       "  <tbody>\n",
       "    <tr>\n",
       "      <th>60</th>\n",
       "      <td>60</td>\n",
       "      <td>1897</td>\n",
       "      <td>1926</td>\n",
       "      <td>633</td>\n",
       "      <td>642</td>\n",
       "      <td>1</td>\n",
       "      <td>DESCENDING</td>\n",
       "      <td>POLYGON Z ((-175.13922 71.94575 0.00000, -175....</td>\n",
       "    </tr>\n",
       "    <tr>\n",
       "      <th>61</th>\n",
       "      <td>61</td>\n",
       "      <td>1921</td>\n",
       "      <td>1950</td>\n",
       "      <td>641</td>\n",
       "      <td>650</td>\n",
       "      <td>1</td>\n",
       "      <td>DESCENDING</td>\n",
       "      <td>MULTIPOLYGON Z (((-176.24122 70.60947 0.00000,...</td>\n",
       "    </tr>\n",
       "    <tr>\n",
       "      <th>62</th>\n",
       "      <td>62</td>\n",
       "      <td>1945</td>\n",
       "      <td>1974</td>\n",
       "      <td>649</td>\n",
       "      <td>658</td>\n",
       "      <td>1</td>\n",
       "      <td>DESCENDING</td>\n",
       "      <td>MULTIPOLYGON Z (((-177.19180 69.31480 0.00000,...</td>\n",
       "    </tr>\n",
       "    <tr>\n",
       "      <th>63</th>\n",
       "      <td>63</td>\n",
       "      <td>1969</td>\n",
       "      <td>1998</td>\n",
       "      <td>657</td>\n",
       "      <td>666</td>\n",
       "      <td>1</td>\n",
       "      <td>DESCENDING</td>\n",
       "      <td>MULTIPOLYGON Z (((-178.05114 68.01650 0.00000,...</td>\n",
       "    </tr>\n",
       "    <tr>\n",
       "      <th>64</th>\n",
       "      <td>64</td>\n",
       "      <td>1993</td>\n",
       "      <td>2022</td>\n",
       "      <td>665</td>\n",
       "      <td>674</td>\n",
       "      <td>1</td>\n",
       "      <td>DESCENDING</td>\n",
       "      <td>MULTIPOLYGON Z (((-178.83437 66.71513 0.00000,...</td>\n",
       "    </tr>\n",
       "  </tbody>\n",
       "</table>\n",
       "</div>"
      ],
      "text/plain": [
       "    frame_id  OGC_FID_min  OGC_FID_max  burst_id_min  burst_id_max  \\\n",
       "60        60         1897         1926           633           642   \n",
       "61        61         1921         1950           641           650   \n",
       "62        62         1945         1974           649           658   \n",
       "63        63         1969         1998           657           666   \n",
       "64        64         1993         2022           665           674   \n",
       "\n",
       "   relative_orbit_numbers look_direction  \\\n",
       "60                      1     DESCENDING   \n",
       "61                      1     DESCENDING   \n",
       "62                      1     DESCENDING   \n",
       "63                      1     DESCENDING   \n",
       "64                      1     DESCENDING   \n",
       "\n",
       "                                             geometry  \n",
       "60  POLYGON Z ((-175.13922 71.94575 0.00000, -175....  \n",
       "61  MULTIPOLYGON Z (((-176.24122 70.60947 0.00000,...  \n",
       "62  MULTIPOLYGON Z (((-177.19180 69.31480 0.00000,...  \n",
       "63  MULTIPOLYGON Z (((-178.05114 68.01650 0.00000,...  \n",
       "64  MULTIPOLYGON Z (((-178.83437 66.71513 0.00000,...  "
      ]
     },
     "execution_count": 23,
     "metadata": {},
     "output_type": "execute_result"
    }
   ],
   "source": [
    "df_dateline = df_frames_land.cx[:-180 + buffer,:]\n",
    "df_dateline.head()"
   ]
  },
  {
   "cell_type": "code",
   "execution_count": 24,
   "id": "a155c682",
   "metadata": {
    "ExecuteTime": {
     "end_time": "2022-12-20T19:57:19.546034Z",
     "start_time": "2022-12-20T19:57:19.540482Z"
    }
   },
   "outputs": [],
   "source": [
    "multipolygon_index = df_dateline.geometry.map(lambda geo: (geo.geom_type != 'Polygon'))\n",
    "df_dateline_multi = df_dateline[multipolygon_index].copy()"
   ]
  },
  {
   "cell_type": "markdown",
   "id": "97c53495",
   "metadata": {},
   "source": [
    "These plots show how the frames at the dateline are concatentated. There \"missing\" portion is in the right hemisphere."
   ]
  },
  {
   "cell_type": "code",
   "execution_count": 25,
   "id": "f3001a42",
   "metadata": {
    "ExecuteTime": {
     "end_time": "2022-12-20T19:57:19.702912Z",
     "start_time": "2022-12-20T19:57:19.547610Z"
    }
   },
   "outputs": [
    {
     "data": {
      "text/plain": [
       "(-70.0, 50.0)"
      ]
     },
     "execution_count": 25,
     "metadata": {},
     "output_type": "execute_result"
    },
    {
     "data": {
      "image/png": "[encoded data removed]",
      "text/plain": [
       "<Figure size 720x1440 with 1 Axes>"
      ]
     },
     "metadata": {
      "needs_background": "light"
     },
     "output_type": "display_data"
    }
   ],
   "source": [
    "fig, ax = plt.subplots(figsize=(10, 20))\n",
    "df_dateline_multi.boundary.plot(ax=ax)\n",
    "ax.set_xlim(-200, -150)\n",
    "ax.set_ylim(-70, 50)"
   ]
  },
  {
   "cell_type": "code",
   "execution_count": 26,
   "id": "5196c667",
   "metadata": {
    "ExecuteTime": {
     "end_time": "2022-12-20T19:57:20.198597Z",
     "start_time": "2022-12-20T19:57:19.704462Z"
    }
   },
   "outputs": [
    {
     "name": "stderr",
     "output_type": "stream",
     "text": [
      "/var/folders/s6/fbsc26cd0ddffbp3_knts_9c0wcxj1/T/ipykernel_6663/1531954237.py:5: UserWarning: Geometry is in a geographic CRS. Results from 'buffer' are likely incorrect. Use 'GeoSeries.to_crs()' to re-project geometries to a projected CRS before this operation.\n",
      "\n",
      "  geo_l = df_dateline_multi.translate(xoff=-360).buffer(1e-7)\n",
      "/var/folders/s6/fbsc26cd0ddffbp3_knts_9c0wcxj1/T/ipykernel_6663/1531954237.py:11: UserWarning: Geometry is in a geographic CRS. Results from 'buffer' are likely incorrect. Use 'GeoSeries.to_crs()' to re-project geometries to a projected CRS before this operation.\n",
      "\n",
      "  geo_r = df_dateline_multi.translate(xoff=360).buffer(1e-7)\n"
     ]
    }
   ],
   "source": [
    "df_dateline_l = df_dateline_multi.copy()\n",
    "df_dateline_r = df_dateline_multi.copy()\n",
    "\n",
    "# The buffer ensures there is some overlap for merging by frame id\n",
    "geo_l = df_dateline_multi.translate(xoff=-360).buffer(1e-7)\n",
    "df_dateline_l.geometry = df_dateline_multi.geometry.union(geo_l)\n",
    "df_dateline_l_f = df_dateline_l.dissolve(by='frame_id', aggfunc='first').explode(index_parts=False)\n",
    "# only want the areas that are at the left hemisphere dateline\n",
    "df_dateline_l_f = df_dateline_l_f.cx[-180- 80:-180 + buffer, :].reset_index(drop=False)\n",
    "\n",
    "geo_r = df_dateline_multi.translate(xoff=360).buffer(1e-7)\n",
    "df_dateline_r.geometry = df_dateline_multi.geometry.union(geo_r)\n",
    "df_dateline_r_f = df_dateline_r.dissolve(by='frame_id', aggfunc='first').explode(index_parts=False)\n",
    "# only want the areas that are at the right hemisphere dateline\n",
    "df_dateline_r_f = df_dateline_r_f.cx[180 - buffer: 180 + 80, :].reset_index(drop=False)"
   ]
  },
  {
   "cell_type": "code",
   "execution_count": 27,
   "id": "379e9db7",
   "metadata": {
    "ExecuteTime": {
     "end_time": "2022-12-20T19:57:20.212058Z",
     "start_time": "2022-12-20T19:57:20.200132Z"
    }
   },
   "outputs": [
    {
     "data": {
      "text/html": [
       "<div>\n",
       "<style scoped>\n",
       "    .dataframe tbody tr th:only-of-type {\n",
       "        vertical-align: middle;\n",
       "    }\n",
       "\n",
       "    .dataframe tbody tr th {\n",
       "        vertical-align: top;\n",
       "    }\n",
       "\n",
       "    .dataframe thead th {\n",
       "        text-align: right;\n",
       "    }\n",
       "</style>\n",
       "<table border=\"1\" class=\"dataframe\">\n",
       "  <thead>\n",
       "    <tr style=\"text-align: right;\">\n",
       "      <th></th>\n",
       "      <th>frame_id</th>\n",
       "      <th>OGC_FID_min</th>\n",
       "      <th>OGC_FID_max</th>\n",
       "      <th>burst_id_min</th>\n",
       "      <th>burst_id_max</th>\n",
       "      <th>relative_orbit_numbers</th>\n",
       "      <th>look_direction</th>\n",
       "      <th>geometry</th>\n",
       "    </tr>\n",
       "  </thead>\n",
       "  <tbody>\n",
       "    <tr>\n",
       "      <th>0</th>\n",
       "      <td>61</td>\n",
       "      <td>1921</td>\n",
       "      <td>1950</td>\n",
       "      <td>641</td>\n",
       "      <td>650</td>\n",
       "      <td>1</td>\n",
       "      <td>DESCENDING</td>\n",
       "      <td>POLYGON Z ((-178.60410 70.72891 0.00000, -179....</td>\n",
       "    </tr>\n",
       "    <tr>\n",
       "      <th>1</th>\n",
       "      <td>62</td>\n",
       "      <td>1945</td>\n",
       "      <td>1974</td>\n",
       "      <td>649</td>\n",
       "      <td>658</td>\n",
       "      <td>1</td>\n",
       "      <td>DESCENDING</td>\n",
       "      <td>POLYGON Z ((-179.41537 69.42670 0.00000, -180....</td>\n",
       "    </tr>\n",
       "    <tr>\n",
       "      <th>2</th>\n",
       "      <td>63</td>\n",
       "      <td>1969</td>\n",
       "      <td>1998</td>\n",
       "      <td>657</td>\n",
       "      <td>666</td>\n",
       "      <td>1</td>\n",
       "      <td>DESCENDING</td>\n",
       "      <td>POLYGON Z ((-180.00000 68.17156 0.00000, -180....</td>\n",
       "    </tr>\n",
       "    <tr>\n",
       "      <th>3</th>\n",
       "      <td>64</td>\n",
       "      <td>1993</td>\n",
       "      <td>2022</td>\n",
       "      <td>665</td>\n",
       "      <td>674</td>\n",
       "      <td>1</td>\n",
       "      <td>DESCENDING</td>\n",
       "      <td>POLYGON Z ((-180.00000 66.81243 0.00000, -180....</td>\n",
       "    </tr>\n",
       "    <tr>\n",
       "      <th>4</th>\n",
       "      <td>65</td>\n",
       "      <td>2017</td>\n",
       "      <td>2046</td>\n",
       "      <td>673</td>\n",
       "      <td>682</td>\n",
       "      <td>1</td>\n",
       "      <td>DESCENDING</td>\n",
       "      <td>POLYGON Z ((-180.00000 65.44949 0.00000, -180....</td>\n",
       "    </tr>\n",
       "  </tbody>\n",
       "</table>\n",
       "</div>"
      ],
      "text/plain": [
       "   frame_id  OGC_FID_min  OGC_FID_max  burst_id_min  burst_id_max  \\\n",
       "0        61         1921         1950           641           650   \n",
       "1        62         1945         1974           649           658   \n",
       "2        63         1969         1998           657           666   \n",
       "3        64         1993         2022           665           674   \n",
       "4        65         2017         2046           673           682   \n",
       "\n",
       "  relative_orbit_numbers look_direction  \\\n",
       "0                      1     DESCENDING   \n",
       "1                      1     DESCENDING   \n",
       "2                      1     DESCENDING   \n",
       "3                      1     DESCENDING   \n",
       "4                      1     DESCENDING   \n",
       "\n",
       "                                            geometry  \n",
       "0  POLYGON Z ((-178.60410 70.72891 0.00000, -179....  \n",
       "1  POLYGON Z ((-179.41537 69.42670 0.00000, -180....  \n",
       "2  POLYGON Z ((-180.00000 68.17156 0.00000, -180....  \n",
       "3  POLYGON Z ((-180.00000 66.81243 0.00000, -180....  \n",
       "4  POLYGON Z ((-180.00000 65.44949 0.00000, -180....  "
      ]
     },
     "execution_count": 27,
     "metadata": {},
     "output_type": "execute_result"
    }
   ],
   "source": [
    "df_dateline_l_f.head()"
   ]
  },
  {
   "cell_type": "markdown",
   "id": "be479e40",
   "metadata": {
    "ExecuteTime": {
     "end_time": "2022-12-20T18:41:52.631377Z",
     "start_time": "2022-12-20T18:41:52.628201Z"
    }
   },
   "source": [
    "These few plots summarize our geometric manipulations showing the how we merged at each hemisphere."
   ]
  },
  {
   "cell_type": "code",
   "execution_count": 28,
   "id": "c2d8a085",
   "metadata": {
    "ExecuteTime": {
     "end_time": "2022-12-20T19:57:20.409575Z",
     "start_time": "2022-12-20T19:57:20.215429Z"
    }
   },
   "outputs": [
    {
     "data": {
      "text/plain": [
       "(-70.0, 50.0)"
      ]
     },
     "execution_count": 28,
     "metadata": {},
     "output_type": "execute_result"
    },
    {
     "data": {
      "image/png": "[encoded data removed]",
      "text/plain": [
       "<Figure size 720x1440 with 1 Axes>"
      ]
     },
     "metadata": {
      "needs_background": "light"
     },
     "output_type": "display_data"
    }
   ],
   "source": [
    "fig, ax = plt.subplots(figsize=(10, 20))\n",
    "\n",
    "df_dateline_l_f.boundary.plot(ax = ax)\n",
    "ax.set_xlim(-200, -150)\n",
    "ax.set_ylim(-70, 50)"
   ]
  },
  {
   "cell_type": "code",
   "execution_count": 29,
   "id": "5e923100",
   "metadata": {
    "ExecuteTime": {
     "end_time": "2022-12-20T19:57:20.602387Z",
     "start_time": "2022-12-20T19:57:20.411098Z"
    }
   },
   "outputs": [
    {
     "data": {
      "text/plain": [
       "(-70.0, 50.0)"
      ]
     },
     "execution_count": 29,
     "metadata": {},
     "output_type": "execute_result"
    },
    {
     "data": {
      "image/png": "[encoded data removed]",
      "text/plain": [
       "<Figure size 720x1440 with 1 Axes>"
      ]
     },
     "metadata": {
      "needs_background": "light"
     },
     "output_type": "display_data"
    }
   ],
   "source": [
    "fig, ax = plt.subplots(figsize=(10, 20))\n",
    "\n",
    "df_dateline_r_f.boundary.plot(ax = ax)\n",
    "ax.set_xlim(150, 200)\n",
    "ax.set_ylim(-70, 50)"
   ]
  },
  {
   "cell_type": "code",
   "execution_count": 30,
   "id": "2ceb28ab",
   "metadata": {
    "ExecuteTime": {
     "end_time": "2022-12-20T19:57:20.606558Z",
     "start_time": "2022-12-20T19:57:20.603937Z"
    }
   },
   "outputs": [],
   "source": [
    "frame_ids_l = df_dateline_l_f.frame_id.tolist()\n",
    "frame_ids_r = df_dateline_r_f.frame_id.tolist()\n",
    "frame_ids_dateline = list(set(frame_ids_l + frame_ids_r))"
   ]
  },
  {
   "cell_type": "code",
   "execution_count": 31,
   "id": "bf79b57f",
   "metadata": {
    "ExecuteTime": {
     "end_time": "2022-12-20T19:57:20.638962Z",
     "start_time": "2022-12-20T19:57:20.608121Z"
    }
   },
   "outputs": [
    {
     "data": {
      "text/html": [
       "<div>\n",
       "<style scoped>\n",
       "    .dataframe tbody tr th:only-of-type {\n",
       "        vertical-align: middle;\n",
       "    }\n",
       "\n",
       "    .dataframe tbody tr th {\n",
       "        vertical-align: top;\n",
       "    }\n",
       "\n",
       "    .dataframe thead th {\n",
       "        text-align: right;\n",
       "    }\n",
       "</style>\n",
       "<table border=\"1\" class=\"dataframe\">\n",
       "  <thead>\n",
       "    <tr style=\"text-align: right;\">\n",
       "      <th></th>\n",
       "      <th>frame_id</th>\n",
       "      <th>OGC_FID_min</th>\n",
       "      <th>OGC_FID_max</th>\n",
       "      <th>burst_id_min</th>\n",
       "      <th>burst_id_max</th>\n",
       "      <th>relative_orbit_numbers</th>\n",
       "      <th>look_direction</th>\n",
       "      <th>geometry</th>\n",
       "    </tr>\n",
       "  </thead>\n",
       "  <tbody>\n",
       "    <tr>\n",
       "      <th>0</th>\n",
       "      <td>0</td>\n",
       "      <td>25</td>\n",
       "      <td>54</td>\n",
       "      <td>9</td>\n",
       "      <td>18</td>\n",
       "      <td>1</td>\n",
       "      <td>ASCENDING</td>\n",
       "      <td>POLYGON Z ((3.05247 2.25444 0.00000, 3.05247 2...</td>\n",
       "    </tr>\n",
       "    <tr>\n",
       "      <th>1</th>\n",
       "      <td>1</td>\n",
       "      <td>49</td>\n",
       "      <td>78</td>\n",
       "      <td>17</td>\n",
       "      <td>26</td>\n",
       "      <td>1</td>\n",
       "      <td>ASCENDING</td>\n",
       "      <td>POLYGON Z ((2.77387 3.58901 0.00000, 2.77363 3...</td>\n",
       "    </tr>\n",
       "    <tr>\n",
       "      <th>2</th>\n",
       "      <td>2</td>\n",
       "      <td>73</td>\n",
       "      <td>102</td>\n",
       "      <td>25</td>\n",
       "      <td>34</td>\n",
       "      <td>1</td>\n",
       "      <td>ASCENDING</td>\n",
       "      <td>POLYGON Z ((2.49742 4.92387 0.00000, 2.49611 4...</td>\n",
       "    </tr>\n",
       "    <tr>\n",
       "      <th>3</th>\n",
       "      <td>3</td>\n",
       "      <td>97</td>\n",
       "      <td>126</td>\n",
       "      <td>33</td>\n",
       "      <td>42</td>\n",
       "      <td>1</td>\n",
       "      <td>ASCENDING</td>\n",
       "      <td>POLYGON Z ((2.22069 6.25855 0.00000, 2.22069 6...</td>\n",
       "    </tr>\n",
       "    <tr>\n",
       "      <th>4</th>\n",
       "      <td>4</td>\n",
       "      <td>121</td>\n",
       "      <td>150</td>\n",
       "      <td>41</td>\n",
       "      <td>50</td>\n",
       "      <td>1</td>\n",
       "      <td>ASCENDING</td>\n",
       "      <td>POLYGON Z ((1.94483 7.59326 0.00000, 1.94483 7...</td>\n",
       "    </tr>\n",
       "  </tbody>\n",
       "</table>\n",
       "</div>"
      ],
      "text/plain": [
       "   frame_id  OGC_FID_min  OGC_FID_max  burst_id_min  burst_id_max  \\\n",
       "0         0           25           54             9            18   \n",
       "1         1           49           78            17            26   \n",
       "2         2           73          102            25            34   \n",
       "3         3           97          126            33            42   \n",
       "4         4          121          150            41            50   \n",
       "\n",
       "  relative_orbit_numbers look_direction  \\\n",
       "0                      1      ASCENDING   \n",
       "1                      1      ASCENDING   \n",
       "2                      1      ASCENDING   \n",
       "3                      1      ASCENDING   \n",
       "4                      1      ASCENDING   \n",
       "\n",
       "                                            geometry  \n",
       "0  POLYGON Z ((3.05247 2.25444 0.00000, 3.05247 2...  \n",
       "1  POLYGON Z ((2.77387 3.58901 0.00000, 2.77363 3...  \n",
       "2  POLYGON Z ((2.49742 4.92387 0.00000, 2.49611 4...  \n",
       "3  POLYGON Z ((2.22069 6.25855 0.00000, 2.22069 6...  \n",
       "4  POLYGON Z ((1.94483 7.59326 0.00000, 1.94483 7...  "
      ]
     },
     "execution_count": 31,
     "metadata": {},
     "output_type": "execute_result"
    }
   ],
   "source": [
    "dateline_ind = df_frames_land.frame_id.isin(frame_ids_dateline)\n",
    "df_dateline_removed = df_frames_land[~dateline_ind].copy()\n",
    "dfs = [df_dateline_removed, df_dateline_r_f, df_dateline_l_f]\n",
    "df_frames_final = pd.concat(dfs, axis=0).reset_index(drop=True)\n",
    "df_frames_final.head()"
   ]
  },
  {
   "cell_type": "markdown",
   "id": "10def457",
   "metadata": {},
   "source": [
    "# Serialization\n",
    "\n",
    "Uncomment to inspect."
   ]
  },
  {
   "cell_type": "code",
   "execution_count": 32,
   "id": "6a145114",
   "metadata": {
    "ExecuteTime": {
     "end_time": "2022-12-20T19:57:20.642584Z",
     "start_time": "2022-12-20T19:57:20.640542Z"
    }
   },
   "outputs": [],
   "source": [
    "# df_frames_final.to_file('s1-frames.geojson', driver='GeoJSON')"
   ]
  },
  {
   "cell_type": "markdown",
   "id": "31464bae",
   "metadata": {},
   "source": [
    "# Compressed serialization\n",
    "\n",
    "This compresses the geojson into gzip format so it can be included in the package for easily."
   ]
  },
  {
   "cell_type": "code",
   "execution_count": 33,
   "id": "f2719a86",
   "metadata": {
    "ExecuteTime": {
     "end_time": "2022-12-20T19:57:20.646190Z",
     "start_time": "2022-12-20T19:57:20.643966Z"
    }
   },
   "outputs": [],
   "source": [
    "from dem_stitcher.geojson_io import to_geojson_gzip"
   ]
  },
  {
   "cell_type": "code",
   "execution_count": 34,
   "id": "cafde07b",
   "metadata": {
    "ExecuteTime": {
     "end_time": "2022-12-20T19:57:34.008548Z",
     "start_time": "2022-12-20T19:57:20.647733Z"
    }
   },
   "outputs": [
    {
     "data": {
      "text/plain": [
       "'s1_frames.geojson.gzip'"
      ]
     },
     "execution_count": 34,
     "metadata": {},
     "output_type": "execute_result"
    }
   ],
   "source": [
    "to_geojson_gzip(df_frames_final, 's1_frames.geojson.gzip')"
   ]
  }
 ],
 "metadata": {
  "kernelspec": {
   "display_name": "s1-enumerator",
   "language": "python",
   "name": "s1-enumerator"
  },
  "language_info": {
   "codemirror_mode": {
    "name": "ipython",
    "version": 3
   },
   "file_extension": ".py",
   "mimetype": "text/x-python",
   "name": "python",
   "nbconvert_exporter": "python",
   "pygments_lexer": "ipython3",
   "version": "3.9.7"
  }
 },
 "nbformat": 4,
 "nbformat_minor": 5
}

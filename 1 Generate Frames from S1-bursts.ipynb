{
 "cells": [
  {
   "cell_type": "markdown",
   "id": "567b8967",
   "metadata": {},
   "source": [
    "A well known issue with Sentinel-1 frames as they are distributed is that they are not consistent in time. A fixed-size frame can move along track North or South. This makes time-series enumeration of SLCs for interferograms more complciated.\n",
    "\n",
    "This notebook takes us through  making the Sentinel-1 \"fixed-frames\" (or here just \"frames\") derived from the burst footprints. Bursts are fixed footprints that represent imaging area of the Sentinel-1 IW-mode SAR. The burst map data has generated huge excitement because they represent fixed gegraphic areas through time. The frames that we are defining are a self-imposed organization scheme to allow us to perform large regional scale time-series analysis at roughly the scale of the originally distributed ESA frames.\n",
    "\n",
    "The burst maps are downloaded from ESA [page](https://sar-mpc.eu/test-data-sets/). We downloaded `S1_burstid_20220530`.\n",
    "\n",
    "There is some discussion about the metadata found in this table the next notebook. Here, we jumping right to do it to take each burst (across all three swaths) and collect them into a group of 10 within a \"frame\" so that each frame has a 2 burst overlap. Of course, the number of bursts within a frame and of overlapping neighboring frames could easily be re-configured here. These are based on the approximate size of frames as they are currently distributed via ESA."
   ]
  },
  {
   "cell_type": "code",
   "execution_count": 1,
   "id": "geological-heading",
   "metadata": {
    "ExecuteTime": {
     "end_time": "2022-11-12T00:19:29.820944Z",
     "start_time": "2022-11-12T00:19:28.834760Z"
    }
   },
   "outputs": [],
   "source": [
    "import sqlite3\n",
    "import geopandas as gpd\n",
    "import matplotlib.pyplot as plt\n",
    "import numpy as np\n",
    "from tqdm import tqdm\n",
    "import pandas as pd\n",
    "from dem_stitcher.datasets import get_dem_tile_extents\n",
    "from rasterio.crs import CRS\n",
    "import warnings"
   ]
  },
  {
   "cell_type": "code",
   "execution_count": 2,
   "id": "7ddf1b58",
   "metadata": {
    "ExecuteTime": {
     "end_time": "2022-11-12T00:19:29.824717Z",
     "start_time": "2022-11-12T00:19:29.822536Z"
    }
   },
   "outputs": [],
   "source": [
    "LAND_INTERSECTION = 'usgs' \n",
    "\n",
    "assert LAND_INTERSECTION in ['world_ne', 'glo_30', 'usgs']"
   ]
  },
  {
   "cell_type": "markdown",
   "id": "preliminary-model",
   "metadata": {},
   "source": [
    "# Read Burst Data\n",
    "\n",
    "The data needs to be unzipped first in this directory."
   ]
  },
  {
   "cell_type": "code",
   "execution_count": 3,
   "id": "honey-wagon",
   "metadata": {
    "ExecuteTime": {
     "end_time": "2022-11-12T00:19:52.691068Z",
     "start_time": "2022-11-12T00:19:29.828609Z"
    }
   },
   "outputs": [
    {
     "name": "stdout",
     "output_type": "stream",
     "text": [
      "CPU times: user 2 µs, sys: 0 ns, total: 2 µs\n",
      "Wall time: 4.77 µs\n"
     ]
    }
   ],
   "source": [
    "%time\n",
    "\n",
    "# SQL must wrap the geometry in hex(st_asbinary(...))\n",
    "sql = \"SELECT * FROM burst_id_map;\"\n",
    "con = sqlite3.connect(\"S1_burstid_20220530/IW/sqlite/burst_map_IW_000001_375887.sqlite3\")\n",
    "\n",
    "df_burst = gpd.GeoDataFrame.from_postgis(sql, con, geom_col=\"GEOMETRY\")"
   ]
  },
  {
   "cell_type": "code",
   "execution_count": 4,
   "id": "classical-negative",
   "metadata": {
    "ExecuteTime": {
     "end_time": "2022-11-12T00:19:52.704854Z",
     "start_time": "2022-11-12T00:19:52.692688Z"
    }
   },
   "outputs": [
    {
     "data": {
      "text/html": [
       "<div>\n",
       "<style scoped>\n",
       "    .dataframe tbody tr th:only-of-type {\n",
       "        vertical-align: middle;\n",
       "    }\n",
       "\n",
       "    .dataframe tbody tr th {\n",
       "        vertical-align: top;\n",
       "    }\n",
       "\n",
       "    .dataframe thead th {\n",
       "        text-align: right;\n",
       "    }\n",
       "</style>\n",
       "<table border=\"1\" class=\"dataframe\">\n",
       "  <thead>\n",
       "    <tr style=\"text-align: right;\">\n",
       "      <th></th>\n",
       "      <th>OGC_FID</th>\n",
       "      <th>GEOMETRY</th>\n",
       "      <th>burst_id</th>\n",
       "      <th>subswath_name</th>\n",
       "      <th>relative_orbit_number</th>\n",
       "      <th>time_from_anx_sec</th>\n",
       "      <th>orbit_pass</th>\n",
       "    </tr>\n",
       "  </thead>\n",
       "  <tbody>\n",
       "    <tr>\n",
       "      <th>0</th>\n",
       "      <td>1</td>\n",
       "      <td>MULTIPOLYGON Z (((3.36758 0.75322 0.00000, 3.7...</td>\n",
       "      <td>1</td>\n",
       "      <td>IW1</td>\n",
       "      <td>1</td>\n",
       "      <td>2.301015</td>\n",
       "      <td>ASCENDING</td>\n",
       "    </tr>\n",
       "    <tr>\n",
       "      <th>1</th>\n",
       "      <td>2</td>\n",
       "      <td>MULTIPOLYGON Z (((4.09178 0.97402 0.00000, 4.5...</td>\n",
       "      <td>1</td>\n",
       "      <td>IW2</td>\n",
       "      <td>1</td>\n",
       "      <td>3.133218</td>\n",
       "      <td>ASCENDING</td>\n",
       "    </tr>\n",
       "    <tr>\n",
       "      <th>2</th>\n",
       "      <td>3</td>\n",
       "      <td>MULTIPOLYGON Z (((4.85545 1.19200 0.00000, 5.2...</td>\n",
       "      <td>1</td>\n",
       "      <td>IW3</td>\n",
       "      <td>1</td>\n",
       "      <td>4.211255</td>\n",
       "      <td>ASCENDING</td>\n",
       "    </tr>\n",
       "    <tr>\n",
       "      <th>3</th>\n",
       "      <td>4</td>\n",
       "      <td>MULTIPOLYGON Z (((3.33269 0.92005 0.00000, 3.7...</td>\n",
       "      <td>2</td>\n",
       "      <td>IW1</td>\n",
       "      <td>1</td>\n",
       "      <td>5.059288</td>\n",
       "      <td>ASCENDING</td>\n",
       "    </tr>\n",
       "    <tr>\n",
       "      <th>4</th>\n",
       "      <td>5</td>\n",
       "      <td>MULTIPOLYGON Z (((4.05690 1.14071 0.00000, 4.4...</td>\n",
       "      <td>2</td>\n",
       "      <td>IW2</td>\n",
       "      <td>1</td>\n",
       "      <td>5.891491</td>\n",
       "      <td>ASCENDING</td>\n",
       "    </tr>\n",
       "  </tbody>\n",
       "</table>\n",
       "</div>"
      ],
      "text/plain": [
       "   OGC_FID                                           GEOMETRY  burst_id  \\\n",
       "0        1  MULTIPOLYGON Z (((3.36758 0.75322 0.00000, 3.7...         1   \n",
       "1        2  MULTIPOLYGON Z (((4.09178 0.97402 0.00000, 4.5...         1   \n",
       "2        3  MULTIPOLYGON Z (((4.85545 1.19200 0.00000, 5.2...         1   \n",
       "3        4  MULTIPOLYGON Z (((3.33269 0.92005 0.00000, 3.7...         2   \n",
       "4        5  MULTIPOLYGON Z (((4.05690 1.14071 0.00000, 4.4...         2   \n",
       "\n",
       "  subswath_name  relative_orbit_number  time_from_anx_sec orbit_pass  \n",
       "0           IW1                      1           2.301015  ASCENDING  \n",
       "1           IW2                      1           3.133218  ASCENDING  \n",
       "2           IW3                      1           4.211255  ASCENDING  \n",
       "3           IW1                      1           5.059288  ASCENDING  \n",
       "4           IW2                      1           5.891491  ASCENDING  "
      ]
     },
     "execution_count": 4,
     "metadata": {},
     "output_type": "execute_result"
    }
   ],
   "source": [
    "df_burst.head()"
   ]
  },
  {
   "cell_type": "markdown",
   "id": "45eab5cb",
   "metadata": {},
   "source": [
    "# Burst Aggregation\n",
    "\n",
    "Each burst covers three swaths. So we want to merge these bursts together as a single geometric object."
   ]
  },
  {
   "cell_type": "code",
   "execution_count": 5,
   "id": "65b8079c",
   "metadata": {
    "ExecuteTime": {
     "end_time": "2022-11-12T00:19:52.820627Z",
     "start_time": "2022-11-12T00:19:52.706347Z"
    }
   },
   "outputs": [
    {
     "data": {
      "text/plain": [
       "<AxesSubplot:>"
      ]
     },
     "execution_count": 5,
     "metadata": {},
     "output_type": "execute_result"
    },
    {
     "data": {
      "image/png": "[encoded data removed]",
      "text/plain": [
       "<Figure size 432x288 with 1 Axes>"
      ]
     },
     "metadata": {
      "needs_background": "light"
     },
     "output_type": "display_data"
    }
   ],
   "source": [
    "df_burst.head(30).plot(column='burst_id', categorical=True)"
   ]
  },
  {
   "cell_type": "code",
   "execution_count": 6,
   "id": "e196ec71",
   "metadata": {
    "ExecuteTime": {
     "end_time": "2022-11-12T00:22:29.295866Z",
     "start_time": "2022-11-12T00:19:52.822256Z"
    }
   },
   "outputs": [
    {
     "name": "stdout",
     "output_type": "stream",
     "text": [
      "CPU times: user 2min 35s, sys: 884 ms, total: 2min 36s\n",
      "Wall time: 2min 36s\n"
     ]
    },
    {
     "name": "stderr",
     "output_type": "stream",
     "text": [
      "/Users/cmarshak/opt/anaconda3/envs/s1-enumerator/lib/python3.9/site-packages/pandas/core/frame.py:9130: FutureWarning: merging between different levels is deprecated and will be removed in a future version. (1 levels on the left,2 on the right)\n",
      "  return merge(\n"
     ]
    }
   ],
   "source": [
    "%%time\n",
    "\n",
    "def join_track_numbers(orbits: list) -> str:\n",
    "    orbits = list(set(orbits))\n",
    "    orbits_str = list(map(str, orbits))\n",
    "    return ','.join(orbits_str)\n",
    "\n",
    "\n",
    "df_burst_triplet_temp = df_burst.dissolve(by='burst_id', \n",
    "                                          aggfunc={'OGC_FID': ['min', 'max'],\n",
    "                                                   'relative_orbit_number': join_track_numbers,\n",
    "                                                   'orbit_pass': 'first'}, \n",
    "                                          as_index=False)"
   ]
  },
  {
   "cell_type": "markdown",
   "id": "2cb59573",
   "metadata": {
    "ExecuteTime": {
     "end_time": "2022-11-12T00:22:29.300265Z",
     "start_time": "2022-11-12T00:22:29.297270Z"
    }
   },
   "source": [
    "We keep store this as an alternative dataframe because we want to rename columns."
   ]
  },
  {
   "cell_type": "code",
   "execution_count": 8,
   "id": "d3f98638",
   "metadata": {
    "ExecuteTime": {
     "end_time": "2022-11-12T00:26:31.351409Z",
     "start_time": "2022-11-12T00:26:31.341365Z"
    }
   },
   "outputs": [
    {
     "data": {
      "text/html": [
       "<div>\n",
       "<style scoped>\n",
       "    .dataframe tbody tr th:only-of-type {\n",
       "        vertical-align: middle;\n",
       "    }\n",
       "\n",
       "    .dataframe tbody tr th {\n",
       "        vertical-align: top;\n",
       "    }\n",
       "\n",
       "    .dataframe thead th {\n",
       "        text-align: right;\n",
       "    }\n",
       "</style>\n",
       "<table border=\"1\" class=\"dataframe\">\n",
       "  <thead>\n",
       "    <tr style=\"text-align: right;\">\n",
       "      <th></th>\n",
       "      <th>burst_id</th>\n",
       "      <th>GEOMETRY</th>\n",
       "      <th>(OGC_FID, min)</th>\n",
       "      <th>(OGC_FID, max)</th>\n",
       "      <th>(relative_orbit_number, join_track_numbers)</th>\n",
       "      <th>(orbit_pass, first)</th>\n",
       "    </tr>\n",
       "  </thead>\n",
       "  <tbody>\n",
       "    <tr>\n",
       "      <th>0</th>\n",
       "      <td>1</td>\n",
       "      <td>POLYGON Z ((4.12960 0.91167 0.00000, 3.76300 0...</td>\n",
       "      <td>1</td>\n",
       "      <td>3</td>\n",
       "      <td>1</td>\n",
       "      <td>ASCENDING</td>\n",
       "    </tr>\n",
       "    <tr>\n",
       "      <th>1</th>\n",
       "      <td>2</td>\n",
       "      <td>POLYGON Z ((4.09471 1.07835 0.00000, 3.72810 1...</td>\n",
       "      <td>4</td>\n",
       "      <td>6</td>\n",
       "      <td>1</td>\n",
       "      <td>ASCENDING</td>\n",
       "    </tr>\n",
       "    <tr>\n",
       "      <th>2</th>\n",
       "      <td>3</td>\n",
       "      <td>POLYGON Z ((4.05984 1.24503 0.00000, 3.69323 1...</td>\n",
       "      <td>7</td>\n",
       "      <td>9</td>\n",
       "      <td>1</td>\n",
       "      <td>ASCENDING</td>\n",
       "    </tr>\n",
       "    <tr>\n",
       "      <th>3</th>\n",
       "      <td>4</td>\n",
       "      <td>POLYGON Z ((4.02501 1.41172 0.00000, 3.65839 1...</td>\n",
       "      <td>10</td>\n",
       "      <td>12</td>\n",
       "      <td>1</td>\n",
       "      <td>ASCENDING</td>\n",
       "    </tr>\n",
       "    <tr>\n",
       "      <th>4</th>\n",
       "      <td>5</td>\n",
       "      <td>POLYGON Z ((3.99020 1.57841 0.00000, 3.62357 1...</td>\n",
       "      <td>13</td>\n",
       "      <td>15</td>\n",
       "      <td>1</td>\n",
       "      <td>ASCENDING</td>\n",
       "    </tr>\n",
       "  </tbody>\n",
       "</table>\n",
       "</div>"
      ],
      "text/plain": [
       "   burst_id                                           GEOMETRY  \\\n",
       "0         1  POLYGON Z ((4.12960 0.91167 0.00000, 3.76300 0...   \n",
       "1         2  POLYGON Z ((4.09471 1.07835 0.00000, 3.72810 1...   \n",
       "2         3  POLYGON Z ((4.05984 1.24503 0.00000, 3.69323 1...   \n",
       "3         4  POLYGON Z ((4.02501 1.41172 0.00000, 3.65839 1...   \n",
       "4         5  POLYGON Z ((3.99020 1.57841 0.00000, 3.62357 1...   \n",
       "\n",
       "   (OGC_FID, min)  (OGC_FID, max) (relative_orbit_number, join_track_numbers)  \\\n",
       "0               1               3                                           1   \n",
       "1               4               6                                           1   \n",
       "2               7               9                                           1   \n",
       "3              10              12                                           1   \n",
       "4              13              15                                           1   \n",
       "\n",
       "  (orbit_pass, first)  \n",
       "0           ASCENDING  \n",
       "1           ASCENDING  \n",
       "2           ASCENDING  \n",
       "3           ASCENDING  \n",
       "4           ASCENDING  "
      ]
     },
     "execution_count": 8,
     "metadata": {},
     "output_type": "execute_result"
    }
   ],
   "source": [
    "df_burst_triplet_temp.head()"
   ]
  },
  {
   "cell_type": "code",
   "execution_count": 9,
   "id": "23e43781",
   "metadata": {
    "ExecuteTime": {
     "end_time": "2022-11-12T00:26:31.601033Z",
     "start_time": "2022-11-12T00:26:31.565345Z"
    }
   },
   "outputs": [
    {
     "data": {
      "text/html": [
       "<div>\n",
       "<style scoped>\n",
       "    .dataframe tbody tr th:only-of-type {\n",
       "        vertical-align: middle;\n",
       "    }\n",
       "\n",
       "    .dataframe tbody tr th {\n",
       "        vertical-align: top;\n",
       "    }\n",
       "\n",
       "    .dataframe thead th {\n",
       "        text-align: right;\n",
       "    }\n",
       "</style>\n",
       "<table border=\"1\" class=\"dataframe\">\n",
       "  <thead>\n",
       "    <tr style=\"text-align: right;\">\n",
       "      <th></th>\n",
       "      <th>burst_id</th>\n",
       "      <th>geometry</th>\n",
       "      <th>OGC_FID_min</th>\n",
       "      <th>OGC_FID_max</th>\n",
       "      <th>relative_orbit_numbers</th>\n",
       "      <th>look_direction</th>\n",
       "    </tr>\n",
       "  </thead>\n",
       "  <tbody>\n",
       "    <tr>\n",
       "      <th>0</th>\n",
       "      <td>1</td>\n",
       "      <td>POLYGON Z ((4.12960 0.91167 0.00000, 3.76300 0...</td>\n",
       "      <td>1</td>\n",
       "      <td>3</td>\n",
       "      <td>1</td>\n",
       "      <td>ASCENDING</td>\n",
       "    </tr>\n",
       "    <tr>\n",
       "      <th>1</th>\n",
       "      <td>2</td>\n",
       "      <td>POLYGON Z ((4.09471 1.07835 0.00000, 3.72810 1...</td>\n",
       "      <td>4</td>\n",
       "      <td>6</td>\n",
       "      <td>1</td>\n",
       "      <td>ASCENDING</td>\n",
       "    </tr>\n",
       "    <tr>\n",
       "      <th>2</th>\n",
       "      <td>3</td>\n",
       "      <td>POLYGON Z ((4.05984 1.24503 0.00000, 3.69323 1...</td>\n",
       "      <td>7</td>\n",
       "      <td>9</td>\n",
       "      <td>1</td>\n",
       "      <td>ASCENDING</td>\n",
       "    </tr>\n",
       "    <tr>\n",
       "      <th>3</th>\n",
       "      <td>4</td>\n",
       "      <td>POLYGON Z ((4.02501 1.41172 0.00000, 3.65839 1...</td>\n",
       "      <td>10</td>\n",
       "      <td>12</td>\n",
       "      <td>1</td>\n",
       "      <td>ASCENDING</td>\n",
       "    </tr>\n",
       "    <tr>\n",
       "      <th>4</th>\n",
       "      <td>5</td>\n",
       "      <td>POLYGON Z ((3.99020 1.57841 0.00000, 3.62357 1...</td>\n",
       "      <td>13</td>\n",
       "      <td>15</td>\n",
       "      <td>1</td>\n",
       "      <td>ASCENDING</td>\n",
       "    </tr>\n",
       "  </tbody>\n",
       "</table>\n",
       "</div>"
      ],
      "text/plain": [
       "   burst_id                                           geometry  OGC_FID_min  \\\n",
       "0         1  POLYGON Z ((4.12960 0.91167 0.00000, 3.76300 0...            1   \n",
       "1         2  POLYGON Z ((4.09471 1.07835 0.00000, 3.72810 1...            4   \n",
       "2         3  POLYGON Z ((4.05984 1.24503 0.00000, 3.69323 1...            7   \n",
       "3         4  POLYGON Z ((4.02501 1.41172 0.00000, 3.65839 1...           10   \n",
       "4         5  POLYGON Z ((3.99020 1.57841 0.00000, 3.62357 1...           13   \n",
       "\n",
       "   OGC_FID_max relative_orbit_numbers look_direction  \n",
       "0            3                      1      ASCENDING  \n",
       "1            6                      1      ASCENDING  \n",
       "2            9                      1      ASCENDING  \n",
       "3           12                      1      ASCENDING  \n",
       "4           15                      1      ASCENDING  "
      ]
     },
     "execution_count": 9,
     "metadata": {},
     "output_type": "execute_result"
    }
   ],
   "source": [
    "df_burst_triplet = df_burst_triplet_temp.copy()\n",
    "df_burst_triplet.columns = ['burst_id', \n",
    "                            'geometry', \n",
    "                            'OGC_FID_min', \n",
    "                            'OGC_FID_max', \n",
    "                            'relative_orbit_numbers', \n",
    "                            'look_direction']\n",
    "df_burst_triplet.head()"
   ]
  },
  {
   "cell_type": "markdown",
   "id": "fa7821fb",
   "metadata": {},
   "source": [
    "We are going to assign the dataframe a CRS. Seems to get lost in our initial read of the data."
   ]
  },
  {
   "cell_type": "code",
   "execution_count": 10,
   "id": "e0eb9ea6",
   "metadata": {
    "ExecuteTime": {
     "end_time": "2022-11-12T00:26:31.998029Z",
     "start_time": "2022-11-12T00:26:31.973368Z"
    }
   },
   "outputs": [
    {
     "data": {
      "text/html": [
       "<div>\n",
       "<style scoped>\n",
       "    .dataframe tbody tr th:only-of-type {\n",
       "        vertical-align: middle;\n",
       "    }\n",
       "\n",
       "    .dataframe tbody tr th {\n",
       "        vertical-align: top;\n",
       "    }\n",
       "\n",
       "    .dataframe thead th {\n",
       "        text-align: right;\n",
       "    }\n",
       "</style>\n",
       "<table border=\"1\" class=\"dataframe\">\n",
       "  <thead>\n",
       "    <tr style=\"text-align: right;\">\n",
       "      <th></th>\n",
       "      <th>burst_id</th>\n",
       "      <th>geometry</th>\n",
       "      <th>OGC_FID_min</th>\n",
       "      <th>OGC_FID_max</th>\n",
       "      <th>relative_orbit_numbers</th>\n",
       "      <th>look_direction</th>\n",
       "    </tr>\n",
       "  </thead>\n",
       "  <tbody>\n",
       "    <tr>\n",
       "      <th>0</th>\n",
       "      <td>1</td>\n",
       "      <td>POLYGON Z ((4.12960 0.91167 0.00000, 3.76300 0...</td>\n",
       "      <td>1</td>\n",
       "      <td>3</td>\n",
       "      <td>1</td>\n",
       "      <td>ASCENDING</td>\n",
       "    </tr>\n",
       "    <tr>\n",
       "      <th>1</th>\n",
       "      <td>2</td>\n",
       "      <td>POLYGON Z ((4.09471 1.07835 0.00000, 3.72810 1...</td>\n",
       "      <td>4</td>\n",
       "      <td>6</td>\n",
       "      <td>1</td>\n",
       "      <td>ASCENDING</td>\n",
       "    </tr>\n",
       "    <tr>\n",
       "      <th>2</th>\n",
       "      <td>3</td>\n",
       "      <td>POLYGON Z ((4.05984 1.24503 0.00000, 3.69323 1...</td>\n",
       "      <td>7</td>\n",
       "      <td>9</td>\n",
       "      <td>1</td>\n",
       "      <td>ASCENDING</td>\n",
       "    </tr>\n",
       "    <tr>\n",
       "      <th>3</th>\n",
       "      <td>4</td>\n",
       "      <td>POLYGON Z ((4.02501 1.41172 0.00000, 3.65839 1...</td>\n",
       "      <td>10</td>\n",
       "      <td>12</td>\n",
       "      <td>1</td>\n",
       "      <td>ASCENDING</td>\n",
       "    </tr>\n",
       "    <tr>\n",
       "      <th>4</th>\n",
       "      <td>5</td>\n",
       "      <td>POLYGON Z ((3.99020 1.57841 0.00000, 3.62357 1...</td>\n",
       "      <td>13</td>\n",
       "      <td>15</td>\n",
       "      <td>1</td>\n",
       "      <td>ASCENDING</td>\n",
       "    </tr>\n",
       "  </tbody>\n",
       "</table>\n",
       "</div>"
      ],
      "text/plain": [
       "   burst_id                                           geometry  OGC_FID_min  \\\n",
       "0         1  POLYGON Z ((4.12960 0.91167 0.00000, 3.76300 0...            1   \n",
       "1         2  POLYGON Z ((4.09471 1.07835 0.00000, 3.72810 1...            4   \n",
       "2         3  POLYGON Z ((4.05984 1.24503 0.00000, 3.69323 1...            7   \n",
       "3         4  POLYGON Z ((4.02501 1.41172 0.00000, 3.65839 1...           10   \n",
       "4         5  POLYGON Z ((3.99020 1.57841 0.00000, 3.62357 1...           13   \n",
       "\n",
       "   OGC_FID_max relative_orbit_numbers look_direction  \n",
       "0            3                      1      ASCENDING  \n",
       "1            6                      1      ASCENDING  \n",
       "2            9                      1      ASCENDING  \n",
       "3           12                      1      ASCENDING  \n",
       "4           15                      1      ASCENDING  "
      ]
     },
     "execution_count": 10,
     "metadata": {},
     "output_type": "execute_result"
    }
   ],
   "source": [
    "df_burst_triplet = gpd.GeoDataFrame(df_burst_triplet,\n",
    "                                    geometry=df_burst_triplet.geometry,\n",
    "                                    crs=CRS.from_epsg(4326))\n",
    "df_burst_triplet.head()"
   ]
  },
  {
   "cell_type": "markdown",
   "id": "ff05f61e",
   "metadata": {},
   "source": [
    "# Land Area"
   ]
  },
  {
   "cell_type": "code",
   "execution_count": 11,
   "id": "da05e4f1",
   "metadata": {
    "ExecuteTime": {
     "end_time": "2022-11-12T00:26:32.607981Z",
     "start_time": "2022-11-12T00:26:32.317273Z"
    }
   },
   "outputs": [
    {
     "name": "stdout",
     "output_type": "stream",
     "text": [
      "CPU times: user 258 ms, sys: 32.4 ms, total: 291 ms\n",
      "Wall time: 287 ms\n"
     ]
    }
   ],
   "source": [
    "%%time\n",
    "\n",
    "if LAND_INTERSECTION == 'glo_30':\n",
    "    df_glo_30 = get_dem_tile_extents('glo_30') \n",
    "    df_land = df_glo_30[['geometry']].dissolve()\n",
    "    \n",
    "elif LAND_INTERSECTION == 'world_ne':\n",
    "    df_world = gpd.read_file(gpd.datasets.get_path('naturalearth_lowres'))\n",
    "    df_land = df_world[['geometry']].dissolve()\n",
    "else:\n",
    "    df_land = gpd.read_file('usgs_land_1deg_buffered.geojson')    \n",
    "    \n",
    "# df_land.plot()"
   ]
  },
  {
   "cell_type": "markdown",
   "id": "76fcc57b",
   "metadata": {},
   "source": [
    "## Land Intersection"
   ]
  },
  {
   "cell_type": "markdown",
   "id": "c878dba0",
   "metadata": {},
   "source": [
    "This is the most time consuming portion particularly if you are using the USGS data which take nearly 10-15 minutes. This would be hopeless if we didn't do some kind of buffer (here, simplification) in the previous notebook. "
   ]
  },
  {
   "cell_type": "code",
   "execution_count": 12,
   "id": "79365502",
   "metadata": {
    "ExecuteTime": {
     "end_time": "2022-11-12T00:33:43.899287Z",
     "start_time": "2022-11-12T00:26:32.797167Z"
    }
   },
   "outputs": [
    {
     "name": "stdout",
     "output_type": "stream",
     "text": [
      "CPU times: user 6min 27s, sys: 43.1 s, total: 7min 10s\n",
      "Wall time: 7min 11s\n"
     ]
    }
   ],
   "source": [
    "%%time\n",
    "\n",
    "df_triplet_over_land = gpd.sjoin(df_burst_triplet, \n",
    "                                 df_land, \n",
    "                                 how='inner',\n",
    "                                 predicate='intersects',\n",
    "                                 rsuffix='land')"
   ]
  },
  {
   "cell_type": "code",
   "execution_count": 13,
   "id": "92de8dc6",
   "metadata": {
    "ExecuteTime": {
     "end_time": "2022-11-12T00:33:43.924758Z",
     "start_time": "2022-11-12T00:33:43.901254Z"
    }
   },
   "outputs": [],
   "source": [
    "df_triplet_over_land.drop(columns=['index_land'], inplace=True)"
   ]
  },
  {
   "cell_type": "code",
   "execution_count": 14,
   "id": "8474e50e",
   "metadata": {
    "ExecuteTime": {
     "end_time": "2022-11-12T00:33:43.934777Z",
     "start_time": "2022-11-12T00:33:43.926328Z"
    }
   },
   "outputs": [
    {
     "data": {
      "text/html": [
       "<div>\n",
       "<style scoped>\n",
       "    .dataframe tbody tr th:only-of-type {\n",
       "        vertical-align: middle;\n",
       "    }\n",
       "\n",
       "    .dataframe tbody tr th {\n",
       "        vertical-align: top;\n",
       "    }\n",
       "\n",
       "    .dataframe thead th {\n",
       "        text-align: right;\n",
       "    }\n",
       "</style>\n",
       "<table border=\"1\" class=\"dataframe\">\n",
       "  <thead>\n",
       "    <tr style=\"text-align: right;\">\n",
       "      <th></th>\n",
       "      <th>burst_id</th>\n",
       "      <th>geometry</th>\n",
       "      <th>OGC_FID_min</th>\n",
       "      <th>OGC_FID_max</th>\n",
       "      <th>relative_orbit_numbers</th>\n",
       "      <th>look_direction</th>\n",
       "    </tr>\n",
       "  </thead>\n",
       "  <tbody>\n",
       "    <tr>\n",
       "      <th>14</th>\n",
       "      <td>15</td>\n",
       "      <td>POLYGON Z ((3.64198 3.24511 0.00000, 3.27492 3...</td>\n",
       "      <td>43</td>\n",
       "      <td>45</td>\n",
       "      <td>1</td>\n",
       "      <td>ASCENDING</td>\n",
       "    </tr>\n",
       "    <tr>\n",
       "      <th>15</th>\n",
       "      <td>16</td>\n",
       "      <td>POLYGON Z ((3.60746 3.41182 0.00000, 3.24034 3...</td>\n",
       "      <td>46</td>\n",
       "      <td>48</td>\n",
       "      <td>1</td>\n",
       "      <td>ASCENDING</td>\n",
       "    </tr>\n",
       "    <tr>\n",
       "      <th>16</th>\n",
       "      <td>17</td>\n",
       "      <td>POLYGON Z ((3.57295 3.57853 0.00000, 3.20578 3...</td>\n",
       "      <td>49</td>\n",
       "      <td>51</td>\n",
       "      <td>1</td>\n",
       "      <td>ASCENDING</td>\n",
       "    </tr>\n",
       "    <tr>\n",
       "      <th>17</th>\n",
       "      <td>18</td>\n",
       "      <td>POLYGON Z ((3.53706 3.74496 0.00000, 3.16973 3...</td>\n",
       "      <td>52</td>\n",
       "      <td>54</td>\n",
       "      <td>1</td>\n",
       "      <td>ASCENDING</td>\n",
       "    </tr>\n",
       "    <tr>\n",
       "      <th>18</th>\n",
       "      <td>19</td>\n",
       "      <td>POLYGON Z ((3.50260 3.91168 0.00000, 3.13521 3...</td>\n",
       "      <td>55</td>\n",
       "      <td>57</td>\n",
       "      <td>1</td>\n",
       "      <td>ASCENDING</td>\n",
       "    </tr>\n",
       "  </tbody>\n",
       "</table>\n",
       "</div>"
      ],
      "text/plain": [
       "    burst_id                                           geometry  OGC_FID_min  \\\n",
       "14        15  POLYGON Z ((3.64198 3.24511 0.00000, 3.27492 3...           43   \n",
       "15        16  POLYGON Z ((3.60746 3.41182 0.00000, 3.24034 3...           46   \n",
       "16        17  POLYGON Z ((3.57295 3.57853 0.00000, 3.20578 3...           49   \n",
       "17        18  POLYGON Z ((3.53706 3.74496 0.00000, 3.16973 3...           52   \n",
       "18        19  POLYGON Z ((3.50260 3.91168 0.00000, 3.13521 3...           55   \n",
       "\n",
       "    OGC_FID_max relative_orbit_numbers look_direction  \n",
       "14           45                      1      ASCENDING  \n",
       "15           48                      1      ASCENDING  \n",
       "16           51                      1      ASCENDING  \n",
       "17           54                      1      ASCENDING  \n",
       "18           57                      1      ASCENDING  "
      ]
     },
     "execution_count": 14,
     "metadata": {},
     "output_type": "execute_result"
    }
   ],
   "source": [
    "df_triplet_over_land.head()"
   ]
  },
  {
   "cell_type": "markdown",
   "id": "1189c4fd",
   "metadata": {},
   "source": [
    "Can save the filtered bursts for debugging. Just remove the comment hash."
   ]
  },
  {
   "cell_type": "code",
   "execution_count": 15,
   "id": "4467190c",
   "metadata": {
    "ExecuteTime": {
     "end_time": "2022-11-12T00:33:43.938814Z",
     "start_time": "2022-11-12T00:33:43.936618Z"
    }
   },
   "outputs": [],
   "source": [
    "# df_triplet_over_land.to_file('burst_triplets_over_land')"
   ]
  },
  {
   "cell_type": "code",
   "execution_count": 16,
   "id": "ea57b286",
   "metadata": {
    "ExecuteTime": {
     "end_time": "2022-11-12T00:34:18.076033Z",
     "start_time": "2022-11-12T00:33:43.940497Z"
    }
   },
   "outputs": [
    {
     "data": {
      "text/plain": [
       "<AxesSubplot:>"
      ]
     },
     "execution_count": 16,
     "metadata": {},
     "output_type": "execute_result"
    },
    {
     "data": {
      "image/png": "[encoded data removed]",
      "text/plain": [
       "<Figure size 432x288 with 1 Axes>"
      ]
     },
     "metadata": {
      "needs_background": "light"
     },
     "output_type": "display_data"
    }
   ],
   "source": [
    "df_triplet_over_land.plot()"
   ]
  },
  {
   "cell_type": "markdown",
   "id": "1434cab4",
   "metadata": {},
   "source": [
    "# Connected Components\n",
    "\n",
    "The land intersection breaks apart each \"relative orbit\" (or \"track\") and so we are going to break it apart by transforming the sequential burst ids."
   ]
  },
  {
   "cell_type": "code",
   "execution_count": 17,
   "id": "13dadec1",
   "metadata": {
    "ExecuteTime": {
     "end_time": "2022-11-12T00:34:18.080613Z",
     "start_time": "2022-11-12T00:34:18.077619Z"
    }
   },
   "outputs": [],
   "source": [
    "def replace_groups(data):\n",
    "    \"\"\"Source: https://stackoverflow.com/a/15709547\n",
    "    \n",
    "    Takes a list/array of integers and outputs unique sequential numbers\n",
    "    \"\"\"\n",
    "    a,b,c, = np.unique(data, True, True)\n",
    "    _, ret = np.unique(b[c], False, True)\n",
    "    return ret"
   ]
  },
  {
   "cell_type": "code",
   "execution_count": 18,
   "id": "9b611be5",
   "metadata": {
    "ExecuteTime": {
     "end_time": "2022-11-12T00:34:18.107422Z",
     "start_time": "2022-11-12T00:34:18.082285Z"
    }
   },
   "outputs": [
    {
     "data": {
      "text/html": [
       "<div>\n",
       "<style scoped>\n",
       "    .dataframe tbody tr th:only-of-type {\n",
       "        vertical-align: middle;\n",
       "    }\n",
       "\n",
       "    .dataframe tbody tr th {\n",
       "        vertical-align: top;\n",
       "    }\n",
       "\n",
       "    .dataframe thead th {\n",
       "        text-align: right;\n",
       "    }\n",
       "</style>\n",
       "<table border=\"1\" class=\"dataframe\">\n",
       "  <thead>\n",
       "    <tr style=\"text-align: right;\">\n",
       "      <th></th>\n",
       "      <th>burst_id</th>\n",
       "      <th>geometry</th>\n",
       "      <th>OGC_FID_min</th>\n",
       "      <th>OGC_FID_max</th>\n",
       "      <th>relative_orbit_numbers</th>\n",
       "      <th>look_direction</th>\n",
       "      <th>cc_index</th>\n",
       "    </tr>\n",
       "  </thead>\n",
       "  <tbody>\n",
       "    <tr>\n",
       "      <th>14</th>\n",
       "      <td>15</td>\n",
       "      <td>POLYGON Z ((3.64198 3.24511 0.00000, 3.27492 3...</td>\n",
       "      <td>43</td>\n",
       "      <td>45</td>\n",
       "      <td>1</td>\n",
       "      <td>ASCENDING</td>\n",
       "      <td>0</td>\n",
       "    </tr>\n",
       "    <tr>\n",
       "      <th>15</th>\n",
       "      <td>16</td>\n",
       "      <td>POLYGON Z ((3.60746 3.41182 0.00000, 3.24034 3...</td>\n",
       "      <td>46</td>\n",
       "      <td>48</td>\n",
       "      <td>1</td>\n",
       "      <td>ASCENDING</td>\n",
       "      <td>0</td>\n",
       "    </tr>\n",
       "    <tr>\n",
       "      <th>16</th>\n",
       "      <td>17</td>\n",
       "      <td>POLYGON Z ((3.57295 3.57853 0.00000, 3.20578 3...</td>\n",
       "      <td>49</td>\n",
       "      <td>51</td>\n",
       "      <td>1</td>\n",
       "      <td>ASCENDING</td>\n",
       "      <td>0</td>\n",
       "    </tr>\n",
       "    <tr>\n",
       "      <th>17</th>\n",
       "      <td>18</td>\n",
       "      <td>POLYGON Z ((3.53706 3.74496 0.00000, 3.16973 3...</td>\n",
       "      <td>52</td>\n",
       "      <td>54</td>\n",
       "      <td>1</td>\n",
       "      <td>ASCENDING</td>\n",
       "      <td>0</td>\n",
       "    </tr>\n",
       "    <tr>\n",
       "      <th>18</th>\n",
       "      <td>19</td>\n",
       "      <td>POLYGON Z ((3.50260 3.91168 0.00000, 3.13521 3...</td>\n",
       "      <td>55</td>\n",
       "      <td>57</td>\n",
       "      <td>1</td>\n",
       "      <td>ASCENDING</td>\n",
       "      <td>0</td>\n",
       "    </tr>\n",
       "  </tbody>\n",
       "</table>\n",
       "</div>"
      ],
      "text/plain": [
       "    burst_id                                           geometry  OGC_FID_min  \\\n",
       "14        15  POLYGON Z ((3.64198 3.24511 0.00000, 3.27492 3...           43   \n",
       "15        16  POLYGON Z ((3.60746 3.41182 0.00000, 3.24034 3...           46   \n",
       "16        17  POLYGON Z ((3.57295 3.57853 0.00000, 3.20578 3...           49   \n",
       "17        18  POLYGON Z ((3.53706 3.74496 0.00000, 3.16973 3...           52   \n",
       "18        19  POLYGON Z ((3.50260 3.91168 0.00000, 3.13521 3...           55   \n",
       "\n",
       "    OGC_FID_max relative_orbit_numbers look_direction  cc_index  \n",
       "14           45                      1      ASCENDING         0  \n",
       "15           48                      1      ASCENDING         0  \n",
       "16           51                      1      ASCENDING         0  \n",
       "17           54                      1      ASCENDING         0  \n",
       "18           57                      1      ASCENDING         0  "
      ]
     },
     "execution_count": 18,
     "metadata": {},
     "output_type": "execute_result"
    }
   ],
   "source": [
    "# The burst ids should be sequential unless the track misses bursts. The initial transformation thus should be\n",
    "# 0 along connected components and take jumps elsewhere\n",
    "temp = (df_triplet_over_land.burst_id.diff() - 1).cumsum()\n",
    "# The first element of diff is np.nan\n",
    "temp[:1] = 0\n",
    "# Ensure uniqueness\n",
    "temp = replace_groups(temp.astype(int))\n",
    "df_triplet_over_land['cc_index'] = temp.astype(int)\n",
    "df_triplet_over_land.head()"
   ]
  },
  {
   "cell_type": "markdown",
   "id": "12f1e255",
   "metadata": {},
   "source": [
    "Can save a small chunk to be viewed in QGIS."
   ]
  },
  {
   "cell_type": "code",
   "execution_count": 19,
   "id": "b27e91a2",
   "metadata": {
    "ExecuteTime": {
     "end_time": "2022-11-12T00:34:18.110813Z",
     "start_time": "2022-11-12T00:34:18.108880Z"
    }
   },
   "outputs": [],
   "source": [
    "# df_triplet_over_land.iloc[:1_000].to_file('cc_index_test')"
   ]
  },
  {
   "cell_type": "markdown",
   "id": "innocent-pontiac",
   "metadata": {},
   "source": [
    "# Collect Frames by Burst Triplet\n",
    "\n",
    "We need overlapping frames. We set the burst id to be the index of the dataframe within each connected component and traverse that way. This was fasted from what I tested and it was not clear how to use groupby for overlapping rows.\n",
    "\n",
    "I do alot of aggregation for accounting. This makes the dissolve much slower. This can be sped up removing the `agg_dict`."
   ]
  },
  {
   "cell_type": "code",
   "execution_count": 20,
   "id": "2e39b275",
   "metadata": {
    "ExecuteTime": {
     "end_time": "2022-11-12T00:34:18.120288Z",
     "start_time": "2022-11-12T00:34:18.112456Z"
    }
   },
   "outputs": [],
   "source": [
    "def join_track_numbers_2(orbit_str_l: list) -> str:\n",
    "    orbit_str_all = [orbit for orbit_str in orbit_str_l for orbit in orbit_str.split(',')]\n",
    "    orbit_unique = list(set(orbit_str_all))\n",
    "    return ','.join(orbit_unique)\n",
    "\n",
    "def join_look_direction(look_direction_l: list) -> str:\n",
    "    return ','.join(list(set(look_direction_l)))\n",
    "\n",
    "def extract_frames(df_group, \n",
    "                   n_bursts_per_swath = 10, \n",
    "                   o_bursts_per_swath = 2):\n",
    "    \n",
    "    if df_group.empty:\n",
    "        return df_group\n",
    "    \n",
    "    # Index Accounting\n",
    "    O = o_bursts_per_swath\n",
    "    N = n_bursts_per_swath\n",
    "\n",
    "    min_triplet_id = df_group.burst_id.min()\n",
    "    max_triplet_id = df_group.burst_id.max()\n",
    "    total_triplets_float = (max_triplet_id - min_triplet_id) / (N - O)\n",
    "    total_triplets = int(np.ceil(total_triplets_float))\n",
    "    triplets_remainder = (max_triplet_id - min_triplet_id) % (N - O)\n",
    "    \n",
    "    T = max(total_triplets, 1)\n",
    "\n",
    "    df_temp = df_group.copy()\n",
    "    df_temp = df_temp.set_index('burst_id')\n",
    "\n",
    "    # Note the index\n",
    "    starts = [max(k * (N - O), 0) for k in range(T)]\n",
    "    stops = [s + N for s in starts]\n",
    "    \n",
    "    agg_dict = {'OGC_FID_min': 'min',\n",
    "                'OGC_FID_max': 'max',\n",
    "                'burst_id': ['min', 'max'],\n",
    "                'relative_orbit_numbers': join_track_numbers_2,\n",
    "                'look_direction': join_look_direction, \n",
    "                'cc_index': 'first'}\n",
    "    \n",
    "    with warnings.catch_warnings():\n",
    "        warnings.simplefilter(\"ignore\", category=FutureWarning)\n",
    "        frames_l = [df_temp.iloc[start: stop].reset_index(drop=False).dissolve(aggfunc=agg_dict) \n",
    "                    for start, stop in zip((starts), stops)]\n",
    "\n",
    "    if (T > 1) and (triplets_remainder < (N - O)):\n",
    "        last_dfs = frames_l[-2:]\n",
    "        frames_l = frames_l[:-2]\n",
    "\n",
    "        df_last = pd.concat(last_dfs, axis=0).dissolve()\n",
    "\n",
    "        frames_l.append(df_last)\n",
    "        \n",
    "    df_frames = pd.concat(frames_l, axis=0)\n",
    "    \n",
    "    df_frames.columns = ['geometry', \n",
    "                         'OGC_FID_min', \n",
    "                         'OGC_FID_max', \n",
    "                         'burst_id_min',\n",
    "                         'burst_id_max',\n",
    "                         'relative_orbit_numbers', \n",
    "                         'look_direction',\n",
    "                         'connected_component']\n",
    "    \n",
    "    return df_frames"
   ]
  },
  {
   "cell_type": "code",
   "execution_count": 21,
   "id": "973c77a5",
   "metadata": {
    "ExecuteTime": {
     "end_time": "2022-11-12T00:38:14.029543Z",
     "start_time": "2022-11-12T00:34:18.123195Z"
    }
   },
   "outputs": [
    {
     "name": "stderr",
     "output_type": "stream",
     "text": [
      "100%|████████████| 1906/1906 [03:55<00:00,  8.08it/s]"
     ]
    },
    {
     "name": "stdout",
     "output_type": "stream",
     "text": [
      "CPU times: user 3min 54s, sys: 1.73 s, total: 3min 56s\n",
      "Wall time: 3min 55s\n"
     ]
    },
    {
     "name": "stderr",
     "output_type": "stream",
     "text": [
      "\n"
     ]
    },
    {
     "data": {
      "text/html": [
       "<div>\n",
       "<style scoped>\n",
       "    .dataframe tbody tr th:only-of-type {\n",
       "        vertical-align: middle;\n",
       "    }\n",
       "\n",
       "    .dataframe tbody tr th {\n",
       "        vertical-align: top;\n",
       "    }\n",
       "\n",
       "    .dataframe thead th {\n",
       "        text-align: right;\n",
       "    }\n",
       "</style>\n",
       "<table border=\"1\" class=\"dataframe\">\n",
       "  <thead>\n",
       "    <tr style=\"text-align: right;\">\n",
       "      <th></th>\n",
       "      <th>geometry</th>\n",
       "      <th>OGC_FID_min</th>\n",
       "      <th>OGC_FID_max</th>\n",
       "      <th>burst_id_min</th>\n",
       "      <th>burst_id_max</th>\n",
       "      <th>relative_orbit_numbers</th>\n",
       "      <th>look_direction</th>\n",
       "      <th>connected_component</th>\n",
       "    </tr>\n",
       "  </thead>\n",
       "  <tbody>\n",
       "    <tr>\n",
       "      <th>0</th>\n",
       "      <td>POLYGON Z ((2.84448 3.25558 0.00000, 2.84448 3...</td>\n",
       "      <td>43</td>\n",
       "      <td>72</td>\n",
       "      <td>15</td>\n",
       "      <td>24</td>\n",
       "      <td>1</td>\n",
       "      <td>ASCENDING</td>\n",
       "      <td>0</td>\n",
       "    </tr>\n",
       "    <tr>\n",
       "      <th>0</th>\n",
       "      <td>POLYGON Z ((2.56639 4.59014 0.00000, 2.56639 4...</td>\n",
       "      <td>67</td>\n",
       "      <td>96</td>\n",
       "      <td>23</td>\n",
       "      <td>32</td>\n",
       "      <td>1</td>\n",
       "      <td>ASCENDING</td>\n",
       "      <td>0</td>\n",
       "    </tr>\n",
       "    <tr>\n",
       "      <th>0</th>\n",
       "      <td>POLYGON Z ((2.28948 5.92481 0.00000, 2.28948 5...</td>\n",
       "      <td>91</td>\n",
       "      <td>120</td>\n",
       "      <td>31</td>\n",
       "      <td>40</td>\n",
       "      <td>1</td>\n",
       "      <td>ASCENDING</td>\n",
       "      <td>0</td>\n",
       "    </tr>\n",
       "    <tr>\n",
       "      <th>0</th>\n",
       "      <td>POLYGON Z ((2.01349 7.25953 0.00000, 2.01349 7...</td>\n",
       "      <td>115</td>\n",
       "      <td>144</td>\n",
       "      <td>39</td>\n",
       "      <td>48</td>\n",
       "      <td>1</td>\n",
       "      <td>ASCENDING</td>\n",
       "      <td>0</td>\n",
       "    </tr>\n",
       "    <tr>\n",
       "      <th>0</th>\n",
       "      <td>POLYGON Z ((1.73823 8.59428 0.00000, 1.73823 8...</td>\n",
       "      <td>139</td>\n",
       "      <td>168</td>\n",
       "      <td>47</td>\n",
       "      <td>56</td>\n",
       "      <td>1</td>\n",
       "      <td>ASCENDING</td>\n",
       "      <td>0</td>\n",
       "    </tr>\n",
       "    <tr>\n",
       "      <th>0</th>\n",
       "      <td>POLYGON Z ((1.45775 9.95702 0.00000, 1.45775 9...</td>\n",
       "      <td>163</td>\n",
       "      <td>192</td>\n",
       "      <td>55</td>\n",
       "      <td>64</td>\n",
       "      <td>1</td>\n",
       "      <td>ASCENDING</td>\n",
       "      <td>0</td>\n",
       "    </tr>\n",
       "    <tr>\n",
       "      <th>0</th>\n",
       "      <td>POLYGON Z ((1.18914 11.26370 0.00000, 1.18914 ...</td>\n",
       "      <td>187</td>\n",
       "      <td>216</td>\n",
       "      <td>63</td>\n",
       "      <td>72</td>\n",
       "      <td>1</td>\n",
       "      <td>ASCENDING</td>\n",
       "      <td>0</td>\n",
       "    </tr>\n",
       "    <tr>\n",
       "      <th>0</th>\n",
       "      <td>POLYGON Z ((0.91212 12.61163 0.00000, 0.87479 ...</td>\n",
       "      <td>211</td>\n",
       "      <td>240</td>\n",
       "      <td>71</td>\n",
       "      <td>80</td>\n",
       "      <td>1</td>\n",
       "      <td>ASCENDING</td>\n",
       "      <td>0</td>\n",
       "    </tr>\n",
       "    <tr>\n",
       "      <th>0</th>\n",
       "      <td>POLYGON Z ((0.63804 13.94393 0.00000, 0.60392 ...</td>\n",
       "      <td>235</td>\n",
       "      <td>264</td>\n",
       "      <td>79</td>\n",
       "      <td>88</td>\n",
       "      <td>1</td>\n",
       "      <td>ASCENDING</td>\n",
       "      <td>0</td>\n",
       "    </tr>\n",
       "    <tr>\n",
       "      <th>0</th>\n",
       "      <td>POLYGON Z ((0.36263 15.28115 0.00000, 0.32721 ...</td>\n",
       "      <td>259</td>\n",
       "      <td>288</td>\n",
       "      <td>87</td>\n",
       "      <td>96</td>\n",
       "      <td>1</td>\n",
       "      <td>ASCENDING</td>\n",
       "      <td>0</td>\n",
       "    </tr>\n",
       "    <tr>\n",
       "      <th>0</th>\n",
       "      <td>POLYGON Z ((0.08391 16.62922 0.00000, 0.08448 ...</td>\n",
       "      <td>283</td>\n",
       "      <td>312</td>\n",
       "      <td>95</td>\n",
       "      <td>104</td>\n",
       "      <td>1</td>\n",
       "      <td>ASCENDING</td>\n",
       "      <td>0</td>\n",
       "    </tr>\n",
       "    <tr>\n",
       "      <th>0</th>\n",
       "      <td>POLYGON Z ((-0.19226 17.96315 0.00000, -0.1921...</td>\n",
       "      <td>307</td>\n",
       "      <td>336</td>\n",
       "      <td>103</td>\n",
       "      <td>112</td>\n",
       "      <td>1</td>\n",
       "      <td>ASCENDING</td>\n",
       "      <td>0</td>\n",
       "    </tr>\n",
       "    <tr>\n",
       "      <th>0</th>\n",
       "      <td>POLYGON Z ((-0.46547 19.27865 0.00000, -0.5041...</td>\n",
       "      <td>331</td>\n",
       "      <td>360</td>\n",
       "      <td>111</td>\n",
       "      <td>120</td>\n",
       "      <td>1</td>\n",
       "      <td>ASCENDING</td>\n",
       "      <td>0</td>\n",
       "    </tr>\n",
       "    <tr>\n",
       "      <th>0</th>\n",
       "      <td>POLYGON Z ((-0.74465 20.61716 0.00000, -0.7795...</td>\n",
       "      <td>355</td>\n",
       "      <td>384</td>\n",
       "      <td>119</td>\n",
       "      <td>128</td>\n",
       "      <td>1</td>\n",
       "      <td>ASCENDING</td>\n",
       "      <td>0</td>\n",
       "    </tr>\n",
       "    <tr>\n",
       "      <th>0</th>\n",
       "      <td>POLYGON Z ((-1.02409 21.95051 0.00000, -1.0582...</td>\n",
       "      <td>379</td>\n",
       "      <td>408</td>\n",
       "      <td>127</td>\n",
       "      <td>136</td>\n",
       "      <td>1</td>\n",
       "      <td>ASCENDING</td>\n",
       "      <td>0</td>\n",
       "    </tr>\n",
       "    <tr>\n",
       "      <th>0</th>\n",
       "      <td>POLYGON Z ((-1.30472 23.28176 0.00000, -1.3399...</td>\n",
       "      <td>403</td>\n",
       "      <td>432</td>\n",
       "      <td>135</td>\n",
       "      <td>144</td>\n",
       "      <td>1</td>\n",
       "      <td>ASCENDING</td>\n",
       "      <td>0</td>\n",
       "    </tr>\n",
       "    <tr>\n",
       "      <th>0</th>\n",
       "      <td>POLYGON Z ((-1.58734 24.61387 0.00000, -1.6229...</td>\n",
       "      <td>427</td>\n",
       "      <td>456</td>\n",
       "      <td>143</td>\n",
       "      <td>152</td>\n",
       "      <td>1</td>\n",
       "      <td>ASCENDING</td>\n",
       "      <td>0</td>\n",
       "    </tr>\n",
       "    <tr>\n",
       "      <th>0</th>\n",
       "      <td>POLYGON Z ((-1.87259 25.94780 0.00000, -1.9078...</td>\n",
       "      <td>451</td>\n",
       "      <td>480</td>\n",
       "      <td>151</td>\n",
       "      <td>160</td>\n",
       "      <td>1</td>\n",
       "      <td>ASCENDING</td>\n",
       "      <td>0</td>\n",
       "    </tr>\n",
       "    <tr>\n",
       "      <th>0</th>\n",
       "      <td>POLYGON Z ((-2.15941 27.27776 0.00000, -2.1961...</td>\n",
       "      <td>475</td>\n",
       "      <td>504</td>\n",
       "      <td>159</td>\n",
       "      <td>168</td>\n",
       "      <td>1</td>\n",
       "      <td>ASCENDING</td>\n",
       "      <td>0</td>\n",
       "    </tr>\n",
       "    <tr>\n",
       "      <th>0</th>\n",
       "      <td>POLYGON Z ((-2.44905 28.60818 0.00000, -2.4860...</td>\n",
       "      <td>499</td>\n",
       "      <td>528</td>\n",
       "      <td>167</td>\n",
       "      <td>176</td>\n",
       "      <td>1</td>\n",
       "      <td>ASCENDING</td>\n",
       "      <td>0</td>\n",
       "    </tr>\n",
       "    <tr>\n",
       "      <th>0</th>\n",
       "      <td>POLYGON Z ((-2.74224 29.94093 0.00000, -2.7791...</td>\n",
       "      <td>523</td>\n",
       "      <td>552</td>\n",
       "      <td>175</td>\n",
       "      <td>184</td>\n",
       "      <td>1</td>\n",
       "      <td>ASCENDING</td>\n",
       "      <td>0</td>\n",
       "    </tr>\n",
       "    <tr>\n",
       "      <th>0</th>\n",
       "      <td>POLYGON Z ((-3.03821 31.27070 0.00000, -3.0760...</td>\n",
       "      <td>547</td>\n",
       "      <td>576</td>\n",
       "      <td>183</td>\n",
       "      <td>192</td>\n",
       "      <td>1</td>\n",
       "      <td>ASCENDING</td>\n",
       "      <td>0</td>\n",
       "    </tr>\n",
       "    <tr>\n",
       "      <th>0</th>\n",
       "      <td>POLYGON Z ((-3.34134 32.61506 0.00000, -3.3762...</td>\n",
       "      <td>571</td>\n",
       "      <td>600</td>\n",
       "      <td>191</td>\n",
       "      <td>200</td>\n",
       "      <td>1</td>\n",
       "      <td>ASCENDING</td>\n",
       "      <td>0</td>\n",
       "    </tr>\n",
       "    <tr>\n",
       "      <th>0</th>\n",
       "      <td>POLYGON Z ((-3.64890 33.94424 0.00000, -3.6452...</td>\n",
       "      <td>595</td>\n",
       "      <td>624</td>\n",
       "      <td>199</td>\n",
       "      <td>208</td>\n",
       "      <td>1</td>\n",
       "      <td>ASCENDING</td>\n",
       "      <td>0</td>\n",
       "    </tr>\n",
       "    <tr>\n",
       "      <th>0</th>\n",
       "      <td>POLYGON Z ((-3.95398 35.25841 0.00000, -3.9968...</td>\n",
       "      <td>619</td>\n",
       "      <td>648</td>\n",
       "      <td>207</td>\n",
       "      <td>216</td>\n",
       "      <td>1</td>\n",
       "      <td>ASCENDING</td>\n",
       "      <td>0</td>\n",
       "    </tr>\n",
       "    <tr>\n",
       "      <th>0</th>\n",
       "      <td>POLYGON Z ((-4.26760 36.58754 0.00000, -4.3073...</td>\n",
       "      <td>643</td>\n",
       "      <td>672</td>\n",
       "      <td>215</td>\n",
       "      <td>224</td>\n",
       "      <td>1</td>\n",
       "      <td>ASCENDING</td>\n",
       "      <td>0</td>\n",
       "    </tr>\n",
       "    <tr>\n",
       "      <th>0</th>\n",
       "      <td>POLYGON Z ((-4.58624 37.91411 0.00000, -4.6270...</td>\n",
       "      <td>667</td>\n",
       "      <td>696</td>\n",
       "      <td>223</td>\n",
       "      <td>232</td>\n",
       "      <td>1</td>\n",
       "      <td>ASCENDING</td>\n",
       "      <td>0</td>\n",
       "    </tr>\n",
       "    <tr>\n",
       "      <th>0</th>\n",
       "      <td>POLYGON Z ((-4.91122 39.24170 0.00000, -4.9529...</td>\n",
       "      <td>691</td>\n",
       "      <td>720</td>\n",
       "      <td>231</td>\n",
       "      <td>240</td>\n",
       "      <td>1</td>\n",
       "      <td>ASCENDING</td>\n",
       "      <td>0</td>\n",
       "    </tr>\n",
       "    <tr>\n",
       "      <th>0</th>\n",
       "      <td>POLYGON Z ((-5.24226 40.56688 0.00000, -5.2849...</td>\n",
       "      <td>715</td>\n",
       "      <td>744</td>\n",
       "      <td>239</td>\n",
       "      <td>248</td>\n",
       "      <td>1</td>\n",
       "      <td>ASCENDING</td>\n",
       "      <td>0</td>\n",
       "    </tr>\n",
       "    <tr>\n",
       "      <th>0</th>\n",
       "      <td>POLYGON Z ((-5.58110 41.89322 0.00000, -5.6245...</td>\n",
       "      <td>739</td>\n",
       "      <td>768</td>\n",
       "      <td>247</td>\n",
       "      <td>256</td>\n",
       "      <td>1</td>\n",
       "      <td>ASCENDING</td>\n",
       "      <td>0</td>\n",
       "    </tr>\n",
       "    <tr>\n",
       "      <th>0</th>\n",
       "      <td>POLYGON Z ((-5.97203 43.38316 0.00000, -6.0166...</td>\n",
       "      <td>763</td>\n",
       "      <td>792</td>\n",
       "      <td>255</td>\n",
       "      <td>264</td>\n",
       "      <td>1</td>\n",
       "      <td>ASCENDING</td>\n",
       "      <td>0</td>\n",
       "    </tr>\n",
       "  </tbody>\n",
       "</table>\n",
       "</div>"
      ],
      "text/plain": [
       "                                            geometry  OGC_FID_min  \\\n",
       "0  POLYGON Z ((2.84448 3.25558 0.00000, 2.84448 3...           43   \n",
       "0  POLYGON Z ((2.56639 4.59014 0.00000, 2.56639 4...           67   \n",
       "0  POLYGON Z ((2.28948 5.92481 0.00000, 2.28948 5...           91   \n",
       "0  POLYGON Z ((2.01349 7.25953 0.00000, 2.01349 7...          115   \n",
       "0  POLYGON Z ((1.73823 8.59428 0.00000, 1.73823 8...          139   \n",
       "0  POLYGON Z ((1.45775 9.95702 0.00000, 1.45775 9...          163   \n",
       "0  POLYGON Z ((1.18914 11.26370 0.00000, 1.18914 ...          187   \n",
       "0  POLYGON Z ((0.91212 12.61163 0.00000, 0.87479 ...          211   \n",
       "0  POLYGON Z ((0.63804 13.94393 0.00000, 0.60392 ...          235   \n",
       "0  POLYGON Z ((0.36263 15.28115 0.00000, 0.32721 ...          259   \n",
       "0  POLYGON Z ((0.08391 16.62922 0.00000, 0.08448 ...          283   \n",
       "0  POLYGON Z ((-0.19226 17.96315 0.00000, -0.1921...          307   \n",
       "0  POLYGON Z ((-0.46547 19.27865 0.00000, -0.5041...          331   \n",
       "0  POLYGON Z ((-0.74465 20.61716 0.00000, -0.7795...          355   \n",
       "0  POLYGON Z ((-1.02409 21.95051 0.00000, -1.0582...          379   \n",
       "0  POLYGON Z ((-1.30472 23.28176 0.00000, -1.3399...          403   \n",
       "0  POLYGON Z ((-1.58734 24.61387 0.00000, -1.6229...          427   \n",
       "0  POLYGON Z ((-1.87259 25.94780 0.00000, -1.9078...          451   \n",
       "0  POLYGON Z ((-2.15941 27.27776 0.00000, -2.1961...          475   \n",
       "0  POLYGON Z ((-2.44905 28.60818 0.00000, -2.4860...          499   \n",
       "0  POLYGON Z ((-2.74224 29.94093 0.00000, -2.7791...          523   \n",
       "0  POLYGON Z ((-3.03821 31.27070 0.00000, -3.0760...          547   \n",
       "0  POLYGON Z ((-3.34134 32.61506 0.00000, -3.3762...          571   \n",
       "0  POLYGON Z ((-3.64890 33.94424 0.00000, -3.6452...          595   \n",
       "0  POLYGON Z ((-3.95398 35.25841 0.00000, -3.9968...          619   \n",
       "0  POLYGON Z ((-4.26760 36.58754 0.00000, -4.3073...          643   \n",
       "0  POLYGON Z ((-4.58624 37.91411 0.00000, -4.6270...          667   \n",
       "0  POLYGON Z ((-4.91122 39.24170 0.00000, -4.9529...          691   \n",
       "0  POLYGON Z ((-5.24226 40.56688 0.00000, -5.2849...          715   \n",
       "0  POLYGON Z ((-5.58110 41.89322 0.00000, -5.6245...          739   \n",
       "0  POLYGON Z ((-5.97203 43.38316 0.00000, -6.0166...          763   \n",
       "\n",
       "   OGC_FID_max  burst_id_min  burst_id_max relative_orbit_numbers  \\\n",
       "0           72            15            24                      1   \n",
       "0           96            23            32                      1   \n",
       "0          120            31            40                      1   \n",
       "0          144            39            48                      1   \n",
       "0          168            47            56                      1   \n",
       "0          192            55            64                      1   \n",
       "0          216            63            72                      1   \n",
       "0          240            71            80                      1   \n",
       "0          264            79            88                      1   \n",
       "0          288            87            96                      1   \n",
       "0          312            95           104                      1   \n",
       "0          336           103           112                      1   \n",
       "0          360           111           120                      1   \n",
       "0          384           119           128                      1   \n",
       "0          408           127           136                      1   \n",
       "0          432           135           144                      1   \n",
       "0          456           143           152                      1   \n",
       "0          480           151           160                      1   \n",
       "0          504           159           168                      1   \n",
       "0          528           167           176                      1   \n",
       "0          552           175           184                      1   \n",
       "0          576           183           192                      1   \n",
       "0          600           191           200                      1   \n",
       "0          624           199           208                      1   \n",
       "0          648           207           216                      1   \n",
       "0          672           215           224                      1   \n",
       "0          696           223           232                      1   \n",
       "0          720           231           240                      1   \n",
       "0          744           239           248                      1   \n",
       "0          768           247           256                      1   \n",
       "0          792           255           264                      1   \n",
       "\n",
       "  look_direction  connected_component  \n",
       "0      ASCENDING                    0  \n",
       "0      ASCENDING                    0  \n",
       "0      ASCENDING                    0  \n",
       "0      ASCENDING                    0  \n",
       "0      ASCENDING                    0  \n",
       "0      ASCENDING                    0  \n",
       "0      ASCENDING                    0  \n",
       "0      ASCENDING                    0  \n",
       "0      ASCENDING                    0  \n",
       "0      ASCENDING                    0  \n",
       "0      ASCENDING                    0  \n",
       "0      ASCENDING                    0  \n",
       "0      ASCENDING                    0  \n",
       "0      ASCENDING                    0  \n",
       "0      ASCENDING                    0  \n",
       "0      ASCENDING                    0  \n",
       "0      ASCENDING                    0  \n",
       "0      ASCENDING                    0  \n",
       "0      ASCENDING                    0  \n",
       "0      ASCENDING                    0  \n",
       "0      ASCENDING                    0  \n",
       "0      ASCENDING                    0  \n",
       "0      ASCENDING                    0  \n",
       "0      ASCENDING                    0  \n",
       "0      ASCENDING                    0  \n",
       "0      ASCENDING                    0  \n",
       "0      ASCENDING                    0  \n",
       "0      ASCENDING                    0  \n",
       "0      ASCENDING                    0  \n",
       "0      ASCENDING                    0  \n",
       "0      ASCENDING                    0  "
      ]
     },
     "execution_count": 21,
     "metadata": {},
     "output_type": "execute_result"
    }
   ],
   "source": [
    "%%time\n",
    "\n",
    "df_frames_l = [extract_frames(df_group) for _, df_group in tqdm(df_triplet_over_land.groupby('cc_index'))]\n",
    "df_frames_l[0]"
   ]
  },
  {
   "cell_type": "markdown",
   "id": "ecebf276",
   "metadata": {},
   "source": [
    "Because we concat, each index is `0`. We re-index and then we reindex again so we can assign each row a `frame_id`."
   ]
  },
  {
   "cell_type": "code",
   "execution_count": 22,
   "id": "3a0df741",
   "metadata": {
    "ExecuteTime": {
     "end_time": "2022-11-12T00:38:14.720830Z",
     "start_time": "2022-11-12T00:38:14.031232Z"
    }
   },
   "outputs": [
    {
     "data": {
      "text/html": [
       "<div>\n",
       "<style scoped>\n",
       "    .dataframe tbody tr th:only-of-type {\n",
       "        vertical-align: middle;\n",
       "    }\n",
       "\n",
       "    .dataframe tbody tr th {\n",
       "        vertical-align: top;\n",
       "    }\n",
       "\n",
       "    .dataframe thead th {\n",
       "        text-align: right;\n",
       "    }\n",
       "</style>\n",
       "<table border=\"1\" class=\"dataframe\">\n",
       "  <thead>\n",
       "    <tr style=\"text-align: right;\">\n",
       "      <th></th>\n",
       "      <th>frame_id</th>\n",
       "      <th>geometry</th>\n",
       "      <th>OGC_FID_min</th>\n",
       "      <th>OGC_FID_max</th>\n",
       "      <th>burst_id_min</th>\n",
       "      <th>burst_id_max</th>\n",
       "      <th>relative_orbit_numbers</th>\n",
       "      <th>look_direction</th>\n",
       "      <th>connected_component</th>\n",
       "    </tr>\n",
       "  </thead>\n",
       "  <tbody>\n",
       "    <tr>\n",
       "      <th>0</th>\n",
       "      <td>0</td>\n",
       "      <td>POLYGON Z ((2.84448 3.25558 0.00000, 2.84448 3...</td>\n",
       "      <td>43</td>\n",
       "      <td>72</td>\n",
       "      <td>15</td>\n",
       "      <td>24</td>\n",
       "      <td>1</td>\n",
       "      <td>ASCENDING</td>\n",
       "      <td>0</td>\n",
       "    </tr>\n",
       "    <tr>\n",
       "      <th>1</th>\n",
       "      <td>1</td>\n",
       "      <td>POLYGON Z ((2.56639 4.59014 0.00000, 2.56639 4...</td>\n",
       "      <td>67</td>\n",
       "      <td>96</td>\n",
       "      <td>23</td>\n",
       "      <td>32</td>\n",
       "      <td>1</td>\n",
       "      <td>ASCENDING</td>\n",
       "      <td>0</td>\n",
       "    </tr>\n",
       "    <tr>\n",
       "      <th>2</th>\n",
       "      <td>2</td>\n",
       "      <td>POLYGON Z ((2.28948 5.92481 0.00000, 2.28948 5...</td>\n",
       "      <td>91</td>\n",
       "      <td>120</td>\n",
       "      <td>31</td>\n",
       "      <td>40</td>\n",
       "      <td>1</td>\n",
       "      <td>ASCENDING</td>\n",
       "      <td>0</td>\n",
       "    </tr>\n",
       "    <tr>\n",
       "      <th>3</th>\n",
       "      <td>3</td>\n",
       "      <td>POLYGON Z ((2.01349 7.25953 0.00000, 2.01349 7...</td>\n",
       "      <td>115</td>\n",
       "      <td>144</td>\n",
       "      <td>39</td>\n",
       "      <td>48</td>\n",
       "      <td>1</td>\n",
       "      <td>ASCENDING</td>\n",
       "      <td>0</td>\n",
       "    </tr>\n",
       "    <tr>\n",
       "      <th>4</th>\n",
       "      <td>4</td>\n",
       "      <td>POLYGON Z ((1.73823 8.59428 0.00000, 1.73823 8...</td>\n",
       "      <td>139</td>\n",
       "      <td>168</td>\n",
       "      <td>47</td>\n",
       "      <td>56</td>\n",
       "      <td>1</td>\n",
       "      <td>ASCENDING</td>\n",
       "      <td>0</td>\n",
       "    </tr>\n",
       "  </tbody>\n",
       "</table>\n",
       "</div>"
      ],
      "text/plain": [
       "   frame_id                                           geometry  OGC_FID_min  \\\n",
       "0         0  POLYGON Z ((2.84448 3.25558 0.00000, 2.84448 3...           43   \n",
       "1         1  POLYGON Z ((2.56639 4.59014 0.00000, 2.56639 4...           67   \n",
       "2         2  POLYGON Z ((2.28948 5.92481 0.00000, 2.28948 5...           91   \n",
       "3         3  POLYGON Z ((2.01349 7.25953 0.00000, 2.01349 7...          115   \n",
       "4         4  POLYGON Z ((1.73823 8.59428 0.00000, 1.73823 8...          139   \n",
       "\n",
       "   OGC_FID_max  burst_id_min  burst_id_max relative_orbit_numbers  \\\n",
       "0           72            15            24                      1   \n",
       "1           96            23            32                      1   \n",
       "2          120            31            40                      1   \n",
       "3          144            39            48                      1   \n",
       "4          168            47            56                      1   \n",
       "\n",
       "  look_direction  connected_component  \n",
       "0      ASCENDING                    0  \n",
       "1      ASCENDING                    0  \n",
       "2      ASCENDING                    0  \n",
       "3      ASCENDING                    0  \n",
       "4      ASCENDING                    0  "
      ]
     },
     "execution_count": 22,
     "metadata": {},
     "output_type": "execute_result"
    }
   ],
   "source": [
    "df_frames_final = pd.concat(df_frames_l, axis=0).reset_index(drop=True).reset_index(drop=False)\n",
    "df_frames_final = df_frames_final.rename(columns={'index': 'frame_id'})\n",
    "df_frames_final.head()"
   ]
  },
  {
   "cell_type": "code",
   "execution_count": 23,
   "id": "6924afaf",
   "metadata": {
    "ExecuteTime": {
     "end_time": "2022-11-12T00:38:24.286871Z",
     "start_time": "2022-11-12T00:38:14.722186Z"
    }
   },
   "outputs": [],
   "source": [
    "df_frames_final.to_file('s1_frames.geojson', driver='GeoJSON')"
   ]
  }
 ],
 "metadata": {
  "kernelspec": {
   "display_name": "s1-enumerator",
   "language": "python",
   "name": "s1-enumerator"
  },
  "language_info": {
   "codemirror_mode": {
    "name": "ipython",
    "version": 3
   },
   "file_extension": ".py",
   "mimetype": "text/x-python",
   "name": "python",
   "nbconvert_exporter": "python",
   "pygments_lexer": "ipython3",
   "version": "3.9.7"
  }
 },
 "nbformat": 4,
 "nbformat_minor": 5
}

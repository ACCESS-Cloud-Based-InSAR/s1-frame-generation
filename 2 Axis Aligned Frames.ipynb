{
 "cells": [
  {
   "cell_type": "markdown",
   "id": "520bebd1",
   "metadata": {},
   "source": [
    "So, we are using ISCE2 for procesing IFGs and we will process the geographic extents of a specified frame. The frames that are generated previously are grouped by *time* - that is we ensure a frame contains all the bursts that were imaged at the same time. However, when processing with ISCE2, we are only able to group bursts *geographically*, specifically, ISCE2 accepts a region of interest. The range direction of the image is constrained by the track. However, the azimuth direction of our frames need to be further constrained by latitude if there is going to be good agreement between our frame definition and what we see in our GUNW.\n",
    "\n",
    "This notebook will generate two additional datasets.\n",
    "\n",
    "1. Latitude aligned frames - these are frames whose North/South boundaries are aligned with a latitude line. This ensures that the GUNW processing will be better aligned with our frame definition.\n",
    "2. Expected GUNW extents for a given frame.\n",
    "\n",
    "Note the Latitude-aligned frame will be a parallelogram with it's north/south edges aligned with a latitude line. When submitting the bounding box of this frame to ISCE2, we will get all the bursts that overlap this frame, so the expected GUNW will be *larger* and even though our frames have a specified number of burst overlaps (there will likely be more) even though a frame's north/south edge overlaps its neighboring frame by only ~1 GUNW pixel (~90 meters). Furthermore, we will want to keep track of both these datasets because the latter will necessary to specify the DEM extents (because we want DEM over all bursts that will be processed). Also, it will be helpful to see how the GUNWs submitted with these frames actually look."
   ]
  },
  {
   "cell_type": "code",
   "execution_count": 1,
   "id": "4d7f78cc",
   "metadata": {
    "ExecuteTime": {
     "end_time": "2023-02-21T20:56:32.049392Z",
     "start_time": "2023-02-21T20:56:30.895034Z"
    }
   },
   "outputs": [
    {
     "name": "stderr",
     "output_type": "stream",
     "text": [
      "/var/folders/s6/fbsc26cd0ddffbp3_knts_9c0wcxj1/T/ipykernel_3420/1275549893.py:2: UserWarning: Shapely 2.0 is installed, but because PyGEOS is also installed, GeoPandas will still use PyGEOS by default for now. To force to use and test Shapely 2.0, you have to set the environment variable USE_PYGEOS=0. You can do this before starting the Python process, or in your code before importing geopandas:\n",
      "\n",
      "import os\n",
      "os.environ['USE_PYGEOS'] = '0'\n",
      "import geopandas\n",
      "\n",
      "In a future release, GeoPandas will switch to using Shapely by default. If you are using PyGEOS directly (calling PyGEOS functions on geometries from GeoPandas), this will then stop working and you are encouraged to migrate from PyGEOS to Shapely 2.0 (https://shapely.readthedocs.io/en/latest/migration_pygeos.html).\n",
      "  import geopandas as gpd\n"
     ]
    }
   ],
   "source": [
    "import sqlite3\n",
    "import geopandas as gpd\n",
    "import matplotlib.pyplot as plt\n",
    "import numpy as np\n",
    "from tqdm import tqdm\n",
    "import pandas as pd\n",
    "from rasterio.crs import CRS\n",
    "import warnings\n",
    "from shapely import Polygon"
   ]
  },
  {
   "cell_type": "markdown",
   "id": "227639fe",
   "metadata": {},
   "source": [
    "# Parameters\n",
    "\n",
    "How the frames will overlap in latitude."
   ]
  },
  {
   "cell_type": "code",
   "execution_count": 2,
   "id": "951b0f98",
   "metadata": {
    "ExecuteTime": {
     "end_time": "2023-02-21T20:56:32.053743Z",
     "start_time": "2023-02-21T20:56:32.051342Z"
    }
   },
   "outputs": [],
   "source": [
    "OVERLAP_DEGREES_LATITUDE = .001"
   ]
  },
  {
   "cell_type": "markdown",
   "id": "c872d7dd",
   "metadata": {},
   "source": [
    "# Read Burst Data\n",
    "\n",
    "The data needs to be unzipped first in this directory."
   ]
  },
  {
   "cell_type": "code",
   "execution_count": 3,
   "id": "92f29650",
   "metadata": {
    "ExecuteTime": {
     "end_time": "2023-02-21T20:56:41.815448Z",
     "start_time": "2023-02-21T20:56:32.055511Z"
    }
   },
   "outputs": [
    {
     "name": "stdout",
     "output_type": "stream",
     "text": [
      "CPU times: user 8.98 s, sys: 770 ms, total: 9.75 s\n",
      "Wall time: 9.76 s\n"
     ]
    }
   ],
   "source": [
    "%%time\n",
    "\n",
    "# SQL must wrap the geometry in hex(st_asbinary(...))\n",
    "sql = \"SELECT * FROM burst_id_map;\"\n",
    "con = sqlite3.connect(\"S1_burstid_20220530/IW/sqlite/burst_map_IW_000001_375887.sqlite3\")\n",
    "\n",
    "df_burst = gpd.GeoDataFrame.from_postgis(sql, con, geom_col=\"GEOMETRY\")"
   ]
  },
  {
   "cell_type": "code",
   "execution_count": 4,
   "id": "bf127ad2",
   "metadata": {
    "ExecuteTime": {
     "end_time": "2023-02-21T20:56:41.825064Z",
     "start_time": "2023-02-21T20:56:41.818010Z"
    }
   },
   "outputs": [],
   "source": [
    "df_burst['relative_orbit_number_min'] = df_burst['relative_orbit_number']\n",
    "df_burst['relative_orbit_number_max'] = df_burst['relative_orbit_number']"
   ]
  },
  {
   "cell_type": "code",
   "execution_count": 5,
   "id": "bf6093bd",
   "metadata": {
    "ExecuteTime": {
     "end_time": "2023-02-21T20:56:41.839931Z",
     "start_time": "2023-02-21T20:56:41.826239Z"
    }
   },
   "outputs": [
    {
     "data": {
      "text/html": [
       "<div>\n",
       "<style scoped>\n",
       "    .dataframe tbody tr th:only-of-type {\n",
       "        vertical-align: middle;\n",
       "    }\n",
       "\n",
       "    .dataframe tbody tr th {\n",
       "        vertical-align: top;\n",
       "    }\n",
       "\n",
       "    .dataframe thead th {\n",
       "        text-align: right;\n",
       "    }\n",
       "</style>\n",
       "<table border=\"1\" class=\"dataframe\">\n",
       "  <thead>\n",
       "    <tr style=\"text-align: right;\">\n",
       "      <th></th>\n",
       "      <th>OGC_FID</th>\n",
       "      <th>GEOMETRY</th>\n",
       "      <th>burst_id</th>\n",
       "      <th>subswath_name</th>\n",
       "      <th>relative_orbit_number</th>\n",
       "      <th>time_from_anx_sec</th>\n",
       "      <th>orbit_pass</th>\n",
       "      <th>relative_orbit_number_min</th>\n",
       "      <th>relative_orbit_number_max</th>\n",
       "    </tr>\n",
       "  </thead>\n",
       "  <tbody>\n",
       "    <tr>\n",
       "      <th>0</th>\n",
       "      <td>1</td>\n",
       "      <td>MULTIPOLYGON Z (((3.36758 0.75322 0.00000, 3.7...</td>\n",
       "      <td>1</td>\n",
       "      <td>IW1</td>\n",
       "      <td>1</td>\n",
       "      <td>2.301015</td>\n",
       "      <td>ASCENDING</td>\n",
       "      <td>1</td>\n",
       "      <td>1</td>\n",
       "    </tr>\n",
       "    <tr>\n",
       "      <th>1</th>\n",
       "      <td>2</td>\n",
       "      <td>MULTIPOLYGON Z (((4.09178 0.97402 0.00000, 4.5...</td>\n",
       "      <td>1</td>\n",
       "      <td>IW2</td>\n",
       "      <td>1</td>\n",
       "      <td>3.133218</td>\n",
       "      <td>ASCENDING</td>\n",
       "      <td>1</td>\n",
       "      <td>1</td>\n",
       "    </tr>\n",
       "    <tr>\n",
       "      <th>2</th>\n",
       "      <td>3</td>\n",
       "      <td>MULTIPOLYGON Z (((4.85545 1.19200 0.00000, 5.2...</td>\n",
       "      <td>1</td>\n",
       "      <td>IW3</td>\n",
       "      <td>1</td>\n",
       "      <td>4.211255</td>\n",
       "      <td>ASCENDING</td>\n",
       "      <td>1</td>\n",
       "      <td>1</td>\n",
       "    </tr>\n",
       "    <tr>\n",
       "      <th>3</th>\n",
       "      <td>4</td>\n",
       "      <td>MULTIPOLYGON Z (((3.33269 0.92005 0.00000, 3.7...</td>\n",
       "      <td>2</td>\n",
       "      <td>IW1</td>\n",
       "      <td>1</td>\n",
       "      <td>5.059288</td>\n",
       "      <td>ASCENDING</td>\n",
       "      <td>1</td>\n",
       "      <td>1</td>\n",
       "    </tr>\n",
       "    <tr>\n",
       "      <th>4</th>\n",
       "      <td>5</td>\n",
       "      <td>MULTIPOLYGON Z (((4.05690 1.14071 0.00000, 4.4...</td>\n",
       "      <td>2</td>\n",
       "      <td>IW2</td>\n",
       "      <td>1</td>\n",
       "      <td>5.891491</td>\n",
       "      <td>ASCENDING</td>\n",
       "      <td>1</td>\n",
       "      <td>1</td>\n",
       "    </tr>\n",
       "  </tbody>\n",
       "</table>\n",
       "</div>"
      ],
      "text/plain": [
       "   OGC_FID                                           GEOMETRY  burst_id  \\\n",
       "0        1  MULTIPOLYGON Z (((3.36758 0.75322 0.00000, 3.7...         1   \n",
       "1        2  MULTIPOLYGON Z (((4.09178 0.97402 0.00000, 4.5...         1   \n",
       "2        3  MULTIPOLYGON Z (((4.85545 1.19200 0.00000, 5.2...         1   \n",
       "3        4  MULTIPOLYGON Z (((3.33269 0.92005 0.00000, 3.7...         2   \n",
       "4        5  MULTIPOLYGON Z (((4.05690 1.14071 0.00000, 4.4...         2   \n",
       "\n",
       "  subswath_name  relative_orbit_number  time_from_anx_sec orbit_pass  \\\n",
       "0           IW1                      1           2.301015  ASCENDING   \n",
       "1           IW2                      1           3.133218  ASCENDING   \n",
       "2           IW3                      1           4.211255  ASCENDING   \n",
       "3           IW1                      1           5.059288  ASCENDING   \n",
       "4           IW2                      1           5.891491  ASCENDING   \n",
       "\n",
       "   relative_orbit_number_min  relative_orbit_number_max  \n",
       "0                          1                          1  \n",
       "1                          1                          1  \n",
       "2                          1                          1  \n",
       "3                          1                          1  \n",
       "4                          1                          1  "
      ]
     },
     "execution_count": 5,
     "metadata": {},
     "output_type": "execute_result"
    }
   ],
   "source": [
    "df_burst.head()"
   ]
  },
  {
   "cell_type": "code",
   "execution_count": 6,
   "id": "a3e30633",
   "metadata": {
    "ExecuteTime": {
     "end_time": "2023-02-21T20:56:41.918476Z",
     "start_time": "2023-02-21T20:56:41.841462Z"
    }
   },
   "outputs": [],
   "source": [
    "df_burst_ogc = df_burst.set_index('OGC_FID')"
   ]
  },
  {
   "cell_type": "markdown",
   "id": "ef15e55c",
   "metadata": {},
   "source": [
    "# Reading our Burst-aligned Frames\n",
    "\n",
    "From the previous notebook."
   ]
  },
  {
   "cell_type": "code",
   "execution_count": 7,
   "id": "0b391ff4",
   "metadata": {
    "ExecuteTime": {
     "end_time": "2023-02-21T20:56:50.268154Z",
     "start_time": "2023-02-21T20:56:41.920034Z"
    }
   },
   "outputs": [],
   "source": [
    "df_burst_frame = gpd.read_file('s1_frames.geojson.zip')"
   ]
  },
  {
   "cell_type": "code",
   "execution_count": 8,
   "id": "61077dd8",
   "metadata": {
    "ExecuteTime": {
     "end_time": "2023-02-21T20:56:50.278913Z",
     "start_time": "2023-02-21T20:56:50.269864Z"
    }
   },
   "outputs": [
    {
     "data": {
      "text/html": [
       "<div>\n",
       "<style scoped>\n",
       "    .dataframe tbody tr th:only-of-type {\n",
       "        vertical-align: middle;\n",
       "    }\n",
       "\n",
       "    .dataframe tbody tr th {\n",
       "        vertical-align: top;\n",
       "    }\n",
       "\n",
       "    .dataframe thead th {\n",
       "        text-align: right;\n",
       "    }\n",
       "</style>\n",
       "<table border=\"1\" class=\"dataframe\">\n",
       "  <thead>\n",
       "    <tr style=\"text-align: right;\">\n",
       "      <th></th>\n",
       "      <th>frame_id</th>\n",
       "      <th>OGC_FID_min</th>\n",
       "      <th>OGC_FID_max</th>\n",
       "      <th>burst_id_min</th>\n",
       "      <th>burst_id_max</th>\n",
       "      <th>relative_orbit_number_min</th>\n",
       "      <th>relative_orbit_number_max</th>\n",
       "      <th>orbit_direction</th>\n",
       "      <th>geometry</th>\n",
       "    </tr>\n",
       "  </thead>\n",
       "  <tbody>\n",
       "    <tr>\n",
       "      <th>0</th>\n",
       "      <td>0</td>\n",
       "      <td>22</td>\n",
       "      <td>45</td>\n",
       "      <td>8</td>\n",
       "      <td>15</td>\n",
       "      <td>1</td>\n",
       "      <td>1</td>\n",
       "      <td>ASCENDING</td>\n",
       "      <td>POLYGON Z ((3.08906 2.08797 0.00000, 3.08720 2...</td>\n",
       "    </tr>\n",
       "    <tr>\n",
       "      <th>1</th>\n",
       "      <td>1</td>\n",
       "      <td>43</td>\n",
       "      <td>66</td>\n",
       "      <td>15</td>\n",
       "      <td>22</td>\n",
       "      <td>1</td>\n",
       "      <td>1</td>\n",
       "      <td>ASCENDING</td>\n",
       "      <td>POLYGON Z ((2.84448 3.25558 0.00000, 2.84448 3...</td>\n",
       "    </tr>\n",
       "    <tr>\n",
       "      <th>2</th>\n",
       "      <td>2</td>\n",
       "      <td>64</td>\n",
       "      <td>87</td>\n",
       "      <td>22</td>\n",
       "      <td>29</td>\n",
       "      <td>1</td>\n",
       "      <td>1</td>\n",
       "      <td>ASCENDING</td>\n",
       "      <td>POLYGON Z ((2.60090 4.42328 0.00000, 2.60090 4...</td>\n",
       "    </tr>\n",
       "    <tr>\n",
       "      <th>3</th>\n",
       "      <td>3</td>\n",
       "      <td>85</td>\n",
       "      <td>108</td>\n",
       "      <td>29</td>\n",
       "      <td>36</td>\n",
       "      <td>1</td>\n",
       "      <td>1</td>\n",
       "      <td>ASCENDING</td>\n",
       "      <td>POLYGON Z ((2.35832 5.59108 0.00000, 2.35832 5...</td>\n",
       "    </tr>\n",
       "    <tr>\n",
       "      <th>4</th>\n",
       "      <td>4</td>\n",
       "      <td>106</td>\n",
       "      <td>129</td>\n",
       "      <td>36</td>\n",
       "      <td>43</td>\n",
       "      <td>1</td>\n",
       "      <td>1</td>\n",
       "      <td>ASCENDING</td>\n",
       "      <td>POLYGON Z ((2.11654 6.75894 0.00000, 2.11653 6...</td>\n",
       "    </tr>\n",
       "  </tbody>\n",
       "</table>\n",
       "</div>"
      ],
      "text/plain": [
       "   frame_id  OGC_FID_min  OGC_FID_max  burst_id_min  burst_id_max  \\\n",
       "0         0           22           45             8            15   \n",
       "1         1           43           66            15            22   \n",
       "2         2           64           87            22            29   \n",
       "3         3           85          108            29            36   \n",
       "4         4          106          129            36            43   \n",
       "\n",
       "   relative_orbit_number_min  relative_orbit_number_max orbit_direction  \\\n",
       "0                          1                          1       ASCENDING   \n",
       "1                          1                          1       ASCENDING   \n",
       "2                          1                          1       ASCENDING   \n",
       "3                          1                          1       ASCENDING   \n",
       "4                          1                          1       ASCENDING   \n",
       "\n",
       "                                            geometry  \n",
       "0  POLYGON Z ((3.08906 2.08797 0.00000, 3.08720 2...  \n",
       "1  POLYGON Z ((2.84448 3.25558 0.00000, 2.84448 3...  \n",
       "2  POLYGON Z ((2.60090 4.42328 0.00000, 2.60090 4...  \n",
       "3  POLYGON Z ((2.35832 5.59108 0.00000, 2.35832 5...  \n",
       "4  POLYGON Z ((2.11654 6.75894 0.00000, 2.11653 6...  "
      ]
     },
     "execution_count": 8,
     "metadata": {},
     "output_type": "execute_result"
    }
   ],
   "source": [
    "df_burst_frame.head()"
   ]
  },
  {
   "cell_type": "markdown",
   "id": "c0c764c4",
   "metadata": {},
   "source": [
    "# Generating Latitude-aligned Frames\n",
    "\n",
    "The bursts (within an image and our fixed frames) are grouped according to `OGC_FID // 3` (same integer quotient after division by 3). Further, the middle `OGC_FID` of `3n`, `3n+1`, `3n+2` is in the center of the 3 swaths. So, we will take the centroid of this middle burst (`3n+1`) and use that to draw a latitude line at the bottom and top of the frames we previously defined. Our final frame will be an envelope (i.e. axis-aligned rectangle in `shapely` speak) around the frame with latitude top/bottom line. From there, we interesect this box with the frame."
   ]
  },
  {
   "cell_type": "code",
   "execution_count": 9,
   "id": "513428aa",
   "metadata": {
    "ExecuteTime": {
     "end_time": "2023-02-21T20:56:55.234650Z",
     "start_time": "2023-02-21T20:56:50.280343Z"
    }
   },
   "outputs": [],
   "source": [
    "centroid_min = df_burst_frame.OGC_FID_min.map(lambda ogc_fid: df_burst_ogc.loc[ogc_fid + 1].GEOMETRY.centroid)\n",
    "centroid_max = df_burst_frame.OGC_FID_max.map(lambda ogc_fid: df_burst_ogc.loc[ogc_fid - 1].GEOMETRY.centroid)"
   ]
  },
  {
   "cell_type": "code",
   "execution_count": 10,
   "id": "f7c68954",
   "metadata": {
    "ExecuteTime": {
     "end_time": "2023-02-21T20:56:55.717053Z",
     "start_time": "2023-02-21T20:56:55.238642Z"
    }
   },
   "outputs": [],
   "source": [
    "centroid_min_y = centroid_min.map(lambda geo: geo.coords[0][1])\n",
    "centroid_max_y = centroid_max.map(lambda geo: geo.coords[0][1])"
   ]
  },
  {
   "cell_type": "code",
   "execution_count": 11,
   "id": "d05582bb",
   "metadata": {
    "ExecuteTime": {
     "end_time": "2023-02-21T20:56:55.721844Z",
     "start_time": "2023-02-21T20:56:55.718732Z"
    }
   },
   "outputs": [],
   "source": [
    "df_burst_frame['centroid_min_y'] = centroid_min_y\n",
    "df_burst_frame['centroid_max_y'] = centroid_max_y"
   ]
  },
  {
   "cell_type": "code",
   "execution_count": 12,
   "id": "91d292b4",
   "metadata": {
    "ExecuteTime": {
     "end_time": "2023-02-21T20:56:55.747925Z",
     "start_time": "2023-02-21T20:56:55.723367Z"
    }
   },
   "outputs": [],
   "source": [
    "df_burst_centroid = df_burst_frame.copy()\n",
    "df_burst_centroid.geometry = centroid_min"
   ]
  },
  {
   "cell_type": "code",
   "execution_count": 13,
   "id": "d3862a4b",
   "metadata": {
    "ExecuteTime": {
     "end_time": "2023-02-21T20:56:57.269667Z",
     "start_time": "2023-02-21T20:56:55.749490Z"
    }
   },
   "outputs": [],
   "source": [
    "def comp_top(row):\n",
    "    min_y = row['centroid_min_y']\n",
    "    max_y = row['centroid_max_y']\n",
    "    return min_y if min_y >= max_y else max_y\n",
    "\n",
    "def comp_bot(row):\n",
    "    min_y = row['centroid_min_y']\n",
    "    max_y = row['centroid_max_y']\n",
    "    return min_y if min_y <= max_y else max_y\n",
    "\n",
    "df_burst_frame['top_y'] = df_burst_frame.apply(comp_top, axis=1)\n",
    "df_burst_frame['bot_y'] = df_burst_frame.apply(comp_bot, axis=1)\n",
    "df_bounds = df_burst_frame.bounds\n",
    "df_burst_frame['xmin'] = df_bounds.minx - 2\n",
    "df_burst_frame['xmax'] = df_bounds.maxx + 2"
   ]
  },
  {
   "cell_type": "code",
   "execution_count": 14,
   "id": "7c324330",
   "metadata": {
    "ExecuteTime": {
     "end_time": "2023-02-21T20:57:02.634960Z",
     "start_time": "2023-02-21T20:56:57.271299Z"
    }
   },
   "outputs": [],
   "source": [
    "def get_yaxis_envelope(row):\n",
    "    geo = row['geometry']\n",
    "    top_y = row['top_y']\n",
    "    bot_y = row['bot_y']\n",
    "    \n",
    "    xmin = row['xmin']\n",
    "    xmax = row['xmax']\n",
    "    \n",
    "    geo = geo.minimum_rotated_rectangle\n",
    "    center_rect_x = geo.centroid.coords[0][0]\n",
    "    coords = geo.exterior.coords[:]\n",
    "    coords_clipped = [(c[0] - .5 if c[0] <= center_rect_x else c[0] + .5 , \n",
    "                       np.clip(c[1], \n",
    "                               bot_y - OVERLAP_DEGREES_LATITUDE, \n",
    "                               top_y + OVERLAP_DEGREES_LATITUDE))\n",
    "                      for c in coords]\n",
    "    return Polygon(coords_clipped).envelope\n",
    "\n",
    "df_burst_frame_envelope = df_burst_frame.copy()\n",
    "df_burst_frame_envelope.geometry = df_burst_frame_envelope.apply(get_yaxis_envelope, axis=1)"
   ]
  },
  {
   "cell_type": "code",
   "execution_count": 15,
   "id": "46de4b4a",
   "metadata": {
    "ExecuteTime": {
     "end_time": "2023-02-21T20:57:02.799091Z",
     "start_time": "2023-02-21T20:57:02.636454Z"
    }
   },
   "outputs": [
    {
     "data": {
      "text/plain": [
       "<AxesSubplot: >"
      ]
     },
     "execution_count": 15,
     "metadata": {},
     "output_type": "execute_result"
    },
    {
     "data": {
      "image/png": "[encoded data removed]",
      "text/plain": [
       "<Figure size 640x480 with 1 Axes>"
      ]
     },
     "metadata": {},
     "output_type": "display_data"
    }
   ],
   "source": [
    "fig, ax = plt.subplots()\n",
    "df_burst_frame_envelope.iloc[:10].plot(alpha=.25, ax=ax)\n",
    "df_burst_frame.iloc[:10].plot(alpha=.1, ax=ax)"
   ]
  },
  {
   "cell_type": "code",
   "execution_count": 16,
   "id": "ecccd5eb",
   "metadata": {
    "ExecuteTime": {
     "end_time": "2023-02-21T20:57:22.926818Z",
     "start_time": "2023-02-21T20:57:02.801259Z"
    }
   },
   "outputs": [
    {
     "name": "stdout",
     "output_type": "stream",
     "text": [
      "CPU times: user 21 s, sys: 505 ms, total: 21.5 s\n",
      "Wall time: 20.1 s\n"
     ]
    }
   ],
   "source": [
    "%%time\n",
    "\n",
    "from shapely import STRtree\n",
    "\n",
    "tree = STRtree(df_burst.geometry)"
   ]
  },
  {
   "cell_type": "markdown",
   "id": "abd2505b",
   "metadata": {
    "ExecuteTime": {
     "end_time": "2023-02-16T18:05:53.398880Z",
     "start_time": "2023-02-16T18:05:53.395437Z"
    }
   },
   "source": [
    "Appending multiple rows: https://stackoverflow.com/a/35208597"
   ]
  },
  {
   "cell_type": "code",
   "execution_count": 17,
   "id": "2e43f09b",
   "metadata": {
    "ExecuteTime": {
     "end_time": "2023-02-21T20:58:50.058802Z",
     "start_time": "2023-02-21T20:57:22.928460Z"
    }
   },
   "outputs": [
    {
     "name": "stdout",
     "output_type": "stream",
     "text": [
      "CPU times: user 1min 26s, sys: 158 ms, total: 1min 27s\n",
      "Wall time: 1min 27s\n"
     ]
    }
   ],
   "source": [
    "%%time\n",
    "\n",
    "\n",
    "def intersection_with_bursts(row):\n",
    "    geo = row['geometry']\n",
    "    idxs = tree.query(geo, predicate=\"intersects\")\n",
    "    df_temp = df_burst.iloc[idxs].reset_index(drop=True)\n",
    "    \n",
    "    track_min = row['relative_orbit_number_min']\n",
    "    track_max = row['relative_orbit_number_max']\n",
    "    \n",
    "    ind_min = df_temp.relative_orbit_number >= track_min\n",
    "    ind_max = df_temp.relative_orbit_number <= track_max\n",
    "    df_temp = df_temp[ind_min & ind_max].reset_index(drop=True)\n",
    "    \n",
    "    overlapping_bursts = df_temp.geometry.unary_union\n",
    "    return overlapping_bursts.intersection(geo)\n",
    "\n",
    "df_burst_frame_latitude_aligned = df_burst_frame_envelope.copy()\n",
    "df_burst_frame_latitude_aligned.geometry = df_burst_frame_envelope.apply(intersection_with_bursts, axis=1)"
   ]
  },
  {
   "cell_type": "code",
   "execution_count": 18,
   "id": "34e0fbdc",
   "metadata": {
    "ExecuteTime": {
     "end_time": "2023-02-21T20:58:50.183925Z",
     "start_time": "2023-02-21T20:58:50.060399Z"
    }
   },
   "outputs": [
    {
     "data": {
      "text/plain": [
       "<AxesSubplot: >"
      ]
     },
     "execution_count": 18,
     "metadata": {},
     "output_type": "execute_result"
    },
    {
     "data": {
      "image/png": "[encoded data removed]",
      "text/plain": [
       "<Figure size 640x480 with 1 Axes>"
      ]
     },
     "metadata": {},
     "output_type": "display_data"
    }
   ],
   "source": [
    "df_burst_frame_latitude_aligned.iloc[:1].plot(alpha=.5)"
   ]
  },
  {
   "cell_type": "markdown",
   "id": "39315b6a",
   "metadata": {},
   "source": [
    "# What do our GUNWs look Like?\n",
    "\n",
    "So, during ISCE2 processing, the extent of the GUNW will be determined by taking all bursts that *intersect* the region of interest, which is based on the bounding box around a frame (only option is to specify a bounding box). The top and bottom of the frame will intersect numerous bursts that are not entirely contained in the frame itself and therefore the GUNW extent will go beyond the frame. Further, we should know the expected GUNW extent during the processing because we will want the extent of the DEM to request.\n",
    "\n",
    "## Samples"
   ]
  },
  {
   "cell_type": "code",
   "execution_count": 19,
   "id": "c76a24a8",
   "metadata": {
    "ExecuteTime": {
     "end_time": "2023-02-21T20:58:50.220194Z",
     "start_time": "2023-02-21T20:58:50.185999Z"
    }
   },
   "outputs": [],
   "source": [
    "K = 1000 #19910 #1000 \n",
    "T = 3\n",
    "\n",
    "gunws = []\n",
    "for t in range(T):\n",
    "\n",
    "    sample_frame = df_burst_frame_latitude_aligned.iloc[K + t]\n",
    "    geo_frame = sample_frame.geometry\n",
    "    track_min = sample_frame.relative_orbit_number_min\n",
    "    \n",
    "    sample_idxs = tree.query(geo_frame, predicate=\"intersects\")\n",
    "    df_gunw = df_burst.iloc[sample_idxs].reset_index(drop=True)\n",
    "    df_gunw = df_gunw[df_gunw.relative_orbit_number == track_min].copy()\n",
    "    df_gunw = df_gunw.dissolve()\n",
    "    gunws.append(df_gunw)\n",
    "    \n",
    "df_gunw_neighbor = pd.concat(gunws, axis=0).reset_index(drop=True)"
   ]
  },
  {
   "cell_type": "code",
   "execution_count": 20,
   "id": "d6a61f90",
   "metadata": {
    "ExecuteTime": {
     "end_time": "2023-02-21T20:58:50.730538Z",
     "start_time": "2023-02-21T20:58:50.222023Z"
    }
   },
   "outputs": [
    {
     "data": {
      "text/plain": [
       "(16.606232, 23.906067)"
      ]
     },
     "execution_count": 20,
     "metadata": {},
     "output_type": "execute_result"
    },
    {
     "data": {
      "image/png": "[encoded data removed]",
      "text/plain": [
       "<Figure size 640x480 with 1 Axes>"
      ]
     },
     "metadata": {},
     "output_type": "display_data"
    }
   ],
   "source": [
    "fig, ax= plt.subplots()\n",
    "df_gunw_neighbor.plot(alpha=.2, ax=ax)\n",
    "df_burst_centroid.iloc[K: K+T].plot(ax =ax)\n",
    "\n",
    "df_world = gpd.read_file(gpd.datasets.get_path('naturalearth_lowres'))\n",
    "xmin, ymin, xmax, ymax = df_gunw_neighbor.total_bounds\n",
    "df_world.plot(ax=ax, color='green',alpha=.25)\n",
    "\n",
    "\n",
    "df_burst_p = df_burst.cx[xmin: xmax, ymin: ymax]\n",
    "df_burst_p = df_burst_p[df_burst_p.relative_orbit_number_min == track_min]\n",
    "df_burst_p.boundary.plot(ax=ax, alpha=.1)\n",
    "\n",
    "ax.set_ylim(ymin-2, ymax+2)\n",
    "ax.set_xlim(xmin-2, xmax+2)"
   ]
  },
  {
   "cell_type": "markdown",
   "id": "523fdb8f",
   "metadata": {
    "ExecuteTime": {
     "end_time": "2023-02-21T19:59:53.921355Z",
     "start_time": "2023-02-21T19:59:53.918903Z"
    }
   },
   "source": [
    "## Automate "
   ]
  },
  {
   "cell_type": "code",
   "execution_count": 21,
   "id": "58d802c0",
   "metadata": {
    "ExecuteTime": {
     "end_time": "2023-02-21T20:58:50.734868Z",
     "start_time": "2023-02-21T20:58:50.731783Z"
    }
   },
   "outputs": [],
   "source": [
    "def get_slice(k, row):\n",
    "    geo_frame = row['geometry']\n",
    "    track_min = row['relative_orbit_number_min']\n",
    "    \n",
    "    sample_idxs = tree.query(geo_frame, predicate=\"intersects\")\n",
    "    df_slice = df_burst.iloc[sample_idxs].copy()\n",
    "    df_slice = df_slice[df_slice.relative_orbit_number == track_min].reset_index(drop=True)\n",
    "    df_slice['slice_index'] = k\n",
    "    df_slice['frame_id'] = row['frame_id']\n",
    "    return df_slice"
   ]
  },
  {
   "cell_type": "code",
   "execution_count": 22,
   "id": "df1c4c93",
   "metadata": {
    "ExecuteTime": {
     "end_time": "2023-02-21T20:59:51.280980Z",
     "start_time": "2023-02-21T20:58:50.736450Z"
    }
   },
   "outputs": [
    {
     "name": "stderr",
     "output_type": "stream",
     "text": [
      "100%|█| 27563/27563 [01:00<00:00\n"
     ]
    }
   ],
   "source": [
    "df_slices = [get_slice(k, row) for k, row in tqdm(df_burst_frame_latitude_aligned.iterrows(),\n",
    "                                                  total=df_burst_frame_latitude_aligned.shape[0])]"
   ]
  },
  {
   "cell_type": "code",
   "execution_count": 23,
   "id": "6a72830d",
   "metadata": {
    "ExecuteTime": {
     "end_time": "2023-02-21T20:59:58.214762Z",
     "start_time": "2023-02-21T20:59:51.282661Z"
    }
   },
   "outputs": [
    {
     "data": {
      "text/html": [
       "<div>\n",
       "<style scoped>\n",
       "    .dataframe tbody tr th:only-of-type {\n",
       "        vertical-align: middle;\n",
       "    }\n",
       "\n",
       "    .dataframe tbody tr th {\n",
       "        vertical-align: top;\n",
       "    }\n",
       "\n",
       "    .dataframe thead th {\n",
       "        text-align: right;\n",
       "    }\n",
       "</style>\n",
       "<table border=\"1\" class=\"dataframe\">\n",
       "  <thead>\n",
       "    <tr style=\"text-align: right;\">\n",
       "      <th></th>\n",
       "      <th>OGC_FID</th>\n",
       "      <th>GEOMETRY</th>\n",
       "      <th>burst_id</th>\n",
       "      <th>subswath_name</th>\n",
       "      <th>relative_orbit_number</th>\n",
       "      <th>time_from_anx_sec</th>\n",
       "      <th>orbit_pass</th>\n",
       "      <th>relative_orbit_number_min</th>\n",
       "      <th>relative_orbit_number_max</th>\n",
       "      <th>slice_index</th>\n",
       "      <th>frame_id</th>\n",
       "    </tr>\n",
       "  </thead>\n",
       "  <tbody>\n",
       "    <tr>\n",
       "      <th>0</th>\n",
       "      <td>18</td>\n",
       "      <td>MULTIPOLYGON Z (((4.68163 2.02457 0.00000, 5.0...</td>\n",
       "      <td>6</td>\n",
       "      <td>IW3</td>\n",
       "      <td>1</td>\n",
       "      <td>18.002620</td>\n",
       "      <td>ASCENDING</td>\n",
       "      <td>1</td>\n",
       "      <td>1</td>\n",
       "      <td>0</td>\n",
       "      <td>0</td>\n",
       "    </tr>\n",
       "    <tr>\n",
       "      <th>1</th>\n",
       "      <td>21</td>\n",
       "      <td>MULTIPOLYGON Z (((4.64696 2.19109 0.00000, 5.0...</td>\n",
       "      <td>7</td>\n",
       "      <td>IW3</td>\n",
       "      <td>1</td>\n",
       "      <td>20.760893</td>\n",
       "      <td>ASCENDING</td>\n",
       "      <td>1</td>\n",
       "      <td>1</td>\n",
       "      <td>0</td>\n",
       "      <td>0</td>\n",
       "    </tr>\n",
       "    <tr>\n",
       "      <th>2</th>\n",
       "      <td>24</td>\n",
       "      <td>MULTIPOLYGON Z (((4.61138 2.35742 0.00000, 4.9...</td>\n",
       "      <td>8</td>\n",
       "      <td>IW3</td>\n",
       "      <td>1</td>\n",
       "      <td>23.519165</td>\n",
       "      <td>ASCENDING</td>\n",
       "      <td>1</td>\n",
       "      <td>1</td>\n",
       "      <td>0</td>\n",
       "      <td>0</td>\n",
       "    </tr>\n",
       "    <tr>\n",
       "      <th>3</th>\n",
       "      <td>25</td>\n",
       "      <td>MULTIPOLYGON Z (((3.08720 2.08759 0.00000, 3.4...</td>\n",
       "      <td>9</td>\n",
       "      <td>IW1</td>\n",
       "      <td>1</td>\n",
       "      <td>24.367199</td>\n",
       "      <td>ASCENDING</td>\n",
       "      <td>1</td>\n",
       "      <td>1</td>\n",
       "      <td>0</td>\n",
       "      <td>0</td>\n",
       "    </tr>\n",
       "    <tr>\n",
       "      <th>4</th>\n",
       "      <td>28</td>\n",
       "      <td>MULTIPOLYGON Z (((3.05247 2.25444 0.00000, 3.4...</td>\n",
       "      <td>10</td>\n",
       "      <td>IW1</td>\n",
       "      <td>1</td>\n",
       "      <td>27.125471</td>\n",
       "      <td>ASCENDING</td>\n",
       "      <td>1</td>\n",
       "      <td>1</td>\n",
       "      <td>0</td>\n",
       "      <td>0</td>\n",
       "    </tr>\n",
       "  </tbody>\n",
       "</table>\n",
       "</div>"
      ],
      "text/plain": [
       "   OGC_FID                                           GEOMETRY  burst_id  \\\n",
       "0       18  MULTIPOLYGON Z (((4.68163 2.02457 0.00000, 5.0...         6   \n",
       "1       21  MULTIPOLYGON Z (((4.64696 2.19109 0.00000, 5.0...         7   \n",
       "2       24  MULTIPOLYGON Z (((4.61138 2.35742 0.00000, 4.9...         8   \n",
       "3       25  MULTIPOLYGON Z (((3.08720 2.08759 0.00000, 3.4...         9   \n",
       "4       28  MULTIPOLYGON Z (((3.05247 2.25444 0.00000, 3.4...        10   \n",
       "\n",
       "  subswath_name  relative_orbit_number  time_from_anx_sec orbit_pass  \\\n",
       "0           IW3                      1          18.002620  ASCENDING   \n",
       "1           IW3                      1          20.760893  ASCENDING   \n",
       "2           IW3                      1          23.519165  ASCENDING   \n",
       "3           IW1                      1          24.367199  ASCENDING   \n",
       "4           IW1                      1          27.125471  ASCENDING   \n",
       "\n",
       "   relative_orbit_number_min  relative_orbit_number_max  slice_index  frame_id  \n",
       "0                          1                          1            0         0  \n",
       "1                          1                          1            0         0  \n",
       "2                          1                          1            0         0  \n",
       "3                          1                          1            0         0  \n",
       "4                          1                          1            0         0  "
      ]
     },
     "execution_count": 23,
     "metadata": {},
     "output_type": "execute_result"
    }
   ],
   "source": [
    "df_slice = pd.concat(df_slices, axis=0)\n",
    "df_slice.head()"
   ]
  },
  {
   "cell_type": "code",
   "execution_count": 24,
   "id": "f94d3859",
   "metadata": {
    "ExecuteTime": {
     "end_time": "2023-02-21T20:59:58.522286Z",
     "start_time": "2023-02-21T20:59:58.216440Z"
    }
   },
   "outputs": [
    {
     "data": {
      "text/html": [
       "<div>\n",
       "<style scoped>\n",
       "    .dataframe tbody tr th:only-of-type {\n",
       "        vertical-align: middle;\n",
       "    }\n",
       "\n",
       "    .dataframe tbody tr th {\n",
       "        vertical-align: top;\n",
       "    }\n",
       "\n",
       "    .dataframe thead th {\n",
       "        text-align: right;\n",
       "    }\n",
       "</style>\n",
       "<table border=\"1\" class=\"dataframe\">\n",
       "  <thead>\n",
       "    <tr style=\"text-align: right;\">\n",
       "      <th></th>\n",
       "      <th>slice_index</th>\n",
       "      <th>geometry</th>\n",
       "      <th>frame_id</th>\n",
       "    </tr>\n",
       "  </thead>\n",
       "  <tbody>\n",
       "    <tr>\n",
       "      <th>0</th>\n",
       "      <td>0</td>\n",
       "      <td>MULTIPOLYGON Z (((4.68163 2.02457 0.00000, 5.0...</td>\n",
       "      <td>0</td>\n",
       "    </tr>\n",
       "    <tr>\n",
       "      <th>1</th>\n",
       "      <td>0</td>\n",
       "      <td>MULTIPOLYGON Z (((3.57000 3.47431 0.00000, 3.9...</td>\n",
       "      <td>0</td>\n",
       "    </tr>\n",
       "    <tr>\n",
       "      <th>2</th>\n",
       "      <td>0</td>\n",
       "      <td>MULTIPOLYGON Z (((2.80987 3.42244 0.00000, 3.2...</td>\n",
       "      <td>0</td>\n",
       "    </tr>\n",
       "    <tr>\n",
       "      <th>3</th>\n",
       "      <td>0</td>\n",
       "      <td>MULTIPOLYGON Z (((2.84448 3.25558 0.00000, 3.2...</td>\n",
       "      <td>0</td>\n",
       "    </tr>\n",
       "    <tr>\n",
       "      <th>4</th>\n",
       "      <td>0</td>\n",
       "      <td>MULTIPOLYGON Z (((4.40427 3.35663 0.00000, 4.7...</td>\n",
       "      <td>0</td>\n",
       "    </tr>\n",
       "  </tbody>\n",
       "</table>\n",
       "</div>"
      ],
      "text/plain": [
       "   slice_index                                           geometry  frame_id\n",
       "0            0  MULTIPOLYGON Z (((4.68163 2.02457 0.00000, 5.0...         0\n",
       "1            0  MULTIPOLYGON Z (((3.57000 3.47431 0.00000, 3.9...         0\n",
       "2            0  MULTIPOLYGON Z (((2.80987 3.42244 0.00000, 3.2...         0\n",
       "3            0  MULTIPOLYGON Z (((2.84448 3.25558 0.00000, 3.2...         0\n",
       "4            0  MULTIPOLYGON Z (((4.40427 3.35663 0.00000, 4.7...         0"
      ]
     },
     "execution_count": 24,
     "metadata": {},
     "output_type": "execute_result"
    }
   ],
   "source": [
    "df_slice = df_slice[['slice_index', 'GEOMETRY', 'frame_id']]\n",
    "df_slice = df_slice.sort_values(by=['slice_index']).reset_index(drop=True)\n",
    "df_slice = df_slice.rename(columns={'GEOMETRY':'geometry'})\n",
    "df_slice = df_slice.set_geometry(\"geometry\")\n",
    "df_slice = df_slice.set_crs(CRS.from_epsg(4326))\n",
    "df_slice.head()"
   ]
  },
  {
   "cell_type": "code",
   "execution_count": 25,
   "id": "81bd77c4",
   "metadata": {
    "ExecuteTime": {
     "end_time": "2023-02-21T20:59:58.525638Z",
     "start_time": "2023-02-21T20:59:58.523805Z"
    }
   },
   "outputs": [],
   "source": [
    "# %%time\n",
    "# df_frame_gunw_extent = df_slice.dissolve(by='slice_index')"
   ]
  },
  {
   "cell_type": "code",
   "execution_count": 26,
   "id": "bd7c762d",
   "metadata": {
    "ExecuteTime": {
     "end_time": "2023-02-21T20:59:59.113245Z",
     "start_time": "2023-02-21T20:59:58.527126Z"
    }
   },
   "outputs": [
    {
     "data": {
      "text/html": [
       "<div>\n",
       "<style scoped>\n",
       "    .dataframe tbody tr th:only-of-type {\n",
       "        vertical-align: middle;\n",
       "    }\n",
       "\n",
       "    .dataframe tbody tr th {\n",
       "        vertical-align: top;\n",
       "    }\n",
       "\n",
       "    .dataframe thead th {\n",
       "        text-align: right;\n",
       "    }\n",
       "</style>\n",
       "<table border=\"1\" class=\"dataframe\">\n",
       "  <thead>\n",
       "    <tr style=\"text-align: right;\">\n",
       "      <th></th>\n",
       "      <th>slice_index</th>\n",
       "      <th>geometry</th>\n",
       "      <th>frame_id</th>\n",
       "    </tr>\n",
       "  </thead>\n",
       "  <tbody>\n",
       "    <tr>\n",
       "      <th>0</th>\n",
       "      <td>0</td>\n",
       "      <td>MULTIPOLYGON Z (((4.68163 2.02457 0.00000, 5.0...</td>\n",
       "      <td>0</td>\n",
       "    </tr>\n",
       "    <tr>\n",
       "      <th>1</th>\n",
       "      <td>0</td>\n",
       "      <td>MULTIPOLYGON Z (((3.57000 3.47431 0.00000, 3.9...</td>\n",
       "      <td>0</td>\n",
       "    </tr>\n",
       "    <tr>\n",
       "      <th>2</th>\n",
       "      <td>0</td>\n",
       "      <td>MULTIPOLYGON Z (((2.80987 3.42244 0.00000, 3.2...</td>\n",
       "      <td>0</td>\n",
       "    </tr>\n",
       "    <tr>\n",
       "      <th>3</th>\n",
       "      <td>0</td>\n",
       "      <td>MULTIPOLYGON Z (((2.84448 3.25558 0.00000, 3.2...</td>\n",
       "      <td>0</td>\n",
       "    </tr>\n",
       "    <tr>\n",
       "      <th>4</th>\n",
       "      <td>0</td>\n",
       "      <td>MULTIPOLYGON Z (((4.40427 3.35663 0.00000, 4.7...</td>\n",
       "      <td>0</td>\n",
       "    </tr>\n",
       "  </tbody>\n",
       "</table>\n",
       "</div>"
      ],
      "text/plain": [
       "   slice_index                                           geometry  frame_id\n",
       "0            0  MULTIPOLYGON Z (((4.68163 2.02457 0.00000, 5.0...         0\n",
       "1            0  MULTIPOLYGON Z (((3.57000 3.47431 0.00000, 3.9...         0\n",
       "2            0  MULTIPOLYGON Z (((2.80987 3.42244 0.00000, 3.2...         0\n",
       "3            0  MULTIPOLYGON Z (((2.84448 3.25558 0.00000, 3.2...         0\n",
       "4            0  MULTIPOLYGON Z (((4.40427 3.35663 0.00000, 4.7...         0"
      ]
     },
     "execution_count": 26,
     "metadata": {},
     "output_type": "execute_result"
    }
   ],
   "source": [
    "import dask_geopandas\n",
    "\n",
    "df_slice_dask = dask_geopandas.from_geopandas(df_slice, npartitions=10)\n",
    "df_slice_dask.head()"
   ]
  },
  {
   "cell_type": "code",
   "execution_count": 27,
   "id": "a759fc18",
   "metadata": {
    "ExecuteTime": {
     "end_time": "2023-02-21T20:59:59.137522Z",
     "start_time": "2023-02-21T20:59:59.114899Z"
    }
   },
   "outputs": [
    {
     "data": {
      "text/html": [
       "<div><strong>Dask-GeoPandas GeoDataFrame Structure:</strong></div>\n",
       "<div>\n",
       "<style scoped>\n",
       "    .dataframe tbody tr th:only-of-type {\n",
       "        vertical-align: middle;\n",
       "    }\n",
       "\n",
       "    .dataframe tbody tr th {\n",
       "        vertical-align: top;\n",
       "    }\n",
       "\n",
       "    .dataframe thead th {\n",
       "        text-align: right;\n",
       "    }\n",
       "</style>\n",
       "<table border=\"1\" class=\"dataframe\">\n",
       "  <thead>\n",
       "    <tr style=\"text-align: right;\">\n",
       "      <th></th>\n",
       "      <th>frame_id</th>\n",
       "      <th>geometry</th>\n",
       "    </tr>\n",
       "    <tr>\n",
       "      <th>npartitions=1</th>\n",
       "      <th></th>\n",
       "      <th></th>\n",
       "    </tr>\n",
       "  </thead>\n",
       "  <tbody>\n",
       "    <tr>\n",
       "      <th></th>\n",
       "      <td>int64</td>\n",
       "      <td>geometry</td>\n",
       "    </tr>\n",
       "    <tr>\n",
       "      <th></th>\n",
       "      <td>...</td>\n",
       "      <td>...</td>\n",
       "    </tr>\n",
       "  </tbody>\n",
       "</table>\n",
       "</div>\n",
       "<div>Dask Name: set_crs, 5 graph layers</div>"
      ],
      "text/plain": [
       "Dask GeoDataFrame Structure:\n",
       "              frame_id  geometry\n",
       "npartitions=1                   \n",
       "                 int64  geometry\n",
       "                   ...       ...\n",
       "Dask Name: set_crs, 5 graph layers"
      ]
     },
     "execution_count": 27,
     "metadata": {},
     "output_type": "execute_result"
    }
   ],
   "source": [
    "df_frames_0 = df_slice_dask.dissolve(by='slice_index')\n",
    "df_frames_0"
   ]
  },
  {
   "cell_type": "code",
   "execution_count": 28,
   "id": "111079d3",
   "metadata": {
    "ExecuteTime": {
     "end_time": "2023-02-21T21:00:10.203423Z",
     "start_time": "2023-02-21T20:59:59.142690Z"
    }
   },
   "outputs": [
    {
     "name": "stdout",
     "output_type": "stream",
     "text": [
      "CPU times: user 44.1 s, sys: 1.03 s, total: 45.1 s\n",
      "Wall time: 11.1 s\n"
     ]
    },
    {
     "data": {
      "text/html": [
       "<div>\n",
       "<style scoped>\n",
       "    .dataframe tbody tr th:only-of-type {\n",
       "        vertical-align: middle;\n",
       "    }\n",
       "\n",
       "    .dataframe tbody tr th {\n",
       "        vertical-align: top;\n",
       "    }\n",
       "\n",
       "    .dataframe thead th {\n",
       "        text-align: right;\n",
       "    }\n",
       "</style>\n",
       "<table border=\"1\" class=\"dataframe\">\n",
       "  <thead>\n",
       "    <tr style=\"text-align: right;\">\n",
       "      <th></th>\n",
       "      <th>frame_id</th>\n",
       "      <th>geometry</th>\n",
       "    </tr>\n",
       "  </thead>\n",
       "  <tbody>\n",
       "    <tr>\n",
       "      <th>0</th>\n",
       "      <td>0</td>\n",
       "      <td>POLYGON Z ((3.05247 2.25444 0.00000, 3.05247 2...</td>\n",
       "    </tr>\n",
       "    <tr>\n",
       "      <th>1</th>\n",
       "      <td>1</td>\n",
       "      <td>POLYGON Z ((2.84448 3.25558 0.00000, 2.80988 3...</td>\n",
       "    </tr>\n",
       "    <tr>\n",
       "      <th>2</th>\n",
       "      <td>2</td>\n",
       "      <td>POLYGON Z ((2.56639 4.59014 0.00000, 2.56639 4...</td>\n",
       "    </tr>\n",
       "    <tr>\n",
       "      <th>3</th>\n",
       "      <td>3</td>\n",
       "      <td>POLYGON Z ((2.32389 5.75794 0.00000, 2.32389 5...</td>\n",
       "    </tr>\n",
       "    <tr>\n",
       "      <th>4</th>\n",
       "      <td>4</td>\n",
       "      <td>POLYGON Z ((2.08218 6.92580 0.00000, 2.08218 6...</td>\n",
       "    </tr>\n",
       "  </tbody>\n",
       "</table>\n",
       "</div>"
      ],
      "text/plain": [
       "   frame_id                                           geometry\n",
       "0         0  POLYGON Z ((3.05247 2.25444 0.00000, 3.05247 2...\n",
       "1         1  POLYGON Z ((2.84448 3.25558 0.00000, 2.80988 3...\n",
       "2         2  POLYGON Z ((2.56639 4.59014 0.00000, 2.56639 4...\n",
       "3         3  POLYGON Z ((2.32389 5.75794 0.00000, 2.32389 5...\n",
       "4         4  POLYGON Z ((2.08218 6.92580 0.00000, 2.08218 6..."
      ]
     },
     "execution_count": 28,
     "metadata": {},
     "output_type": "execute_result"
    }
   ],
   "source": [
    "%%time\n",
    "\n",
    "df_frame_gunw_extent = df_frames_0.compute()\n",
    "df_frame_gunw_extent = df_frame_gunw_extent.sort_values(by='frame_id').reset_index(drop=True)\n",
    "df_frame_gunw_extent.head()"
   ]
  },
  {
   "cell_type": "markdown",
   "id": "5480980c",
   "metadata": {},
   "source": [
    "# Visualization"
   ]
  },
  {
   "cell_type": "code",
   "execution_count": 29,
   "id": "7a20420c",
   "metadata": {
    "ExecuteTime": {
     "end_time": "2023-02-21T21:00:10.332490Z",
     "start_time": "2023-02-21T21:00:10.204910Z"
    }
   },
   "outputs": [
    {
     "data": {
      "text/plain": [
       "<AxesSubplot: >"
      ]
     },
     "execution_count": 29,
     "metadata": {},
     "output_type": "execute_result"
    },
    {
     "data": {
      "image/png": "[encoded data removed]",
      "text/plain": [
       "<Figure size 640x480 with 1 Axes>"
      ]
     },
     "metadata": {},
     "output_type": "display_data"
    }
   ],
   "source": [
    "fig, ax = plt.subplots()\n",
    "df_frame_gunw_extent.iloc[:10].plot(alpha=.14, ax=ax)\n",
    "df_burst_frame_latitude_aligned.iloc[:10].boundary.plot(color='black', ax=ax)"
   ]
  },
  {
   "cell_type": "code",
   "execution_count": 30,
   "id": "defa2456",
   "metadata": {
    "ExecuteTime": {
     "end_time": "2023-02-21T21:00:10.341264Z",
     "start_time": "2023-02-21T21:00:10.334740Z"
    }
   },
   "outputs": [
    {
     "data": {
      "text/plain": [
       "0    0\n",
       "1    1\n",
       "2    2\n",
       "3    3\n",
       "4    4\n",
       "5    5\n",
       "6    6\n",
       "7    7\n",
       "8    8\n",
       "9    9\n",
       "Name: frame_id, dtype: int64"
      ]
     },
     "execution_count": 30,
     "metadata": {},
     "output_type": "execute_result"
    }
   ],
   "source": [
    "df_frame_gunw_extent.iloc[:10].frame_id"
   ]
  },
  {
   "cell_type": "code",
   "execution_count": 31,
   "id": "4155e0c1",
   "metadata": {
    "ExecuteTime": {
     "end_time": "2023-02-21T21:00:10.349234Z",
     "start_time": "2023-02-21T21:00:10.343474Z"
    }
   },
   "outputs": [
    {
     "data": {
      "text/plain": [
       "0    0\n",
       "1    1\n",
       "2    2\n",
       "3    3\n",
       "4    4\n",
       "5    5\n",
       "6    6\n",
       "7    7\n",
       "8    8\n",
       "9    9\n",
       "Name: frame_id, dtype: int64"
      ]
     },
     "execution_count": 31,
     "metadata": {},
     "output_type": "execute_result"
    }
   ],
   "source": [
    "df_burst_frame_latitude_aligned.iloc[:10].frame_id"
   ]
  },
  {
   "cell_type": "markdown",
   "id": "dbbde477",
   "metadata": {},
   "source": [
    "# Serialization\n",
    "\n",
    "To the enumeration:"
   ]
  },
  {
   "cell_type": "code",
   "execution_count": 32,
   "id": "a73d7abf",
   "metadata": {
    "ExecuteTime": {
     "end_time": "2023-02-21T21:00:14.133920Z",
     "start_time": "2023-02-21T21:00:10.351607Z"
    }
   },
   "outputs": [
    {
     "data": {
      "text/plain": [
       "'s1_frames_latitude_aligned.geojson.zip'"
      ]
     },
     "execution_count": 32,
     "metadata": {},
     "output_type": "execute_result"
    }
   ],
   "source": [
    "from zip_io import to_geojson_zip\n",
    "\n",
    "to_geojson_zip(df_burst_frame_latitude_aligned, 's1_frames_latitude_aligned.geojson.zip')"
   ]
  },
  {
   "cell_type": "markdown",
   "id": "1867f149",
   "metadata": {},
   "source": [
    "To the GUNW plugin:"
   ]
  },
  {
   "cell_type": "code",
   "execution_count": 33,
   "id": "27fa4f64",
   "metadata": {
    "ExecuteTime": {
     "end_time": "2023-02-21T21:00:19.306692Z",
     "start_time": "2023-02-21T21:00:14.135428Z"
    }
   },
   "outputs": [
    {
     "data": {
      "text/plain": [
       "'s1_frames_latitude_aligned_gunw_footprint.geojson.zip'"
      ]
     },
     "execution_count": 33,
     "metadata": {},
     "output_type": "execute_result"
    }
   ],
   "source": [
    "to_geojson_zip(df_frame_gunw_extent, 's1_frames_latitude_aligned_gunw_footprint.geojson.zip')"
   ]
  }
 ],
 "metadata": {
  "kernelspec": {
   "display_name": "s1-frame-generation",
   "language": "python",
   "name": "s1-frame-generation"
  },
  "language_info": {
   "codemirror_mode": {
    "name": "ipython",
    "version": 3
   },
   "file_extension": ".py",
   "mimetype": "text/x-python",
   "name": "python",
   "nbconvert_exporter": "python",
   "pygments_lexer": "ipython3",
   "version": "3.11.0"
  }
 },
 "nbformat": 4,
 "nbformat_minor": 5
}

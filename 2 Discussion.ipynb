{
 "cells": [
  {
   "cell_type": "markdown",
   "id": "f3f52b46",
   "metadata": {},
   "source": [
    "This is just to illustrate some nice ways of visualizing and inspecting the data within jupyter. Importantly, we note that `relative_orbit_number` changes along a track at the equator, so not great to use that to track/group bursts."
   ]
  },
  {
   "cell_type": "code",
   "execution_count": 1,
   "id": "nutritional-diesel",
   "metadata": {
    "ExecuteTime": {
     "end_time": "2022-11-14T18:53:01.934995Z",
     "start_time": "2022-11-14T18:53:01.011625Z"
    }
   },
   "outputs": [],
   "source": [
    "import sqlite3\n",
    "import geopandas as gpd\n",
    "import matplotlib.pyplot as plt\n",
    "import numpy as np\n",
    "from tqdm import tqdm\n",
    "import pandas as pd\n",
    "from shapely.geometry import MultiPolygon, Polygon"
   ]
  },
  {
   "cell_type": "markdown",
   "id": "ignored-sheet",
   "metadata": {},
   "source": [
    "# Read Data"
   ]
  },
  {
   "cell_type": "code",
   "execution_count": 2,
   "id": "voluntary-hearts",
   "metadata": {
    "ExecuteTime": {
     "end_time": "2022-11-14T18:53:25.923324Z",
     "start_time": "2022-11-14T18:53:01.937025Z"
    }
   },
   "outputs": [
    {
     "name": "stdout",
     "output_type": "stream",
     "text": [
      "CPU times: user 1 µs, sys: 1e+03 ns, total: 2 µs\n",
      "Wall time: 2.86 µs\n"
     ]
    }
   ],
   "source": [
    "%time\n",
    "\n",
    "# SQL must wrap the geometry in hex(st_asbinary(...))\n",
    "sql = \"SELECT * FROM burst_id_map;\"\n",
    "con = sqlite3.connect(\"S1_burstid_20220530/IW/sqlite/burst_map_IW_000001_375887.sqlite3\")\n",
    "\n",
    "df = gpd.GeoDataFrame.from_postgis(sql, con, geom_col=\"GEOMETRY\")"
   ]
  },
  {
   "cell_type": "code",
   "execution_count": 3,
   "id": "considerable-copper",
   "metadata": {
    "ExecuteTime": {
     "end_time": "2022-11-14T18:53:25.938956Z",
     "start_time": "2022-11-14T18:53:25.924798Z"
    }
   },
   "outputs": [
    {
     "data": {
      "text/html": [
       "<div>\n",
       "<style scoped>\n",
       "    .dataframe tbody tr th:only-of-type {\n",
       "        vertical-align: middle;\n",
       "    }\n",
       "\n",
       "    .dataframe tbody tr th {\n",
       "        vertical-align: top;\n",
       "    }\n",
       "\n",
       "    .dataframe thead th {\n",
       "        text-align: right;\n",
       "    }\n",
       "</style>\n",
       "<table border=\"1\" class=\"dataframe\">\n",
       "  <thead>\n",
       "    <tr style=\"text-align: right;\">\n",
       "      <th></th>\n",
       "      <th>OGC_FID</th>\n",
       "      <th>GEOMETRY</th>\n",
       "      <th>burst_id</th>\n",
       "      <th>subswath_name</th>\n",
       "      <th>relative_orbit_number</th>\n",
       "      <th>time_from_anx_sec</th>\n",
       "      <th>orbit_pass</th>\n",
       "    </tr>\n",
       "  </thead>\n",
       "  <tbody>\n",
       "    <tr>\n",
       "      <th>0</th>\n",
       "      <td>1</td>\n",
       "      <td>MULTIPOLYGON Z (((3.36758 0.75322 0.00000, 3.7...</td>\n",
       "      <td>1</td>\n",
       "      <td>IW1</td>\n",
       "      <td>1</td>\n",
       "      <td>2.301015</td>\n",
       "      <td>ASCENDING</td>\n",
       "    </tr>\n",
       "    <tr>\n",
       "      <th>1</th>\n",
       "      <td>2</td>\n",
       "      <td>MULTIPOLYGON Z (((4.09178 0.97402 0.00000, 4.5...</td>\n",
       "      <td>1</td>\n",
       "      <td>IW2</td>\n",
       "      <td>1</td>\n",
       "      <td>3.133218</td>\n",
       "      <td>ASCENDING</td>\n",
       "    </tr>\n",
       "    <tr>\n",
       "      <th>2</th>\n",
       "      <td>3</td>\n",
       "      <td>MULTIPOLYGON Z (((4.85545 1.19200 0.00000, 5.2...</td>\n",
       "      <td>1</td>\n",
       "      <td>IW3</td>\n",
       "      <td>1</td>\n",
       "      <td>4.211255</td>\n",
       "      <td>ASCENDING</td>\n",
       "    </tr>\n",
       "    <tr>\n",
       "      <th>3</th>\n",
       "      <td>4</td>\n",
       "      <td>MULTIPOLYGON Z (((3.33269 0.92005 0.00000, 3.7...</td>\n",
       "      <td>2</td>\n",
       "      <td>IW1</td>\n",
       "      <td>1</td>\n",
       "      <td>5.059288</td>\n",
       "      <td>ASCENDING</td>\n",
       "    </tr>\n",
       "    <tr>\n",
       "      <th>4</th>\n",
       "      <td>5</td>\n",
       "      <td>MULTIPOLYGON Z (((4.05690 1.14071 0.00000, 4.4...</td>\n",
       "      <td>2</td>\n",
       "      <td>IW2</td>\n",
       "      <td>1</td>\n",
       "      <td>5.891491</td>\n",
       "      <td>ASCENDING</td>\n",
       "    </tr>\n",
       "  </tbody>\n",
       "</table>\n",
       "</div>"
      ],
      "text/plain": [
       "   OGC_FID                                           GEOMETRY  burst_id  \\\n",
       "0        1  MULTIPOLYGON Z (((3.36758 0.75322 0.00000, 3.7...         1   \n",
       "1        2  MULTIPOLYGON Z (((4.09178 0.97402 0.00000, 4.5...         1   \n",
       "2        3  MULTIPOLYGON Z (((4.85545 1.19200 0.00000, 5.2...         1   \n",
       "3        4  MULTIPOLYGON Z (((3.33269 0.92005 0.00000, 3.7...         2   \n",
       "4        5  MULTIPOLYGON Z (((4.05690 1.14071 0.00000, 4.4...         2   \n",
       "\n",
       "  subswath_name  relative_orbit_number  time_from_anx_sec orbit_pass  \n",
       "0           IW1                      1           2.301015  ASCENDING  \n",
       "1           IW2                      1           3.133218  ASCENDING  \n",
       "2           IW3                      1           4.211255  ASCENDING  \n",
       "3           IW1                      1           5.059288  ASCENDING  \n",
       "4           IW2                      1           5.891491  ASCENDING  "
      ]
     },
     "execution_count": 3,
     "metadata": {},
     "output_type": "execute_result"
    }
   ],
   "source": [
    "df.head()"
   ]
  },
  {
   "cell_type": "markdown",
   "id": "necessary-summary",
   "metadata": {},
   "source": [
    "# Sample Plots\n",
    "\n",
    "We can plot an entire orbit/track (these two words are used interchangeably from my limited experience."
   ]
  },
  {
   "cell_type": "code",
   "execution_count": 4,
   "id": "brazilian-placement",
   "metadata": {
    "ExecuteTime": {
     "end_time": "2022-11-14T18:53:27.095674Z",
     "start_time": "2022-11-14T18:53:25.941175Z"
    }
   },
   "outputs": [
    {
     "data": {
      "text/plain": [
       "<AxesSubplot:>"
      ]
     },
     "execution_count": 4,
     "metadata": {},
     "output_type": "execute_result"
    },
    {
     "data": {
      "image/png": "[encoded data removed]",
      "text/plain": [
       "<Figure size 432x288 with 1 Axes>"
      ]
     },
     "metadata": {
      "needs_background": "light"
     },
     "output_type": "display_data"
    }
   ],
   "source": [
    "df[df.relative_orbit_number == 1].plot()"
   ]
  },
  {
   "cell_type": "code",
   "execution_count": 5,
   "id": "agreed-accuracy",
   "metadata": {
    "ExecuteTime": {
     "end_time": "2022-11-14T18:53:27.192915Z",
     "start_time": "2022-11-14T18:53:27.097296Z"
    }
   },
   "outputs": [
    {
     "data": {
      "text/plain": [
       "<AxesSubplot:>"
      ]
     },
     "execution_count": 5,
     "metadata": {},
     "output_type": "execute_result"
    },
    {
     "data": {
      "image/png": "[encoded data removed]",
      "text/plain": [
       "<Figure size 432x288 with 1 Axes>"
      ]
     },
     "metadata": {
      "needs_background": "light"
     },
     "output_type": "display_data"
    }
   ],
   "source": [
    "df[df.burst_id == 375886].plot()"
   ]
  },
  {
   "cell_type": "markdown",
   "id": "4c70afb7",
   "metadata": {},
   "source": [
    "Let's plot a bunch of bursts at the end of the dataframe and look at the overlap."
   ]
  },
  {
   "cell_type": "code",
   "execution_count": 6,
   "id": "surprised-product",
   "metadata": {
    "ExecuteTime": {
     "end_time": "2022-11-14T18:53:27.305481Z",
     "start_time": "2022-11-14T18:53:27.194802Z"
    }
   },
   "outputs": [
    {
     "data": {
      "text/plain": [
       "<AxesSubplot:>"
      ]
     },
     "execution_count": 6,
     "metadata": {},
     "output_type": "execute_result"
    },
    {
     "data": {
      "image/png": "[encoded data removed]",
      "text/plain": [
       "<Figure size 432x288 with 1 Axes>"
      ]
     },
     "metadata": {
      "needs_background": "light"
     },
     "output_type": "display_data"
    }
   ],
   "source": [
    "df[df.burst_id >= 375880].boundary.plot()"
   ]
  },
  {
   "cell_type": "markdown",
   "id": "54ce32ec",
   "metadata": {},
   "source": [
    "Note how the burst ids collected by 3 also have the subswaths `IW1` to `IW3`."
   ]
  },
  {
   "cell_type": "code",
   "execution_count": 7,
   "id": "returning-finland",
   "metadata": {
    "ExecuteTime": {
     "end_time": "2022-11-14T18:53:27.318120Z",
     "start_time": "2022-11-14T18:53:27.306698Z"
    }
   },
   "outputs": [
    {
     "data": {
      "text/html": [
       "<div>\n",
       "<style scoped>\n",
       "    .dataframe tbody tr th:only-of-type {\n",
       "        vertical-align: middle;\n",
       "    }\n",
       "\n",
       "    .dataframe tbody tr th {\n",
       "        vertical-align: top;\n",
       "    }\n",
       "\n",
       "    .dataframe thead th {\n",
       "        text-align: right;\n",
       "    }\n",
       "</style>\n",
       "<table border=\"1\" class=\"dataframe\">\n",
       "  <thead>\n",
       "    <tr style=\"text-align: right;\">\n",
       "      <th></th>\n",
       "      <th>OGC_FID</th>\n",
       "      <th>GEOMETRY</th>\n",
       "      <th>burst_id</th>\n",
       "      <th>subswath_name</th>\n",
       "      <th>relative_orbit_number</th>\n",
       "      <th>time_from_anx_sec</th>\n",
       "      <th>orbit_pass</th>\n",
       "    </tr>\n",
       "  </thead>\n",
       "  <tbody>\n",
       "    <tr>\n",
       "      <th>1127637</th>\n",
       "      <td>1127638</td>\n",
       "      <td>MULTIPOLYGON Z (((3.66004 -0.63618 0.00000, 4....</td>\n",
       "      <td>375880</td>\n",
       "      <td>IW1</td>\n",
       "      <td>175</td>\n",
       "      <td>5903.750322</td>\n",
       "      <td>ASCENDING</td>\n",
       "    </tr>\n",
       "    <tr>\n",
       "      <th>1127638</th>\n",
       "      <td>1127639</td>\n",
       "      <td>MULTIPOLYGON Z (((4.38445 -0.41412 0.00000, 4....</td>\n",
       "      <td>375880</td>\n",
       "      <td>IW2</td>\n",
       "      <td>175</td>\n",
       "      <td>5904.582525</td>\n",
       "      <td>ASCENDING</td>\n",
       "    </tr>\n",
       "    <tr>\n",
       "      <th>1127639</th>\n",
       "      <td>1127640</td>\n",
       "      <td>MULTIPOLYGON Z (((5.14802 -0.19461 0.00000, 5....</td>\n",
       "      <td>375880</td>\n",
       "      <td>IW3</td>\n",
       "      <td>175</td>\n",
       "      <td>5905.660562</td>\n",
       "      <td>ASCENDING</td>\n",
       "    </tr>\n",
       "    <tr>\n",
       "      <th>1127640</th>\n",
       "      <td>1127641</td>\n",
       "      <td>MULTIPOLYGON Z (((3.62496 -0.46936 0.00000, 4....</td>\n",
       "      <td>375881</td>\n",
       "      <td>IW1</td>\n",
       "      <td>175</td>\n",
       "      <td>5906.508595</td>\n",
       "      <td>ASCENDING</td>\n",
       "    </tr>\n",
       "    <tr>\n",
       "      <th>1127641</th>\n",
       "      <td>1127642</td>\n",
       "      <td>MULTIPOLYGON Z (((4.34932 -0.24745 0.00000, 4....</td>\n",
       "      <td>375881</td>\n",
       "      <td>IW2</td>\n",
       "      <td>175</td>\n",
       "      <td>5907.340798</td>\n",
       "      <td>ASCENDING</td>\n",
       "    </tr>\n",
       "  </tbody>\n",
       "</table>\n",
       "</div>"
      ],
      "text/plain": [
       "         OGC_FID                                           GEOMETRY  burst_id  \\\n",
       "1127637  1127638  MULTIPOLYGON Z (((3.66004 -0.63618 0.00000, 4....    375880   \n",
       "1127638  1127639  MULTIPOLYGON Z (((4.38445 -0.41412 0.00000, 4....    375880   \n",
       "1127639  1127640  MULTIPOLYGON Z (((5.14802 -0.19461 0.00000, 5....    375880   \n",
       "1127640  1127641  MULTIPOLYGON Z (((3.62496 -0.46936 0.00000, 4....    375881   \n",
       "1127641  1127642  MULTIPOLYGON Z (((4.34932 -0.24745 0.00000, 4....    375881   \n",
       "\n",
       "        subswath_name  relative_orbit_number  time_from_anx_sec orbit_pass  \n",
       "1127637           IW1                    175        5903.750322  ASCENDING  \n",
       "1127638           IW2                    175        5904.582525  ASCENDING  \n",
       "1127639           IW3                    175        5905.660562  ASCENDING  \n",
       "1127640           IW1                    175        5906.508595  ASCENDING  \n",
       "1127641           IW2                    175        5907.340798  ASCENDING  "
      ]
     },
     "execution_count": 7,
     "metadata": {},
     "output_type": "execute_result"
    }
   ],
   "source": [
    "df[df.burst_id >= 375880].head()"
   ]
  },
  {
   "cell_type": "markdown",
   "id": "8bf20c64",
   "metadata": {},
   "source": [
    "We can single out an individual burst within a sub-swath via the `OGC_FID`."
   ]
  },
  {
   "cell_type": "code",
   "execution_count": 8,
   "id": "removed-zimbabwe",
   "metadata": {
    "ExecuteTime": {
     "end_time": "2022-11-14T18:53:27.425221Z",
     "start_time": "2022-11-14T18:53:27.319662Z"
    }
   },
   "outputs": [
    {
     "data": {
      "text/plain": [
       "<AxesSubplot:>"
      ]
     },
     "execution_count": 8,
     "metadata": {},
     "output_type": "execute_result"
    },
    {
     "data": {
      "image/png": "[encoded data removed]",
      "text/plain": [
       "<Figure size 432x288 with 1 Axes>"
      ]
     },
     "metadata": {
      "needs_background": "light"
     },
     "output_type": "display_data"
    }
   ],
   "source": [
    "df[df.OGC_FID == 1127644].plot()"
   ]
  },
  {
   "cell_type": "code",
   "execution_count": 9,
   "id": "collectible-harrison",
   "metadata": {
    "ExecuteTime": {
     "end_time": "2022-11-14T18:53:27.521094Z",
     "start_time": "2022-11-14T18:53:27.426759Z"
    }
   },
   "outputs": [
    {
     "data": {
      "text/plain": [
       "<AxesSubplot:>"
      ]
     },
     "execution_count": 9,
     "metadata": {},
     "output_type": "execute_result"
    },
    {
     "data": {
      "image/png": "[encoded data removed]",
      "text/plain": [
       "<Figure size 432x288 with 1 Axes>"
      ]
     },
     "metadata": {
      "needs_background": "light"
     },
     "output_type": "display_data"
    }
   ],
   "source": [
    "df[df.OGC_FID >= 1127657].boundary.plot()"
   ]
  },
  {
   "cell_type": "code",
   "execution_count": 10,
   "id": "unexpected-darwin",
   "metadata": {
    "ExecuteTime": {
     "end_time": "2022-11-14T18:53:27.755851Z",
     "start_time": "2022-11-14T18:53:27.524425Z"
    }
   },
   "outputs": [
    {
     "data": {
      "text/plain": [
       "<AxesSubplot:>"
      ]
     },
     "execution_count": 10,
     "metadata": {},
     "output_type": "execute_result"
    },
    {
     "data": {
      "image/png": "[encoded data removed]",
      "text/plain": [
       "<Figure size 432x288 with 1 Axes>"
      ]
     },
     "metadata": {
      "needs_background": "light"
     },
     "output_type": "display_data"
    }
   ],
   "source": [
    "df[df.OGC_FID <= 2_000].boundary.plot()"
   ]
  },
  {
   "cell_type": "markdown",
   "id": "07ff4b0d",
   "metadata": {},
   "source": [
    "The bursts get substantially warped at high latitudes."
   ]
  },
  {
   "cell_type": "code",
   "execution_count": 11,
   "id": "equivalent-collector",
   "metadata": {
    "ExecuteTime": {
     "end_time": "2022-11-14T18:53:28.491386Z",
     "start_time": "2022-11-14T18:53:27.757341Z"
    }
   },
   "outputs": [
    {
     "data": {
      "text/plain": [
       "<AxesSubplot:>"
      ]
     },
     "execution_count": 11,
     "metadata": {},
     "output_type": "execute_result"
    },
    {
     "data": {
      "image/png": "[encoded data removed]",
      "text/plain": [
       "<Figure size 432x288 with 1 Axes>"
      ]
     },
     "metadata": {
      "needs_background": "light"
     },
     "output_type": "display_data"
    }
   ],
   "source": [
    "df[df.OGC_FID <= 10_000].boundary.cx[-50:-45, :].plot()"
   ]
  },
  {
   "cell_type": "code",
   "execution_count": 12,
   "id": "fiscal-bhutan",
   "metadata": {
    "ExecuteTime": {
     "end_time": "2022-11-14T18:53:28.867120Z",
     "start_time": "2022-11-14T18:53:28.493098Z"
    }
   },
   "outputs": [
    {
     "data": {
      "text/html": [
       "<div>\n",
       "<style scoped>\n",
       "    .dataframe tbody tr th:only-of-type {\n",
       "        vertical-align: middle;\n",
       "    }\n",
       "\n",
       "    .dataframe tbody tr th {\n",
       "        vertical-align: top;\n",
       "    }\n",
       "\n",
       "    .dataframe thead th {\n",
       "        text-align: right;\n",
       "    }\n",
       "</style>\n",
       "<table border=\"1\" class=\"dataframe\">\n",
       "  <thead>\n",
       "    <tr style=\"text-align: right;\">\n",
       "      <th></th>\n",
       "      <th>OGC_FID</th>\n",
       "      <th>GEOMETRY</th>\n",
       "      <th>burst_id</th>\n",
       "      <th>subswath_name</th>\n",
       "      <th>relative_orbit_number</th>\n",
       "      <th>time_from_anx_sec</th>\n",
       "      <th>orbit_pass</th>\n",
       "    </tr>\n",
       "  </thead>\n",
       "  <tbody>\n",
       "    <tr>\n",
       "      <th>1500</th>\n",
       "      <td>1501</td>\n",
       "      <td>MULTIPOLYGON Z (((-44.69493 82.33880 0.00000, ...</td>\n",
       "      <td>501</td>\n",
       "      <td>IW1</td>\n",
       "      <td>1</td>\n",
       "      <td>1381.437489</td>\n",
       "      <td>ASCENDING</td>\n",
       "    </tr>\n",
       "    <tr>\n",
       "      <th>1503</th>\n",
       "      <td>1504</td>\n",
       "      <td>MULTIPOLYGON Z (((-45.51545 82.46574 0.00000, ...</td>\n",
       "      <td>502</td>\n",
       "      <td>IW1</td>\n",
       "      <td>1</td>\n",
       "      <td>1384.195762</td>\n",
       "      <td>ASCENDING</td>\n",
       "    </tr>\n",
       "    <tr>\n",
       "      <th>1506</th>\n",
       "      <td>1507</td>\n",
       "      <td>MULTIPOLYGON Z (((-46.36318 82.59116 0.00000, ...</td>\n",
       "      <td>503</td>\n",
       "      <td>IW1</td>\n",
       "      <td>1</td>\n",
       "      <td>1386.954035</td>\n",
       "      <td>ASCENDING</td>\n",
       "    </tr>\n",
       "    <tr>\n",
       "      <th>1509</th>\n",
       "      <td>1510</td>\n",
       "      <td>MULTIPOLYGON Z (((-47.23917 82.71499 0.00000, ...</td>\n",
       "      <td>504</td>\n",
       "      <td>IW1</td>\n",
       "      <td>1</td>\n",
       "      <td>1389.712308</td>\n",
       "      <td>ASCENDING</td>\n",
       "    </tr>\n",
       "    <tr>\n",
       "      <th>1512</th>\n",
       "      <td>1513</td>\n",
       "      <td>MULTIPOLYGON Z (((-48.13909 82.83777 0.00000, ...</td>\n",
       "      <td>505</td>\n",
       "      <td>IW1</td>\n",
       "      <td>1</td>\n",
       "      <td>1392.470581</td>\n",
       "      <td>ASCENDING</td>\n",
       "    </tr>\n",
       "  </tbody>\n",
       "</table>\n",
       "</div>"
      ],
      "text/plain": [
       "      OGC_FID                                           GEOMETRY  burst_id  \\\n",
       "1500     1501  MULTIPOLYGON Z (((-44.69493 82.33880 0.00000, ...       501   \n",
       "1503     1504  MULTIPOLYGON Z (((-45.51545 82.46574 0.00000, ...       502   \n",
       "1506     1507  MULTIPOLYGON Z (((-46.36318 82.59116 0.00000, ...       503   \n",
       "1509     1510  MULTIPOLYGON Z (((-47.23917 82.71499 0.00000, ...       504   \n",
       "1512     1513  MULTIPOLYGON Z (((-48.13909 82.83777 0.00000, ...       505   \n",
       "\n",
       "     subswath_name  relative_orbit_number  time_from_anx_sec orbit_pass  \n",
       "1500           IW1                      1        1381.437489  ASCENDING  \n",
       "1503           IW1                      1        1384.195762  ASCENDING  \n",
       "1506           IW1                      1        1386.954035  ASCENDING  \n",
       "1509           IW1                      1        1389.712308  ASCENDING  \n",
       "1512           IW1                      1        1392.470581  ASCENDING  "
      ]
     },
     "execution_count": 12,
     "metadata": {},
     "output_type": "execute_result"
    }
   ],
   "source": [
    "df[df.OGC_FID <= 10_000].cx[-50:-45, :].head()"
   ]
  },
  {
   "cell_type": "code",
   "execution_count": 13,
   "id": "national-listening",
   "metadata": {
    "ExecuteTime": {
     "end_time": "2022-11-14T18:53:28.967984Z",
     "start_time": "2022-11-14T18:53:28.868765Z"
    }
   },
   "outputs": [
    {
     "data": {
      "text/plain": [
       "<AxesSubplot:>"
      ]
     },
     "execution_count": 13,
     "metadata": {},
     "output_type": "execute_result"
    },
    {
     "data": {
      "image/png": "[encoded data removed]",
      "text/plain": [
       "<Figure size 432x288 with 1 Axes>"
      ]
     },
     "metadata": {
      "needs_background": "light"
     },
     "output_type": "display_data"
    }
   ],
   "source": [
    "df[df.burst_id == 501].plot()"
   ]
  },
  {
   "cell_type": "code",
   "execution_count": 14,
   "id": "distant-illustration",
   "metadata": {
    "ExecuteTime": {
     "end_time": "2022-11-14T18:53:29.064054Z",
     "start_time": "2022-11-14T18:53:28.969646Z"
    }
   },
   "outputs": [
    {
     "data": {
      "text/plain": [
       "<AxesSubplot:>"
      ]
     },
     "execution_count": 14,
     "metadata": {},
     "output_type": "execute_result"
    },
    {
     "data": {
      "image/png": "[encoded data removed]",
      "text/plain": [
       "<Figure size 432x288 with 1 Axes>"
      ]
     },
     "metadata": {
      "needs_background": "light"
     },
     "output_type": "display_data"
    }
   ],
   "source": [
    "df[df.burst_id == 503].plot()"
   ]
  },
  {
   "cell_type": "code",
   "execution_count": 15,
   "id": "white-resistance",
   "metadata": {
    "ExecuteTime": {
     "end_time": "2022-11-14T18:53:29.458759Z",
     "start_time": "2022-11-14T18:53:29.066016Z"
    }
   },
   "outputs": [
    {
     "data": {
      "text/plain": [
       "2"
      ]
     },
     "execution_count": 15,
     "metadata": {},
     "output_type": "execute_result"
    }
   ],
   "source": [
    "len(df[df.relative_orbit_number == 2].dissolve().geometry[0].geoms)"
   ]
  },
  {
   "cell_type": "markdown",
   "id": "certified-bacon",
   "metadata": {},
   "source": [
    "# Should we traverse relative orbits?\n",
    "\n",
    "Answer: no. Why? Because of those issues at the equator noted above.\n",
    "\n",
    "We will take a closer look at where these track/orbit discontinuities occur."
   ]
  },
  {
   "cell_type": "code",
   "execution_count": 16,
   "id": "comparable-annotation",
   "metadata": {
    "ExecuteTime": {
     "end_time": "2022-11-14T18:53:30.666253Z",
     "start_time": "2022-11-14T18:53:29.460426Z"
    }
   },
   "outputs": [
    {
     "name": "stdout",
     "output_type": "stream",
     "text": [
      "CPU times: user 1.18 s, sys: 16.3 ms, total: 1.2 s\n",
      "Wall time: 1.2 s\n"
     ]
    }
   ],
   "source": [
    "%%time\n",
    "df_temp = df[[ 'relative_orbit_number', 'GEOMETRY']]\n",
    "df_temp = df_temp[df_temp.relative_orbit_number.isin([1, 2,3])]\n",
    "df_dis = df_temp.dissolve(by='relative_orbit_number').reset_index()"
   ]
  },
  {
   "cell_type": "code",
   "execution_count": 17,
   "id": "smoking-police",
   "metadata": {
    "ExecuteTime": {
     "end_time": "2022-11-14T18:53:30.751422Z",
     "start_time": "2022-11-14T18:53:30.668052Z"
    }
   },
   "outputs": [
    {
     "data": {
      "text/html": [
       "<div>\n",
       "<style scoped>\n",
       "    .dataframe tbody tr th:only-of-type {\n",
       "        vertical-align: middle;\n",
       "    }\n",
       "\n",
       "    .dataframe tbody tr th {\n",
       "        vertical-align: top;\n",
       "    }\n",
       "\n",
       "    .dataframe thead th {\n",
       "        text-align: right;\n",
       "    }\n",
       "</style>\n",
       "<table border=\"1\" class=\"dataframe\">\n",
       "  <thead>\n",
       "    <tr style=\"text-align: right;\">\n",
       "      <th></th>\n",
       "      <th>relative_orbit_number</th>\n",
       "      <th>GEOMETRY</th>\n",
       "    </tr>\n",
       "  </thead>\n",
       "  <tbody>\n",
       "    <tr>\n",
       "      <th>0</th>\n",
       "      <td>1</td>\n",
       "      <td>MULTIPOLYGON Z (((-180.00000 62.07952 0.00000,...</td>\n",
       "    </tr>\n",
       "    <tr>\n",
       "      <th>1</th>\n",
       "      <td>2</td>\n",
       "      <td>MULTIPOLYGON Z (((-65.84127 81.72139 0.00000, ...</td>\n",
       "    </tr>\n",
       "    <tr>\n",
       "      <th>2</th>\n",
       "      <td>3</td>\n",
       "      <td>MULTIPOLYGON Z (((-76.86516 77.51464 0.00000, ...</td>\n",
       "    </tr>\n",
       "  </tbody>\n",
       "</table>\n",
       "</div>"
      ],
      "text/plain": [
       "   relative_orbit_number                                           GEOMETRY\n",
       "0                      1  MULTIPOLYGON Z (((-180.00000 62.07952 0.00000,...\n",
       "1                      2  MULTIPOLYGON Z (((-65.84127 81.72139 0.00000, ...\n",
       "2                      3  MULTIPOLYGON Z (((-76.86516 77.51464 0.00000, ..."
      ]
     },
     "execution_count": 17,
     "metadata": {},
     "output_type": "execute_result"
    }
   ],
   "source": [
    "df_dis"
   ]
  },
  {
   "cell_type": "code",
   "execution_count": 18,
   "id": "corrected-constitution",
   "metadata": {
    "ExecuteTime": {
     "end_time": "2022-11-14T18:53:30.874876Z",
     "start_time": "2022-11-14T18:53:30.752994Z"
    }
   },
   "outputs": [
    {
     "data": {
      "text/plain": [
       "<AxesSubplot:>"
      ]
     },
     "execution_count": 18,
     "metadata": {},
     "output_type": "execute_result"
    },
    {
     "data": {
      "image/png": "[encoded data removed]",
      "text/plain": [
       "<Figure size 432x288 with 1 Axes>"
      ]
     },
     "metadata": {
      "needs_background": "light"
     },
     "output_type": "display_data"
    }
   ],
   "source": [
    "df_dis_p = df_dis.copy()\n",
    "df_dis_p['relative_orbit_number_s'] = df_dis['relative_orbit_number'].map(str)\n",
    "df_dis_p.plot(column='relative_orbit_number_s', legend=True)"
   ]
  },
  {
   "cell_type": "code",
   "execution_count": 19,
   "id": "rolled-registrar",
   "metadata": {
    "ExecuteTime": {
     "end_time": "2022-11-14T18:53:30.994907Z",
     "start_time": "2022-11-14T18:53:30.876433Z"
    }
   },
   "outputs": [
    {
     "data": {
      "text/plain": [
       "(-5.0, 5.0)"
      ]
     },
     "execution_count": 19,
     "metadata": {},
     "output_type": "execute_result"
    },
    {
     "data": {
      "image/png": "[encoded data removed]",
      "text/plain": [
       "<Figure size 432x288 with 1 Axes>"
      ]
     },
     "metadata": {
      "needs_background": "light"
     },
     "output_type": "display_data"
    }
   ],
   "source": [
    "fig, ax = plt.subplots()\n",
    "\n",
    "df_dis_p.plot(column='relative_orbit_number_s', legend=True, ax=ax)\n",
    "ax.set_xlim(-47,-43)\n",
    "ax.set_ylim(-5, 5)"
   ]
  },
  {
   "cell_type": "code",
   "execution_count": 20,
   "id": "asian-accused",
   "metadata": {
    "ExecuteTime": {
     "end_time": "2022-11-14T18:53:31.225434Z",
     "start_time": "2022-11-14T18:53:30.996548Z"
    }
   },
   "outputs": [
    {
     "data": {
      "text/plain": [
       "(-5.0, 5.0)"
      ]
     },
     "execution_count": 20,
     "metadata": {},
     "output_type": "execute_result"
    },
    {
     "data": {
      "image/png": "[encoded data removed]",
      "text/plain": [
       "<Figure size 432x288 with 2 Axes>"
      ]
     },
     "metadata": {
      "needs_background": "light"
     },
     "output_type": "display_data"
    }
   ],
   "source": [
    "fig, ax = plt.subplots()\n",
    "\n",
    "df[df['relative_orbit_number'].isin([1, 2, 3])].cx[-48:-43, -5:5].plot(column='burst_id', legend=True, ax=ax)\n",
    "ax.set_xlim(-47,-43)\n",
    "ax.set_ylim(-5, 5)"
   ]
  },
  {
   "cell_type": "code",
   "execution_count": 21,
   "id": "coordinate-summary",
   "metadata": {
    "ExecuteTime": {
     "end_time": "2022-11-14T18:53:31.345787Z",
     "start_time": "2022-11-14T18:53:31.227059Z"
    }
   },
   "outputs": [
    {
     "data": {
      "text/plain": [
       "(-5.0, 5.0)"
      ]
     },
     "execution_count": 21,
     "metadata": {},
     "output_type": "execute_result"
    },
    {
     "data": {
      "image/png": "[encoded data removed]",
      "text/plain": [
       "<Figure size 432x288 with 1 Axes>"
      ]
     },
     "metadata": {
      "needs_background": "light"
     },
     "output_type": "display_data"
    }
   ],
   "source": [
    "fig, ax = plt.subplots()\n",
    "\n",
    "df_dis_p.plot(column='relative_orbit_number_s', legend=True, ax=ax)\n",
    "ax.set_xlim(-47,-43)\n",
    "ax.set_ylim(-5, 5)"
   ]
  },
  {
   "cell_type": "code",
   "execution_count": 22,
   "id": "acknowledged-combining",
   "metadata": {
    "ExecuteTime": {
     "end_time": "2022-11-14T18:53:34.202721Z",
     "start_time": "2022-11-14T18:53:31.347295Z"
    }
   },
   "outputs": [
    {
     "data": {
      "text/plain": [
       "(-5.0, 5.0)"
      ]
     },
     "execution_count": 22,
     "metadata": {},
     "output_type": "execute_result"
    },
    {
     "data": {
      "image/png": "[encoded data removed]",
      "text/plain": [
       "<Figure size 432x288 with 1 Axes>"
      ]
     },
     "metadata": {
      "needs_background": "light"
     },
     "output_type": "display_data"
    }
   ],
   "source": [
    "fig, ax = plt.subplots()\n",
    "s = np.s_[-45:-43,-5: 5]\n",
    "df.cx[s].plot(column='relative_orbit_number', alpha=.3, ax= ax)\n",
    "df_dis_p.cx[s].plot(ax=ax)\n",
    "\n",
    "ax.set_xlim(-47,-43)\n",
    "ax.set_ylim(-5, 5)"
   ]
  },
  {
   "cell_type": "markdown",
   "id": "35943608",
   "metadata": {},
   "source": [
    "# Dateline Issues\n",
    "\n",
    "They are disconnected polygons across the polygon that are joined. It may be beneficial to join these."
   ]
  },
  {
   "cell_type": "code",
   "execution_count": 23,
   "id": "0843ead8",
   "metadata": {
    "ExecuteTime": {
     "end_time": "2022-11-14T18:53:34.207364Z",
     "start_time": "2022-11-14T18:53:34.204966Z"
    }
   },
   "outputs": [],
   "source": [
    "buffer = 5"
   ]
  },
  {
   "cell_type": "code",
   "execution_count": 24,
   "id": "726b1570",
   "metadata": {
    "ExecuteTime": {
     "end_time": "2022-11-14T18:53:35.166304Z",
     "start_time": "2022-11-14T18:53:34.209301Z"
    }
   },
   "outputs": [
    {
     "data": {
      "text/plain": [
       "(1127661, 0)"
      ]
     },
     "execution_count": 24,
     "metadata": {},
     "output_type": "execute_result"
    }
   ],
   "source": [
    "ind = df.GEOMETRY.map(lambda geo: geo.geom_type == 'Polygon')\n",
    "ind.size, ind.sum()"
   ]
  },
  {
   "cell_type": "code",
   "execution_count": 25,
   "id": "bb194d31",
   "metadata": {
    "ExecuteTime": {
     "end_time": "2022-11-14T18:54:15.182412Z",
     "start_time": "2022-11-14T18:53:35.167874Z"
    }
   },
   "outputs": [],
   "source": [
    "df_dateline = df.cx[:-180 + buffer,:]"
   ]
  },
  {
   "cell_type": "code",
   "execution_count": 26,
   "id": "698b4747",
   "metadata": {
    "ExecuteTime": {
     "end_time": "2022-11-14T18:54:18.772460Z",
     "start_time": "2022-11-14T18:54:15.183862Z"
    }
   },
   "outputs": [
    {
     "data": {
      "text/plain": [
       "<AxesSubplot:>"
      ]
     },
     "execution_count": 26,
     "metadata": {},
     "output_type": "execute_result"
    },
    {
     "data": {
      "image/png": "[encoded data removed]",
      "text/plain": [
       "<Figure size 432x288 with 1 Axes>"
      ]
     },
     "metadata": {
      "needs_background": "light"
     },
     "output_type": "display_data"
    }
   ],
   "source": [
    "df_dateline.plot()"
   ]
  },
  {
   "cell_type": "markdown",
   "id": "7cce5a14",
   "metadata": {},
   "source": [
    "How we can fix it. Basically explode along the dateline. Might not be the most elegant, but gets the job done."
   ]
  },
  {
   "cell_type": "code",
   "execution_count": 27,
   "id": "7fe65b6a",
   "metadata": {
    "ExecuteTime": {
     "end_time": "2022-11-14T18:54:50.918745Z",
     "start_time": "2022-11-14T18:54:18.774297Z"
    }
   },
   "outputs": [],
   "source": [
    "df_dateline_l = df_dateline.copy()\n",
    "df_dateline_r = df_dateline.copy()\n",
    "\n",
    "geo_l = df_dateline.translate(xoff=-360).buffer(1e-7)\n",
    "df_dateline_l.geometry = df_dateline.geometry.union(geo_l)\n",
    "df_dateline_l_f = df_dateline_l.dissolve(by='OGC_FID', aggfunc='first').explode(index_parts=False)\n",
    "df_dateline_l_f = df_dateline_l_f.cx[-180- 80:-180 + buffer, :].reset_index(drop=False)\n",
    "\n",
    "geo_r = df_dateline.translate(xoff=360).buffer(1e-7)\n",
    "df_dateline_r.geometry = df_dateline.geometry.union(geo_r)\n",
    "df_dateline_r_f = df_dateline_r.dissolve(by='OGC_FID', aggfunc='first').explode(index_parts=False)\n",
    "df_dateline_r_f = df_dateline_r_f.cx[180 - buffer: 180 + 80, :].reset_index(drop=False)"
   ]
  },
  {
   "cell_type": "code",
   "execution_count": 28,
   "id": "f47942ed",
   "metadata": {
    "ExecuteTime": {
     "end_time": "2022-11-14T18:54:50.935124Z",
     "start_time": "2022-11-14T18:54:50.924406Z"
    }
   },
   "outputs": [
    {
     "data": {
      "text/html": [
       "<div>\n",
       "<style scoped>\n",
       "    .dataframe tbody tr th:only-of-type {\n",
       "        vertical-align: middle;\n",
       "    }\n",
       "\n",
       "    .dataframe tbody tr th {\n",
       "        vertical-align: top;\n",
       "    }\n",
       "\n",
       "    .dataframe thead th {\n",
       "        text-align: right;\n",
       "    }\n",
       "</style>\n",
       "<table border=\"1\" class=\"dataframe\">\n",
       "  <thead>\n",
       "    <tr style=\"text-align: right;\">\n",
       "      <th></th>\n",
       "      <th>OGC_FID</th>\n",
       "      <th>burst_id</th>\n",
       "      <th>subswath_name</th>\n",
       "      <th>relative_orbit_number</th>\n",
       "      <th>time_from_anx_sec</th>\n",
       "      <th>orbit_pass</th>\n",
       "      <th>GEOMETRY</th>\n",
       "    </tr>\n",
       "  </thead>\n",
       "  <tbody>\n",
       "    <tr>\n",
       "      <th>0</th>\n",
       "      <td>1818</td>\n",
       "      <td>606</td>\n",
       "      <td>IW3</td>\n",
       "      <td>1</td>\n",
       "      <td>1672.966389</td>\n",
       "      <td>DESCENDING</td>\n",
       "      <td>POLYGON Z ((188.265 77.815 0.000, 188.265 77.8...</td>\n",
       "    </tr>\n",
       "    <tr>\n",
       "      <th>1</th>\n",
       "      <td>1821</td>\n",
       "      <td>607</td>\n",
       "      <td>IW3</td>\n",
       "      <td>1</td>\n",
       "      <td>1675.724662</td>\n",
       "      <td>DESCENDING</td>\n",
       "      <td>POLYGON Z ((188.034 77.657 0.000, 188.034 77.6...</td>\n",
       "    </tr>\n",
       "    <tr>\n",
       "      <th>2</th>\n",
       "      <td>1824</td>\n",
       "      <td>608</td>\n",
       "      <td>IW3</td>\n",
       "      <td>1</td>\n",
       "      <td>1678.482935</td>\n",
       "      <td>DESCENDING</td>\n",
       "      <td>POLYGON Z ((187.813 77.497 0.000, 187.813 77.4...</td>\n",
       "    </tr>\n",
       "    <tr>\n",
       "      <th>3</th>\n",
       "      <td>1827</td>\n",
       "      <td>609</td>\n",
       "      <td>IW3</td>\n",
       "      <td>1</td>\n",
       "      <td>1681.241208</td>\n",
       "      <td>DESCENDING</td>\n",
       "      <td>POLYGON Z ((187.592 77.338 0.000, 187.592 77.3...</td>\n",
       "    </tr>\n",
       "    <tr>\n",
       "      <th>4</th>\n",
       "      <td>1830</td>\n",
       "      <td>610</td>\n",
       "      <td>IW3</td>\n",
       "      <td>1</td>\n",
       "      <td>1683.999481</td>\n",
       "      <td>DESCENDING</td>\n",
       "      <td>POLYGON Z ((187.376 77.179 0.000, 187.376 77.1...</td>\n",
       "    </tr>\n",
       "  </tbody>\n",
       "</table>\n",
       "</div>"
      ],
      "text/plain": [
       "   OGC_FID  burst_id subswath_name  relative_orbit_number  time_from_anx_sec  \\\n",
       "0     1818       606           IW3                      1        1672.966389   \n",
       "1     1821       607           IW3                      1        1675.724662   \n",
       "2     1824       608           IW3                      1        1678.482935   \n",
       "3     1827       609           IW3                      1        1681.241208   \n",
       "4     1830       610           IW3                      1        1683.999481   \n",
       "\n",
       "   orbit_pass                                           GEOMETRY  \n",
       "0  DESCENDING  POLYGON Z ((188.265 77.815 0.000, 188.265 77.8...  \n",
       "1  DESCENDING  POLYGON Z ((188.034 77.657 0.000, 188.034 77.6...  \n",
       "2  DESCENDING  POLYGON Z ((187.813 77.497 0.000, 187.813 77.4...  \n",
       "3  DESCENDING  POLYGON Z ((187.592 77.338 0.000, 187.592 77.3...  \n",
       "4  DESCENDING  POLYGON Z ((187.376 77.179 0.000, 187.376 77.1...  "
      ]
     },
     "execution_count": 28,
     "metadata": {},
     "output_type": "execute_result"
    }
   ],
   "source": [
    "df_dateline_r_f.head()"
   ]
  },
  {
   "cell_type": "code",
   "execution_count": 29,
   "id": "7903f7c2",
   "metadata": {
    "ExecuteTime": {
     "end_time": "2022-11-14T18:54:54.084243Z",
     "start_time": "2022-11-14T18:54:50.936668Z"
    }
   },
   "outputs": [
    {
     "data": {
      "text/plain": [
       "<AxesSubplot:>"
      ]
     },
     "execution_count": 29,
     "metadata": {},
     "output_type": "execute_result"
    },
    {
     "data": {
      "image/png": "[encoded data removed]",
      "text/plain": [
       "<Figure size 432x288 with 1 Axes>"
      ]
     },
     "metadata": {
      "needs_background": "light"
     },
     "output_type": "display_data"
    }
   ],
   "source": [
    "df_dateline_r_f.plot()"
   ]
  },
  {
   "cell_type": "code",
   "execution_count": 30,
   "id": "50953681",
   "metadata": {
    "ExecuteTime": {
     "end_time": "2022-11-14T18:54:56.998153Z",
     "start_time": "2022-11-14T18:54:54.086036Z"
    }
   },
   "outputs": [
    {
     "data": {
      "text/plain": [
       "<AxesSubplot:>"
      ]
     },
     "execution_count": 30,
     "metadata": {},
     "output_type": "execute_result"
    },
    {
     "data": {
      "image/png": "[encoded data removed]",
      "text/plain": [
       "<Figure size 432x288 with 1 Axes>"
      ]
     },
     "metadata": {
      "needs_background": "light"
     },
     "output_type": "display_data"
    }
   ],
   "source": [
    "df_dateline_l_f.plot()"
   ]
  },
  {
   "cell_type": "code",
   "execution_count": 31,
   "id": "d924fe59",
   "metadata": {
    "ExecuteTime": {
     "end_time": "2022-11-14T18:54:57.003725Z",
     "start_time": "2022-11-14T18:54:56.999918Z"
    }
   },
   "outputs": [],
   "source": [
    "OGC_FIDs_l = df_dateline_l_f.OGC_FID.tolist()\n",
    "OGC_FIDs_r = df_dateline_r_f.OGC_FID.tolist()"
   ]
  },
  {
   "cell_type": "code",
   "execution_count": 32,
   "id": "525954e4",
   "metadata": {
    "ExecuteTime": {
     "end_time": "2022-11-14T18:55:20.788475Z",
     "start_time": "2022-11-14T18:54:57.005336Z"
    }
   },
   "outputs": [
    {
     "data": {
      "text/html": [
       "<div>\n",
       "<style scoped>\n",
       "    .dataframe tbody tr th:only-of-type {\n",
       "        vertical-align: middle;\n",
       "    }\n",
       "\n",
       "    .dataframe tbody tr th {\n",
       "        vertical-align: top;\n",
       "    }\n",
       "\n",
       "    .dataframe thead th {\n",
       "        text-align: right;\n",
       "    }\n",
       "</style>\n",
       "<table border=\"1\" class=\"dataframe\">\n",
       "  <thead>\n",
       "    <tr style=\"text-align: right;\">\n",
       "      <th></th>\n",
       "      <th>OGC_FID</th>\n",
       "      <th>burst_id</th>\n",
       "      <th>subswath_name</th>\n",
       "      <th>relative_orbit_number</th>\n",
       "      <th>time_from_anx_sec</th>\n",
       "      <th>orbit_pass</th>\n",
       "      <th>GEOMETRY</th>\n",
       "    </tr>\n",
       "  </thead>\n",
       "  <tbody>\n",
       "    <tr>\n",
       "      <th>0</th>\n",
       "      <td>1</td>\n",
       "      <td>1</td>\n",
       "      <td>IW1</td>\n",
       "      <td>1</td>\n",
       "      <td>2.301015</td>\n",
       "      <td>ASCENDING</td>\n",
       "      <td>POLYGON Z ((3.36758 0.75322 0.00000, 3.76300 0...</td>\n",
       "    </tr>\n",
       "    <tr>\n",
       "      <th>1</th>\n",
       "      <td>2</td>\n",
       "      <td>1</td>\n",
       "      <td>IW2</td>\n",
       "      <td>1</td>\n",
       "      <td>3.133218</td>\n",
       "      <td>ASCENDING</td>\n",
       "      <td>POLYGON Z ((4.09178 0.97402 0.00000, 4.50253 1...</td>\n",
       "    </tr>\n",
       "    <tr>\n",
       "      <th>2</th>\n",
       "      <td>3</td>\n",
       "      <td>1</td>\n",
       "      <td>IW3</td>\n",
       "      <td>1</td>\n",
       "      <td>4.211255</td>\n",
       "      <td>ASCENDING</td>\n",
       "      <td>POLYGON Z ((4.85545 1.19200 0.00000, 5.21485 1...</td>\n",
       "    </tr>\n",
       "    <tr>\n",
       "      <th>3</th>\n",
       "      <td>4</td>\n",
       "      <td>2</td>\n",
       "      <td>IW1</td>\n",
       "      <td>1</td>\n",
       "      <td>5.059288</td>\n",
       "      <td>ASCENDING</td>\n",
       "      <td>POLYGON Z ((3.33269 0.92005 0.00000, 3.72810 1...</td>\n",
       "    </tr>\n",
       "    <tr>\n",
       "      <th>4</th>\n",
       "      <td>5</td>\n",
       "      <td>2</td>\n",
       "      <td>IW2</td>\n",
       "      <td>1</td>\n",
       "      <td>5.891491</td>\n",
       "      <td>ASCENDING</td>\n",
       "      <td>POLYGON Z ((4.05690 1.14071 0.00000, 4.46767 1...</td>\n",
       "    </tr>\n",
       "  </tbody>\n",
       "</table>\n",
       "</div>"
      ],
      "text/plain": [
       "   OGC_FID  burst_id subswath_name  relative_orbit_number  time_from_anx_sec  \\\n",
       "0        1         1           IW1                      1           2.301015   \n",
       "1        2         1           IW2                      1           3.133218   \n",
       "2        3         1           IW3                      1           4.211255   \n",
       "3        4         2           IW1                      1           5.059288   \n",
       "4        5         2           IW2                      1           5.891491   \n",
       "\n",
       "  orbit_pass                                           GEOMETRY  \n",
       "0  ASCENDING  POLYGON Z ((3.36758 0.75322 0.00000, 3.76300 0...  \n",
       "1  ASCENDING  POLYGON Z ((4.09178 0.97402 0.00000, 4.50253 1...  \n",
       "2  ASCENDING  POLYGON Z ((4.85545 1.19200 0.00000, 5.21485 1...  \n",
       "3  ASCENDING  POLYGON Z ((3.33269 0.92005 0.00000, 3.72810 1...  \n",
       "4  ASCENDING  POLYGON Z ((4.05690 1.14071 0.00000, 4.46767 1...  "
      ]
     },
     "execution_count": 32,
     "metadata": {},
     "output_type": "execute_result"
    }
   ],
   "source": [
    "df_fixed = df[~df.OGC_FID.isin(OGC_FIDs_l + OGC_FIDs_r)].explode(index_parts=False)\n",
    "df_fixed = pd.concat([df_fixed, df_dateline_r_f, df_dateline_l_f], axis=0)\n",
    "df_fixed.head()"
   ]
  }
 ],
 "metadata": {
  "kernelspec": {
   "display_name": "s1-enumerator",
   "language": "python",
   "name": "s1-enumerator"
  },
  "language_info": {
   "codemirror_mode": {
    "name": "ipython",
    "version": 3
   },
   "file_extension": ".py",
   "mimetype": "text/x-python",
   "name": "python",
   "nbconvert_exporter": "python",
   "pygments_lexer": "ipython3",
   "version": "3.9.7"
  }
 },
 "nbformat": 4,
 "nbformat_minor": 5
}
